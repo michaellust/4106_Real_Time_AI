{
  "nbformat": 4,
  "nbformat_minor": 0,
  "metadata": {
    "colab": {
      "name": "ECGR4_4106_Homework#3_MichaelLust.ipynb",
      "provenance": [],
      "collapsed_sections": []
    },
    "kernelspec": {
      "name": "python3",
      "display_name": "Python 3"
    },
    "language_info": {
      "name": "python"
    },
    "accelerator": "GPU",
    "widgets": {
      "application/vnd.jupyter.widget-state+json": {
        "f76bad1b456e4e65b926d6430e4084d0": {
          "model_module": "@jupyter-widgets/controls",
          "model_name": "HBoxModel",
          "model_module_version": "1.5.0",
          "state": {
            "_dom_classes": [],
            "_model_module": "@jupyter-widgets/controls",
            "_model_module_version": "1.5.0",
            "_model_name": "HBoxModel",
            "_view_count": null,
            "_view_module": "@jupyter-widgets/controls",
            "_view_module_version": "1.5.0",
            "_view_name": "HBoxView",
            "box_style": "",
            "children": [
              "IPY_MODEL_bc6e571e7f2d4a37806d64e8315f428a",
              "IPY_MODEL_862170477fb84d5ba917cca2814c2ae7",
              "IPY_MODEL_e871beaab10f427cb4cc5e96db803af9"
            ],
            "layout": "IPY_MODEL_f2601d27e54f4b91a3d211ba73e867d7"
          }
        },
        "bc6e571e7f2d4a37806d64e8315f428a": {
          "model_module": "@jupyter-widgets/controls",
          "model_name": "HTMLModel",
          "model_module_version": "1.5.0",
          "state": {
            "_dom_classes": [],
            "_model_module": "@jupyter-widgets/controls",
            "_model_module_version": "1.5.0",
            "_model_name": "HTMLModel",
            "_view_count": null,
            "_view_module": "@jupyter-widgets/controls",
            "_view_module_version": "1.5.0",
            "_view_name": "HTMLView",
            "description": "",
            "description_tooltip": null,
            "layout": "IPY_MODEL_77f5f02cb5a44af3b217809842ebf421",
            "placeholder": "​",
            "style": "IPY_MODEL_011825dd21f5489da8940c0cdbc57346",
            "value": ""
          }
        },
        "862170477fb84d5ba917cca2814c2ae7": {
          "model_module": "@jupyter-widgets/controls",
          "model_name": "FloatProgressModel",
          "model_module_version": "1.5.0",
          "state": {
            "_dom_classes": [],
            "_model_module": "@jupyter-widgets/controls",
            "_model_module_version": "1.5.0",
            "_model_name": "FloatProgressModel",
            "_view_count": null,
            "_view_module": "@jupyter-widgets/controls",
            "_view_module_version": "1.5.0",
            "_view_name": "ProgressView",
            "bar_style": "success",
            "description": "",
            "description_tooltip": null,
            "layout": "IPY_MODEL_aecc00277e4a46a7b29e0194231d1f6a",
            "max": 170498071,
            "min": 0,
            "orientation": "horizontal",
            "style": "IPY_MODEL_b05470925a404d67abc580776f17647a",
            "value": 170498071
          }
        },
        "e871beaab10f427cb4cc5e96db803af9": {
          "model_module": "@jupyter-widgets/controls",
          "model_name": "HTMLModel",
          "model_module_version": "1.5.0",
          "state": {
            "_dom_classes": [],
            "_model_module": "@jupyter-widgets/controls",
            "_model_module_version": "1.5.0",
            "_model_name": "HTMLModel",
            "_view_count": null,
            "_view_module": "@jupyter-widgets/controls",
            "_view_module_version": "1.5.0",
            "_view_name": "HTMLView",
            "description": "",
            "description_tooltip": null,
            "layout": "IPY_MODEL_368886ff69aa4dc39da3bd58e27f4343",
            "placeholder": "​",
            "style": "IPY_MODEL_705fd2337abd4262b71abd9e24636bc7",
            "value": " 170499072/? [00:07&lt;00:00, 25419611.33it/s]"
          }
        },
        "f2601d27e54f4b91a3d211ba73e867d7": {
          "model_module": "@jupyter-widgets/base",
          "model_name": "LayoutModel",
          "model_module_version": "1.2.0",
          "state": {
            "_model_module": "@jupyter-widgets/base",
            "_model_module_version": "1.2.0",
            "_model_name": "LayoutModel",
            "_view_count": null,
            "_view_module": "@jupyter-widgets/base",
            "_view_module_version": "1.2.0",
            "_view_name": "LayoutView",
            "align_content": null,
            "align_items": null,
            "align_self": null,
            "border": null,
            "bottom": null,
            "display": null,
            "flex": null,
            "flex_flow": null,
            "grid_area": null,
            "grid_auto_columns": null,
            "grid_auto_flow": null,
            "grid_auto_rows": null,
            "grid_column": null,
            "grid_gap": null,
            "grid_row": null,
            "grid_template_areas": null,
            "grid_template_columns": null,
            "grid_template_rows": null,
            "height": null,
            "justify_content": null,
            "justify_items": null,
            "left": null,
            "margin": null,
            "max_height": null,
            "max_width": null,
            "min_height": null,
            "min_width": null,
            "object_fit": null,
            "object_position": null,
            "order": null,
            "overflow": null,
            "overflow_x": null,
            "overflow_y": null,
            "padding": null,
            "right": null,
            "top": null,
            "visibility": null,
            "width": null
          }
        },
        "77f5f02cb5a44af3b217809842ebf421": {
          "model_module": "@jupyter-widgets/base",
          "model_name": "LayoutModel",
          "model_module_version": "1.2.0",
          "state": {
            "_model_module": "@jupyter-widgets/base",
            "_model_module_version": "1.2.0",
            "_model_name": "LayoutModel",
            "_view_count": null,
            "_view_module": "@jupyter-widgets/base",
            "_view_module_version": "1.2.0",
            "_view_name": "LayoutView",
            "align_content": null,
            "align_items": null,
            "align_self": null,
            "border": null,
            "bottom": null,
            "display": null,
            "flex": null,
            "flex_flow": null,
            "grid_area": null,
            "grid_auto_columns": null,
            "grid_auto_flow": null,
            "grid_auto_rows": null,
            "grid_column": null,
            "grid_gap": null,
            "grid_row": null,
            "grid_template_areas": null,
            "grid_template_columns": null,
            "grid_template_rows": null,
            "height": null,
            "justify_content": null,
            "justify_items": null,
            "left": null,
            "margin": null,
            "max_height": null,
            "max_width": null,
            "min_height": null,
            "min_width": null,
            "object_fit": null,
            "object_position": null,
            "order": null,
            "overflow": null,
            "overflow_x": null,
            "overflow_y": null,
            "padding": null,
            "right": null,
            "top": null,
            "visibility": null,
            "width": null
          }
        },
        "011825dd21f5489da8940c0cdbc57346": {
          "model_module": "@jupyter-widgets/controls",
          "model_name": "DescriptionStyleModel",
          "model_module_version": "1.5.0",
          "state": {
            "_model_module": "@jupyter-widgets/controls",
            "_model_module_version": "1.5.0",
            "_model_name": "DescriptionStyleModel",
            "_view_count": null,
            "_view_module": "@jupyter-widgets/base",
            "_view_module_version": "1.2.0",
            "_view_name": "StyleView",
            "description_width": ""
          }
        },
        "aecc00277e4a46a7b29e0194231d1f6a": {
          "model_module": "@jupyter-widgets/base",
          "model_name": "LayoutModel",
          "model_module_version": "1.2.0",
          "state": {
            "_model_module": "@jupyter-widgets/base",
            "_model_module_version": "1.2.0",
            "_model_name": "LayoutModel",
            "_view_count": null,
            "_view_module": "@jupyter-widgets/base",
            "_view_module_version": "1.2.0",
            "_view_name": "LayoutView",
            "align_content": null,
            "align_items": null,
            "align_self": null,
            "border": null,
            "bottom": null,
            "display": null,
            "flex": null,
            "flex_flow": null,
            "grid_area": null,
            "grid_auto_columns": null,
            "grid_auto_flow": null,
            "grid_auto_rows": null,
            "grid_column": null,
            "grid_gap": null,
            "grid_row": null,
            "grid_template_areas": null,
            "grid_template_columns": null,
            "grid_template_rows": null,
            "height": null,
            "justify_content": null,
            "justify_items": null,
            "left": null,
            "margin": null,
            "max_height": null,
            "max_width": null,
            "min_height": null,
            "min_width": null,
            "object_fit": null,
            "object_position": null,
            "order": null,
            "overflow": null,
            "overflow_x": null,
            "overflow_y": null,
            "padding": null,
            "right": null,
            "top": null,
            "visibility": null,
            "width": null
          }
        },
        "b05470925a404d67abc580776f17647a": {
          "model_module": "@jupyter-widgets/controls",
          "model_name": "ProgressStyleModel",
          "model_module_version": "1.5.0",
          "state": {
            "_model_module": "@jupyter-widgets/controls",
            "_model_module_version": "1.5.0",
            "_model_name": "ProgressStyleModel",
            "_view_count": null,
            "_view_module": "@jupyter-widgets/base",
            "_view_module_version": "1.2.0",
            "_view_name": "StyleView",
            "bar_color": null,
            "description_width": ""
          }
        },
        "368886ff69aa4dc39da3bd58e27f4343": {
          "model_module": "@jupyter-widgets/base",
          "model_name": "LayoutModel",
          "model_module_version": "1.2.0",
          "state": {
            "_model_module": "@jupyter-widgets/base",
            "_model_module_version": "1.2.0",
            "_model_name": "LayoutModel",
            "_view_count": null,
            "_view_module": "@jupyter-widgets/base",
            "_view_module_version": "1.2.0",
            "_view_name": "LayoutView",
            "align_content": null,
            "align_items": null,
            "align_self": null,
            "border": null,
            "bottom": null,
            "display": null,
            "flex": null,
            "flex_flow": null,
            "grid_area": null,
            "grid_auto_columns": null,
            "grid_auto_flow": null,
            "grid_auto_rows": null,
            "grid_column": null,
            "grid_gap": null,
            "grid_row": null,
            "grid_template_areas": null,
            "grid_template_columns": null,
            "grid_template_rows": null,
            "height": null,
            "justify_content": null,
            "justify_items": null,
            "left": null,
            "margin": null,
            "max_height": null,
            "max_width": null,
            "min_height": null,
            "min_width": null,
            "object_fit": null,
            "object_position": null,
            "order": null,
            "overflow": null,
            "overflow_x": null,
            "overflow_y": null,
            "padding": null,
            "right": null,
            "top": null,
            "visibility": null,
            "width": null
          }
        },
        "705fd2337abd4262b71abd9e24636bc7": {
          "model_module": "@jupyter-widgets/controls",
          "model_name": "DescriptionStyleModel",
          "model_module_version": "1.5.0",
          "state": {
            "_model_module": "@jupyter-widgets/controls",
            "_model_module_version": "1.5.0",
            "_model_name": "DescriptionStyleModel",
            "_view_count": null,
            "_view_module": "@jupyter-widgets/base",
            "_view_module_version": "1.2.0",
            "_view_name": "StyleView",
            "description_width": ""
          }
        },
        "3ba2b62b94114c91b06942c94cc9b174": {
          "model_module": "@jupyter-widgets/controls",
          "model_name": "HBoxModel",
          "model_module_version": "1.5.0",
          "state": {
            "_dom_classes": [],
            "_model_module": "@jupyter-widgets/controls",
            "_model_module_version": "1.5.0",
            "_model_name": "HBoxModel",
            "_view_count": null,
            "_view_module": "@jupyter-widgets/controls",
            "_view_module_version": "1.5.0",
            "_view_name": "HBoxView",
            "box_style": "",
            "children": [
              "IPY_MODEL_8c902c00ac2f4775a35564f829101320",
              "IPY_MODEL_a71f949ea66d41febaabb781b41f0b2a",
              "IPY_MODEL_f5577be5e81d4d03a9dc1d9612af2db2"
            ],
            "layout": "IPY_MODEL_ec68e24e131d47a08e03946961da145b"
          }
        },
        "8c902c00ac2f4775a35564f829101320": {
          "model_module": "@jupyter-widgets/controls",
          "model_name": "HTMLModel",
          "model_module_version": "1.5.0",
          "state": {
            "_dom_classes": [],
            "_model_module": "@jupyter-widgets/controls",
            "_model_module_version": "1.5.0",
            "_model_name": "HTMLModel",
            "_view_count": null,
            "_view_module": "@jupyter-widgets/controls",
            "_view_module_version": "1.5.0",
            "_view_name": "HTMLView",
            "description": "",
            "description_tooltip": null,
            "layout": "IPY_MODEL_6f4a3d2e9aa345c89d8fe46941753891",
            "placeholder": "​",
            "style": "IPY_MODEL_3da3f1c5ec5f42a3b370ef13894d889c",
            "value": ""
          }
        },
        "a71f949ea66d41febaabb781b41f0b2a": {
          "model_module": "@jupyter-widgets/controls",
          "model_name": "FloatProgressModel",
          "model_module_version": "1.5.0",
          "state": {
            "_dom_classes": [],
            "_model_module": "@jupyter-widgets/controls",
            "_model_module_version": "1.5.0",
            "_model_name": "FloatProgressModel",
            "_view_count": null,
            "_view_module": "@jupyter-widgets/controls",
            "_view_module_version": "1.5.0",
            "_view_name": "ProgressView",
            "bar_style": "success",
            "description": "",
            "description_tooltip": null,
            "layout": "IPY_MODEL_037a62778feb46aba48f49fdb85d10cb",
            "max": 170498071,
            "min": 0,
            "orientation": "horizontal",
            "style": "IPY_MODEL_b3dc31632aa84734b319193ce95e188a",
            "value": 170498071
          }
        },
        "f5577be5e81d4d03a9dc1d9612af2db2": {
          "model_module": "@jupyter-widgets/controls",
          "model_name": "HTMLModel",
          "model_module_version": "1.5.0",
          "state": {
            "_dom_classes": [],
            "_model_module": "@jupyter-widgets/controls",
            "_model_module_version": "1.5.0",
            "_model_name": "HTMLModel",
            "_view_count": null,
            "_view_module": "@jupyter-widgets/controls",
            "_view_module_version": "1.5.0",
            "_view_name": "HTMLView",
            "description": "",
            "description_tooltip": null,
            "layout": "IPY_MODEL_be1afce9b67d4a468acab348f15cd3c8",
            "placeholder": "​",
            "style": "IPY_MODEL_665f3c97aea240a0b4150f6d2a6c87ea",
            "value": " 170499072/? [00:06&lt;00:00, 29482129.97it/s]"
          }
        },
        "ec68e24e131d47a08e03946961da145b": {
          "model_module": "@jupyter-widgets/base",
          "model_name": "LayoutModel",
          "model_module_version": "1.2.0",
          "state": {
            "_model_module": "@jupyter-widgets/base",
            "_model_module_version": "1.2.0",
            "_model_name": "LayoutModel",
            "_view_count": null,
            "_view_module": "@jupyter-widgets/base",
            "_view_module_version": "1.2.0",
            "_view_name": "LayoutView",
            "align_content": null,
            "align_items": null,
            "align_self": null,
            "border": null,
            "bottom": null,
            "display": null,
            "flex": null,
            "flex_flow": null,
            "grid_area": null,
            "grid_auto_columns": null,
            "grid_auto_flow": null,
            "grid_auto_rows": null,
            "grid_column": null,
            "grid_gap": null,
            "grid_row": null,
            "grid_template_areas": null,
            "grid_template_columns": null,
            "grid_template_rows": null,
            "height": null,
            "justify_content": null,
            "justify_items": null,
            "left": null,
            "margin": null,
            "max_height": null,
            "max_width": null,
            "min_height": null,
            "min_width": null,
            "object_fit": null,
            "object_position": null,
            "order": null,
            "overflow": null,
            "overflow_x": null,
            "overflow_y": null,
            "padding": null,
            "right": null,
            "top": null,
            "visibility": null,
            "width": null
          }
        },
        "6f4a3d2e9aa345c89d8fe46941753891": {
          "model_module": "@jupyter-widgets/base",
          "model_name": "LayoutModel",
          "model_module_version": "1.2.0",
          "state": {
            "_model_module": "@jupyter-widgets/base",
            "_model_module_version": "1.2.0",
            "_model_name": "LayoutModel",
            "_view_count": null,
            "_view_module": "@jupyter-widgets/base",
            "_view_module_version": "1.2.0",
            "_view_name": "LayoutView",
            "align_content": null,
            "align_items": null,
            "align_self": null,
            "border": null,
            "bottom": null,
            "display": null,
            "flex": null,
            "flex_flow": null,
            "grid_area": null,
            "grid_auto_columns": null,
            "grid_auto_flow": null,
            "grid_auto_rows": null,
            "grid_column": null,
            "grid_gap": null,
            "grid_row": null,
            "grid_template_areas": null,
            "grid_template_columns": null,
            "grid_template_rows": null,
            "height": null,
            "justify_content": null,
            "justify_items": null,
            "left": null,
            "margin": null,
            "max_height": null,
            "max_width": null,
            "min_height": null,
            "min_width": null,
            "object_fit": null,
            "object_position": null,
            "order": null,
            "overflow": null,
            "overflow_x": null,
            "overflow_y": null,
            "padding": null,
            "right": null,
            "top": null,
            "visibility": null,
            "width": null
          }
        },
        "3da3f1c5ec5f42a3b370ef13894d889c": {
          "model_module": "@jupyter-widgets/controls",
          "model_name": "DescriptionStyleModel",
          "model_module_version": "1.5.0",
          "state": {
            "_model_module": "@jupyter-widgets/controls",
            "_model_module_version": "1.5.0",
            "_model_name": "DescriptionStyleModel",
            "_view_count": null,
            "_view_module": "@jupyter-widgets/base",
            "_view_module_version": "1.2.0",
            "_view_name": "StyleView",
            "description_width": ""
          }
        },
        "037a62778feb46aba48f49fdb85d10cb": {
          "model_module": "@jupyter-widgets/base",
          "model_name": "LayoutModel",
          "model_module_version": "1.2.0",
          "state": {
            "_model_module": "@jupyter-widgets/base",
            "_model_module_version": "1.2.0",
            "_model_name": "LayoutModel",
            "_view_count": null,
            "_view_module": "@jupyter-widgets/base",
            "_view_module_version": "1.2.0",
            "_view_name": "LayoutView",
            "align_content": null,
            "align_items": null,
            "align_self": null,
            "border": null,
            "bottom": null,
            "display": null,
            "flex": null,
            "flex_flow": null,
            "grid_area": null,
            "grid_auto_columns": null,
            "grid_auto_flow": null,
            "grid_auto_rows": null,
            "grid_column": null,
            "grid_gap": null,
            "grid_row": null,
            "grid_template_areas": null,
            "grid_template_columns": null,
            "grid_template_rows": null,
            "height": null,
            "justify_content": null,
            "justify_items": null,
            "left": null,
            "margin": null,
            "max_height": null,
            "max_width": null,
            "min_height": null,
            "min_width": null,
            "object_fit": null,
            "object_position": null,
            "order": null,
            "overflow": null,
            "overflow_x": null,
            "overflow_y": null,
            "padding": null,
            "right": null,
            "top": null,
            "visibility": null,
            "width": null
          }
        },
        "b3dc31632aa84734b319193ce95e188a": {
          "model_module": "@jupyter-widgets/controls",
          "model_name": "ProgressStyleModel",
          "model_module_version": "1.5.0",
          "state": {
            "_model_module": "@jupyter-widgets/controls",
            "_model_module_version": "1.5.0",
            "_model_name": "ProgressStyleModel",
            "_view_count": null,
            "_view_module": "@jupyter-widgets/base",
            "_view_module_version": "1.2.0",
            "_view_name": "StyleView",
            "bar_color": null,
            "description_width": ""
          }
        },
        "be1afce9b67d4a468acab348f15cd3c8": {
          "model_module": "@jupyter-widgets/base",
          "model_name": "LayoutModel",
          "model_module_version": "1.2.0",
          "state": {
            "_model_module": "@jupyter-widgets/base",
            "_model_module_version": "1.2.0",
            "_model_name": "LayoutModel",
            "_view_count": null,
            "_view_module": "@jupyter-widgets/base",
            "_view_module_version": "1.2.0",
            "_view_name": "LayoutView",
            "align_content": null,
            "align_items": null,
            "align_self": null,
            "border": null,
            "bottom": null,
            "display": null,
            "flex": null,
            "flex_flow": null,
            "grid_area": null,
            "grid_auto_columns": null,
            "grid_auto_flow": null,
            "grid_auto_rows": null,
            "grid_column": null,
            "grid_gap": null,
            "grid_row": null,
            "grid_template_areas": null,
            "grid_template_columns": null,
            "grid_template_rows": null,
            "height": null,
            "justify_content": null,
            "justify_items": null,
            "left": null,
            "margin": null,
            "max_height": null,
            "max_width": null,
            "min_height": null,
            "min_width": null,
            "object_fit": null,
            "object_position": null,
            "order": null,
            "overflow": null,
            "overflow_x": null,
            "overflow_y": null,
            "padding": null,
            "right": null,
            "top": null,
            "visibility": null,
            "width": null
          }
        },
        "665f3c97aea240a0b4150f6d2a6c87ea": {
          "model_module": "@jupyter-widgets/controls",
          "model_name": "DescriptionStyleModel",
          "model_module_version": "1.5.0",
          "state": {
            "_model_module": "@jupyter-widgets/controls",
            "_model_module_version": "1.5.0",
            "_model_name": "DescriptionStyleModel",
            "_view_count": null,
            "_view_module": "@jupyter-widgets/base",
            "_view_module_version": "1.2.0",
            "_view_name": "StyleView",
            "description_width": ""
          }
        }
      }
    }
  },
  "cells": [
    {
      "cell_type": "code",
      "source": [
        "#ECGR 4106: Real-Time AI\n",
        "#Michael Lust\n",
        "#Homework 3\n",
        "#March 29, 2022"
      ],
      "metadata": {
        "id": "zcWOmxRAJc_X"
      },
      "execution_count": null,
      "outputs": []
    },
    {
      "cell_type": "code",
      "source": [
        "#Convolution online example:\n",
        "#https://shonit2096.medium.com/cnn-on-cifar10-data-set-using-pytorch-34be87e09844\n",
        "#Used to help construct CNN to clasify images across all 10 classes in CIFER10 "
      ],
      "metadata": {
        "id": "8QCQkFcLIDPD"
      },
      "execution_count": null,
      "outputs": []
    },
    {
      "cell_type": "markdown",
      "source": [
        "a. Build a Convolutional Neural Network, like what we built in lectures (without skip connections), to classify the images across all 10 classes in CIFAR 10. You need to adjust the fully connected layer at the end properly with respect to the number of output classes. Train your network for 300 epochs. Report your training time, training loss, and evaluation accuracy after 300 epochs. Analyze your results in your report and compare them against a fully connected network (homework 2) on training time, achieved accuracy, and model size. Make sure to submit your code by providing the GitHub URL of your course repository for this course."
      ],
      "metadata": {
        "id": "K0QhiIgMIcVA"
      }
    },
    {
      "cell_type": "code",
      "source": [
        "#Imports\n",
        "%matplotlib inline\n",
        "from matplotlib import pyplot as plt\n",
        "import numpy as np\n",
        "import collections\n",
        "\n",
        "#Pytorch imports\n",
        "import torch\n",
        "import numpy as np\n",
        "from torchvision import datasets\n",
        "import torchvision.transforms as transforms\n",
        "from torch.utils.data.sampler import SubsetRandomSampler\n",
        "import torch.nn as nn\n",
        "import torch.nn.functional as F\n",
        "import torch.optim as optim\n",
        "from tqdm import tqdm\n",
        "\n",
        "device = torch.device('cuda:0')\n",
        "print(torch.cuda.is_available())\n",
        "\n",
        "#Using google colab assigned GPU to train\n",
        "#device = !nvidia-smi\n",
        "#device = '\\n'.join(device)\n",
        "#if device.find('failed') >= 0:\n",
        "  #print('Not connected to a GPU')\n",
        "#else:\n",
        "  #print(device)"
      ],
      "metadata": {
        "id": "c4G5JIe-TZUm",
        "colab": {
          "base_uri": "https://localhost:8080/"
        },
        "outputId": "bf589344-f733-46e5-c237-874030dd6c3b"
      },
      "execution_count": null,
      "outputs": [
        {
          "output_type": "stream",
          "name": "stdout",
          "text": [
            "True\n"
          ]
        }
      ]
    },
    {
      "cell_type": "code",
      "source": [
        "# number of subprocesses to use for data loading\n",
        "num_workers = 0\n",
        "\n",
        "# how many samples per batch to load\n",
        "batch_size = 20\n",
        "\n",
        "# percentage of training set to use as validation\n",
        "valid_size = 0.2\n",
        "\n",
        "# convert data to a normalized torch.FloatTensor\n",
        "transform = transforms.Compose([\n",
        "    transforms.ToTensor(),\n",
        "    transforms.Normalize((0.5, 0.5, 0.5), (0.5, 0.5, 0.5))\n",
        "    ])\n",
        "\n",
        "# choose the training and test datasets\n",
        "train_data = datasets.CIFAR10('data', train=True,\n",
        "                              download=True, transform=transform)\n",
        "test_data = datasets.CIFAR10('data', train=False,\n",
        "                             download=True, transform=transform)\n",
        "\n",
        "# obtain training indices that will be used for validation\n",
        "num_train = len(train_data)\n",
        "indices = list(range(num_train))\n",
        "np.random.shuffle(indices)\n",
        "split = int(np.floor(valid_size * num_train))\n",
        "train_idx, valid_idx = indices[split:], indices[:split]\n",
        "\n",
        "# define samplers for obtaining training and validation batches\n",
        "train_sampler = SubsetRandomSampler(train_idx)\n",
        "valid_sampler = SubsetRandomSampler(valid_idx)\n",
        "\n",
        "# prepare data loaders (combine dataset and sampler)\n",
        "train_loader = torch.utils.data.DataLoader(train_data, batch_size=batch_size,\n",
        "    sampler=train_sampler, num_workers=num_workers)\n",
        "valid_loader = torch.utils.data.DataLoader(train_data, batch_size=batch_size, \n",
        "    sampler=valid_sampler, num_workers=num_workers)\n",
        "test_loader = torch.utils.data.DataLoader(test_data, batch_size=batch_size, \n",
        "    num_workers=num_workers)\n",
        "\n",
        "# specify the image classes\n",
        "classes = ['airplane','automobile','bird','cat','deer',\n",
        "               'dog','frog','horse','ship','truck']"
      ],
      "metadata": {
        "colab": {
          "base_uri": "https://localhost:8080/",
          "height": 101,
          "referenced_widgets": [
            "f76bad1b456e4e65b926d6430e4084d0",
            "bc6e571e7f2d4a37806d64e8315f428a",
            "862170477fb84d5ba917cca2814c2ae7",
            "e871beaab10f427cb4cc5e96db803af9",
            "f2601d27e54f4b91a3d211ba73e867d7",
            "77f5f02cb5a44af3b217809842ebf421",
            "011825dd21f5489da8940c0cdbc57346",
            "aecc00277e4a46a7b29e0194231d1f6a",
            "b05470925a404d67abc580776f17647a",
            "368886ff69aa4dc39da3bd58e27f4343",
            "705fd2337abd4262b71abd9e24636bc7"
          ]
        },
        "id": "i55JktAWqF4t",
        "outputId": "2d12df84-ec8a-41fd-9bdf-afd892e3546b"
      },
      "execution_count": null,
      "outputs": [
        {
          "output_type": "stream",
          "name": "stdout",
          "text": [
            "Downloading https://www.cs.toronto.edu/~kriz/cifar-10-python.tar.gz to data/cifar-10-python.tar.gz\n"
          ]
        },
        {
          "output_type": "display_data",
          "data": {
            "text/plain": [
              "  0%|          | 0/170498071 [00:00<?, ?it/s]"
            ],
            "application/vnd.jupyter.widget-view+json": {
              "version_major": 2,
              "version_minor": 0,
              "model_id": "f76bad1b456e4e65b926d6430e4084d0"
            }
          },
          "metadata": {}
        },
        {
          "output_type": "stream",
          "name": "stdout",
          "text": [
            "Extracting data/cifar-10-python.tar.gz to data\n",
            "Files already downloaded and verified\n"
          ]
        }
      ]
    },
    {
      "cell_type": "code",
      "source": [
        "import matplotlib.pyplot as plt\n",
        "%matplotlib inline\n",
        "\n",
        "# helper function to un-normalize and display an image\n",
        "def imshow(img):\n",
        "    img = img / 2 + 0.5  # unnormalize\n",
        "    plt.imshow(np.transpose(img, (1, 2, 0)))  # convert from Tensor image\n",
        "\n",
        "# obtain one batch of training images\n",
        "dataiter = iter(train_loader)\n",
        "images, labels = dataiter.next()\n",
        "images = images.numpy() # convert images to numpy for display\n",
        "\n",
        "# plot the images in the batch, along with the corresponding labels\n",
        "fig = plt.figure(figsize=(25, 4))\n",
        "\n",
        "# display 20 images\n",
        "for idx in np.arange(10):\n",
        "  ax = fig.add_subplot(2, 10/2, idx+1, xticks=[], yticks=[])\n",
        "  imshow(images[idx])\n",
        "  ax.set_title(classes[labels[idx]])"
      ],
      "metadata": {
        "id": "DiCYXqMzWMhk",
        "colab": {
          "base_uri": "https://localhost:8080/",
          "height": 186
        },
        "outputId": "ae6cdd14-020f-45fe-a45b-47d4d04d4101"
      },
      "execution_count": null,
      "outputs": [
        {
          "output_type": "display_data",
          "data": {
            "text/plain": [
              "<Figure size 1800x288 with 10 Axes>"
            ],
            "image/png": "[encoded data removed]"
          },
          "metadata": {}
        }
      ]
    },
    {
      "cell_type": "code",
      "source": [
        "from torch.utils.tensorboard import SummaryWriter\n",
        "writer = SummaryWriter()"
      ],
      "metadata": {
        "id": "DCAghhXkUJWX"
      },
      "execution_count": null,
      "outputs": []
    },
    {
      "cell_type": "code",
      "source": [
        "# define the CNN architecture\n",
        "#Building class similar to: model = nn.Sequential from textbook example\n",
        "\n",
        "#Online example\n",
        "class Net1(nn.Module):\n",
        "  def __init__(self):\n",
        "    super(Net1, self).__init__()\n",
        "    self.conv1 = nn.Conv2d(3, 6, 5)\n",
        "    self.pool = nn.MaxPool2d(2, 2)\n",
        "    self.conv2 = nn.Conv2d(6, 16, 5)\n",
        "    self.fc1 = nn.Linear(16 * 5 * 5, 120)\n",
        "    self.fc2 = nn.Linear(120, 84)\n",
        "    self.fc3 = nn.Linear(84, 10)\n",
        "\n",
        "  def forward(self, x):\n",
        "    x = self.pool(F.relu(self.conv1(x)))\n",
        "    x = self.pool(F.relu(self.conv2(x)))\n",
        "    x = x.view(-1, 16 * 5 * 5)\n",
        "    x = F.relu(self.fc1(x))\n",
        "    x = F.relu(self.fc2(x))\n",
        "    x = self.fc3(x)\n",
        "    return x\n",
        "\n",
        "#Textbook example\n",
        "# class Net1(nn.Module):\n",
        "#     def __init__(self):\n",
        "#         super().__init__()\n",
        "#         self.conv1 = nn.Conv2d(3, 16, kernel_size=3, padding=1)\n",
        "#         self.act1 = nn.Tanh()\n",
        "#         self.pool1 = nn.MaxPool2d(2)\n",
        "#         self.conv2 = nn.Conv2d(16, 8, kernel_size=3, padding=1)\n",
        "#         self.act2 = nn.Tanh()\n",
        "#         self.pool2 = nn.MaxPool2d(2)\n",
        "#         self.fc1 = nn.Linear(8 * 8 * 8, 32) #The size of the first linear layer is dependent on the expected size of the output of MaxPool2d: 8 × 8 × 8 = 512. \n",
        "#         self.act3 = nn.Tanh()\n",
        "#         self.fc2 = nn.Linear(32, 2)\n",
        "\n",
        "    # def forward(self, x):\n",
        "    #     out = self.pool1(self.act1(self.conv1(x)))\n",
        "    #     out = self.pool2(self.act2(self.conv2(out)))\n",
        "    #     out = out.view(-1, 8 * 8 * 8) # <1> Forwarding the inputs of the model and reshaping it to return the output\n",
        "    #     out = self.act3(self.fc1(out))\n",
        "    #     out = self.fc2(out)\n",
        "    #     return out\n",
        "\n",
        "# create a complete CNN\n",
        "model1 = Net1()\n",
        "if torch.cuda.is_available():\n",
        "    model1.cuda()\n",
        "print(model1)\n",
        "\n",
        "numel_list = [p.numel() for p in model1.parameters()]\n",
        "sum(numel_list), numel_list"
      ],
      "metadata": {
        "colab": {
          "base_uri": "https://localhost:8080/"
        },
        "id": "HgODocGJMeXW",
        "outputId": "167d815f-9643-43ed-9da4-6ff88028cda5"
      },
      "execution_count": null,
      "outputs": [
        {
          "output_type": "stream",
          "name": "stdout",
          "text": [
            "Net1(\n",
            "  (conv1): Conv2d(3, 6, kernel_size=(5, 5), stride=(1, 1))\n",
            "  (pool): MaxPool2d(kernel_size=2, stride=2, padding=0, dilation=1, ceil_mode=False)\n",
            "  (conv2): Conv2d(6, 16, kernel_size=(5, 5), stride=(1, 1))\n",
            "  (fc1): Linear(in_features=400, out_features=120, bias=True)\n",
            "  (fc2): Linear(in_features=120, out_features=84, bias=True)\n",
            "  (fc3): Linear(in_features=84, out_features=10, bias=True)\n",
            ")\n"
          ]
        },
        {
          "output_type": "execute_result",
          "data": {
            "text/plain": [
              "(62006, [450, 6, 2400, 16, 48000, 120, 10080, 84, 840, 10])"
            ]
          },
          "metadata": {},
          "execution_count": 7
        }
      ]
    },
    {
      "cell_type": "code",
      "source": [
        "import torch.optim as optim\n",
        "\n",
        "# specify loss function\n",
        "criterion = nn.CrossEntropyLoss()\n",
        "\n",
        "# specify optimizer\n",
        "optimizer = optim.SGD(model1.parameters(), lr=.01)"
      ],
      "metadata": {
        "id": "sIkvThDvNE1d"
      },
      "execution_count": null,
      "outputs": []
    },
    {
      "cell_type": "code",
      "source": [
        "%%time\n",
        "from tqdm import tqdm\n",
        "#to record model runtime\n",
        "# number of epochs to train the model\n",
        "n_epochs = 300 #Needs to be 300\n",
        "\n",
        "#List to store loss to visualize\n",
        "train_losslist = []\n",
        "\n",
        "# track change in validation loss\n",
        "valid_loss_min = np.Inf\n",
        "\n",
        "for epoch in range(1, n_epochs+1):\n",
        "  if epoch == 1 or epoch % 30 == 0: \n",
        "    print('\\nEpoch: {}'.format(epoch))\n",
        "\n",
        "  # keep track of training and validation loss\n",
        "  train_loss = 0.0\n",
        "  valid_loss = 0.0\n",
        "\n",
        "  if epoch == 1 or epoch % 30 == 0: \n",
        "    print('training: ')  \n",
        "\n",
        "  with tqdm(train_loader, unit=\"batch\") as tepoch:  \n",
        "    # train the model\n",
        "    model1.train()\n",
        "    for data, target in tepoch:\n",
        "\n",
        "        # move tensors to GPU if CUDA is available\n",
        "        data, target = data.to(device), target.to(device)\n",
        "\n",
        "        # clear the gradients of all optimized variables\n",
        "        optimizer.zero_grad()\n",
        "        \n",
        "        # forward pass: compute predicted outputs by passing inputs to the model\n",
        "        output = model1(data)\n",
        "        \n",
        "        # calculate the batch loss\n",
        "        loss = criterion(output, target)\n",
        "        \n",
        "        # backward pass: compute gradient of the loss with respect to model parameters\n",
        "        loss.backward()\n",
        "        \n",
        "        # perform a single optimization step (parameter update)\n",
        "        optimizer.step()\n",
        "        \n",
        "        # update training loss\n",
        "        train_loss += loss.item()*data.size(0)\n",
        "\n",
        "  if epoch == 1 or epoch % 30 == 0:       \n",
        "   print('validation: ')      \n",
        "\n",
        "  with tqdm(valid_loader, unit=\"batch\") as vepoch:\n",
        "    # validate the model\n",
        "    model1.eval()\n",
        "    for data, target in vepoch:\n",
        "\n",
        "        # move tensors to GPU if CUDA is available\n",
        "        data, target = data.to(device), target.to(device)\n",
        "        \n",
        "        # forward pass: compute predicted outputs by passing inputs to the model\n",
        "        output = model1(data)\n",
        "        \n",
        "        # calculate the batch loss\n",
        "        loss = criterion(output, target)\n",
        "        \n",
        "        # update average validation loss \n",
        "        valid_loss += loss.item()*data.size(0)\n",
        "    \n",
        "  # calculate average losses\n",
        "  train_loss = train_loss/len(train_loader.dataset)\n",
        "  valid_loss = valid_loss/len(valid_loader.dataset)\n",
        "  train_losslist.append(train_loss)\n",
        "        \n",
        "  # print training/validation statistics \n",
        "  if epoch == 1 or epoch % 30 == 0: \n",
        "    print('Training Loss: {:.6f} \\tValidation Loss: {:.6f}'.format(train_loss, valid_loss))\n",
        "  \n",
        "  # save model if validation loss has decreased\n",
        "  if epoch == 1 or epoch % 30 == 0: \n",
        "    if valid_loss <= valid_loss_min:\n",
        "      print('Validation loss decreased ({:.6f} --> {:.6f}).  Saving model ...'.format(\n",
        "      valid_loss_min,\n",
        "      valid_loss))\n",
        "      torch.save(model1.state_dict(), 'model_cifar.pt')\n",
        "      valid_loss_min = valid_loss\n",
        "\n",
        "# plt.plot(n_epochs, train_losslist)\n",
        "# plt.xlabel(\"Epoch\")\n",
        "# plt.ylabel(\"Loss\")\n",
        "# plt.title(\"Performance of Model 1\")\n",
        "# plt.show()"
      ],
      "metadata": {
        "colab": {
          "base_uri": "https://localhost:8080/"
        },
        "id": "moV1cxc9NIPc",
        "outputId": "37273218-3f98-49bd-8492-b27a4bb36dab"
      },
      "execution_count": null,
      "outputs": [
        {
          "output_type": "stream",
          "name": "stdout",
          "text": [
            "\n",
            "Epoch: 1\n",
            "training: \n"
          ]
        },
        {
          "output_type": "stream",
          "name": "stderr",
          "text": [
            "100%|██████████| 2000/2000 [00:17<00:00, 115.75batch/s]\n"
          ]
        },
        {
          "output_type": "stream",
          "name": "stdout",
          "text": [
            "validation: \n"
          ]
        },
        {
          "output_type": "stream",
          "name": "stderr",
          "text": [
            "100%|██████████| 500/500 [00:03<00:00, 149.49batch/s]\n"
          ]
        },
        {
          "output_type": "stream",
          "name": "stdout",
          "text": [
            "Training Loss: 1.738140 \tValidation Loss: 0.382443\n",
            "Validation loss decreased (inf --> 0.382443).  Saving model ...\n"
          ]
        },
        {
          "output_type": "stream",
          "name": "stderr",
          "text": [
            "100%|██████████| 2000/2000 [00:16<00:00, 118.97batch/s]\n",
            "100%|██████████| 500/500 [00:03<00:00, 144.43batch/s]\n",
            "100%|██████████| 2000/2000 [00:16<00:00, 119.15batch/s]\n",
            "100%|██████████| 500/500 [00:03<00:00, 149.02batch/s]\n",
            "100%|██████████| 2000/2000 [00:17<00:00, 111.80batch/s]\n",
            "100%|██████████| 500/500 [00:03<00:00, 146.45batch/s]\n",
            "100%|██████████| 2000/2000 [00:17<00:00, 115.85batch/s]\n",
            "100%|██████████| 500/500 [00:03<00:00, 147.13batch/s]\n",
            "100%|██████████| 2000/2000 [00:17<00:00, 116.58batch/s]\n",
            "100%|██████████| 500/500 [00:03<00:00, 142.52batch/s]\n",
            "100%|██████████| 2000/2000 [00:17<00:00, 114.76batch/s]\n",
            "100%|██████████| 500/500 [00:03<00:00, 142.99batch/s]\n",
            "100%|██████████| 2000/2000 [00:17<00:00, 115.69batch/s]\n",
            "100%|██████████| 500/500 [00:03<00:00, 147.70batch/s]\n",
            "100%|██████████| 2000/2000 [00:17<00:00, 116.93batch/s]\n",
            "100%|██████████| 500/500 [00:03<00:00, 148.56batch/s]\n",
            "100%|██████████| 2000/2000 [00:16<00:00, 119.07batch/s]\n",
            "100%|██████████| 500/500 [00:03<00:00, 149.12batch/s]\n",
            "100%|██████████| 2000/2000 [00:17<00:00, 116.91batch/s]\n",
            "100%|██████████| 500/500 [00:03<00:00, 147.03batch/s]\n",
            "100%|██████████| 2000/2000 [00:16<00:00, 118.76batch/s]\n",
            "100%|██████████| 500/500 [00:03<00:00, 147.04batch/s]\n",
            "100%|██████████| 2000/2000 [00:16<00:00, 118.98batch/s]\n",
            "100%|██████████| 500/500 [00:03<00:00, 148.08batch/s]\n",
            "100%|██████████| 2000/2000 [00:17<00:00, 117.19batch/s]\n",
            "100%|██████████| 500/500 [00:03<00:00, 150.09batch/s]\n",
            "100%|██████████| 2000/2000 [00:16<00:00, 117.86batch/s]\n",
            "100%|██████████| 500/500 [00:03<00:00, 147.07batch/s]\n",
            "100%|██████████| 2000/2000 [00:17<00:00, 111.16batch/s]\n",
            "100%|██████████| 500/500 [00:06<00:00, 72.49batch/s] \n",
            "100%|██████████| 2000/2000 [00:20<00:00, 97.67batch/s] \n",
            "100%|██████████| 500/500 [00:03<00:00, 146.36batch/s]\n",
            "100%|██████████| 2000/2000 [00:16<00:00, 118.58batch/s]\n",
            "100%|██████████| 500/500 [00:03<00:00, 145.77batch/s]\n",
            "100%|██████████| 2000/2000 [00:17<00:00, 117.51batch/s]\n",
            "100%|██████████| 500/500 [00:03<00:00, 145.25batch/s]\n",
            "100%|██████████| 2000/2000 [00:17<00:00, 114.52batch/s]\n",
            "100%|██████████| 500/500 [00:03<00:00, 147.67batch/s]\n",
            "100%|██████████| 2000/2000 [00:17<00:00, 117.42batch/s]\n",
            "100%|██████████| 500/500 [00:03<00:00, 146.81batch/s]\n",
            "100%|██████████| 2000/2000 [00:17<00:00, 115.42batch/s]\n",
            "100%|██████████| 500/500 [00:03<00:00, 148.20batch/s]\n",
            "100%|██████████| 2000/2000 [00:17<00:00, 115.44batch/s]\n",
            "100%|██████████| 500/500 [00:03<00:00, 143.19batch/s]\n",
            "100%|██████████| 2000/2000 [00:16<00:00, 118.30batch/s]\n",
            "100%|██████████| 500/500 [00:03<00:00, 144.23batch/s]\n",
            "100%|██████████| 2000/2000 [00:17<00:00, 116.03batch/s]\n",
            "100%|██████████| 500/500 [00:03<00:00, 147.85batch/s]\n",
            "100%|██████████| 2000/2000 [00:16<00:00, 118.10batch/s]\n",
            "100%|██████████| 500/500 [00:03<00:00, 144.67batch/s]\n",
            "100%|██████████| 2000/2000 [00:17<00:00, 117.15batch/s]\n",
            "100%|██████████| 500/500 [00:03<00:00, 143.28batch/s]\n",
            "100%|██████████| 2000/2000 [00:17<00:00, 115.41batch/s]\n",
            "100%|██████████| 500/500 [00:03<00:00, 142.95batch/s]\n",
            "100%|██████████| 2000/2000 [00:17<00:00, 117.31batch/s]\n",
            "100%|██████████| 500/500 [00:03<00:00, 143.17batch/s]\n"
          ]
        },
        {
          "output_type": "stream",
          "name": "stdout",
          "text": [
            "\n",
            "Epoch: 30\n",
            "training: \n"
          ]
        },
        {
          "output_type": "stream",
          "name": "stderr",
          "text": [
            "100%|██████████| 2000/2000 [00:17<00:00, 116.08batch/s]\n"
          ]
        },
        {
          "output_type": "stream",
          "name": "stdout",
          "text": [
            "validation: \n"
          ]
        },
        {
          "output_type": "stream",
          "name": "stderr",
          "text": [
            "100%|██████████| 500/500 [00:03<00:00, 145.92batch/s]\n"
          ]
        },
        {
          "output_type": "stream",
          "name": "stdout",
          "text": [
            "Training Loss: 0.408580 \tValidation Loss: 0.260559\n",
            "Validation loss decreased (0.382443 --> 0.260559).  Saving model ...\n"
          ]
        },
        {
          "output_type": "stream",
          "name": "stderr",
          "text": [
            "100%|██████████| 2000/2000 [00:17<00:00, 115.20batch/s]\n",
            "100%|██████████| 500/500 [00:03<00:00, 141.56batch/s]\n",
            "100%|██████████| 2000/2000 [00:17<00:00, 115.21batch/s]\n",
            "100%|██████████| 500/500 [00:03<00:00, 146.34batch/s]\n",
            "100%|██████████| 2000/2000 [00:17<00:00, 115.56batch/s]\n",
            "100%|██████████| 500/500 [00:03<00:00, 146.28batch/s]\n",
            "100%|██████████| 2000/2000 [00:17<00:00, 117.22batch/s]\n",
            "100%|██████████| 500/500 [00:03<00:00, 147.23batch/s]\n",
            "100%|██████████| 2000/2000 [00:16<00:00, 118.94batch/s]\n",
            "100%|██████████| 500/500 [00:03<00:00, 148.18batch/s]\n",
            "100%|██████████| 2000/2000 [00:17<00:00, 116.28batch/s]\n",
            "100%|██████████| 500/500 [00:03<00:00, 146.38batch/s]\n",
            "100%|██████████| 2000/2000 [00:17<00:00, 117.17batch/s]\n",
            "100%|██████████| 500/500 [00:03<00:00, 145.66batch/s]\n",
            "100%|██████████| 2000/2000 [00:16<00:00, 118.11batch/s]\n",
            "100%|██████████| 500/500 [00:03<00:00, 144.64batch/s]\n",
            "100%|██████████| 2000/2000 [00:17<00:00, 116.48batch/s]\n",
            "100%|██████████| 500/500 [00:03<00:00, 144.98batch/s]\n",
            "100%|██████████| 2000/2000 [00:16<00:00, 118.04batch/s]\n",
            "100%|██████████| 500/500 [00:03<00:00, 148.30batch/s]\n",
            "100%|██████████| 2000/2000 [00:16<00:00, 118.96batch/s]\n",
            "100%|██████████| 500/500 [00:03<00:00, 150.97batch/s]\n",
            "100%|██████████| 2000/2000 [00:17<00:00, 116.99batch/s]\n",
            "100%|██████████| 500/500 [00:03<00:00, 145.73batch/s]\n",
            "100%|██████████| 2000/2000 [00:16<00:00, 120.41batch/s]\n",
            "100%|██████████| 500/500 [00:03<00:00, 147.16batch/s]\n",
            "100%|██████████| 2000/2000 [00:16<00:00, 119.39batch/s]\n",
            "100%|██████████| 500/500 [00:03<00:00, 147.75batch/s]\n",
            "100%|██████████| 2000/2000 [00:17<00:00, 116.50batch/s]\n",
            "100%|██████████| 500/500 [00:03<00:00, 147.18batch/s]\n",
            "100%|██████████| 2000/2000 [00:16<00:00, 119.10batch/s]\n",
            "100%|██████████| 500/500 [00:03<00:00, 145.48batch/s]\n",
            "100%|██████████| 2000/2000 [00:16<00:00, 117.83batch/s]\n",
            "100%|██████████| 500/500 [00:03<00:00, 147.69batch/s]\n",
            "100%|██████████| 2000/2000 [00:16<00:00, 118.12batch/s]\n",
            "100%|██████████| 500/500 [00:03<00:00, 145.91batch/s]\n",
            "100%|██████████| 2000/2000 [00:16<00:00, 118.19batch/s]\n",
            "100%|██████████| 500/500 [00:03<00:00, 148.45batch/s]\n",
            "100%|██████████| 2000/2000 [00:17<00:00, 116.51batch/s]\n",
            "100%|██████████| 500/500 [00:03<00:00, 148.05batch/s]\n",
            "100%|██████████| 2000/2000 [00:16<00:00, 117.75batch/s]\n",
            "100%|██████████| 500/500 [00:03<00:00, 144.30batch/s]\n",
            "100%|██████████| 2000/2000 [00:17<00:00, 115.85batch/s]\n",
            "100%|██████████| 500/500 [00:03<00:00, 146.25batch/s]\n",
            "100%|██████████| 2000/2000 [00:17<00:00, 116.56batch/s]\n",
            "100%|██████████| 500/500 [00:03<00:00, 147.61batch/s]\n",
            "100%|██████████| 2000/2000 [00:17<00:00, 117.07batch/s]\n",
            "100%|██████████| 500/500 [00:03<00:00, 145.15batch/s]\n",
            "100%|██████████| 2000/2000 [00:16<00:00, 118.09batch/s]\n",
            "100%|██████████| 500/500 [00:03<00:00, 141.60batch/s]\n",
            "100%|██████████| 2000/2000 [00:16<00:00, 121.21batch/s]\n",
            "100%|██████████| 500/500 [00:03<00:00, 150.88batch/s]\n",
            "100%|██████████| 2000/2000 [00:16<00:00, 119.18batch/s]\n",
            "100%|██████████| 500/500 [00:03<00:00, 148.61batch/s]\n",
            "100%|██████████| 2000/2000 [00:16<00:00, 118.19batch/s]\n",
            "100%|██████████| 500/500 [00:03<00:00, 148.89batch/s]\n",
            "100%|██████████| 2000/2000 [00:16<00:00, 119.34batch/s]\n",
            "100%|██████████| 500/500 [00:03<00:00, 147.80batch/s]\n"
          ]
        },
        {
          "output_type": "stream",
          "name": "stdout",
          "text": [
            "\n",
            "Epoch: 60\n",
            "training: \n"
          ]
        },
        {
          "output_type": "stream",
          "name": "stderr",
          "text": [
            "100%|██████████| 2000/2000 [00:16<00:00, 119.31batch/s]\n"
          ]
        },
        {
          "output_type": "stream",
          "name": "stdout",
          "text": [
            "validation: \n"
          ]
        },
        {
          "output_type": "stream",
          "name": "stderr",
          "text": [
            "100%|██████████| 500/500 [00:03<00:00, 147.90batch/s]\n"
          ]
        },
        {
          "output_type": "stream",
          "name": "stdout",
          "text": [
            "Training Loss: 0.177685 \tValidation Loss: 0.513600\n"
          ]
        },
        {
          "output_type": "stream",
          "name": "stderr",
          "text": [
            "100%|██████████| 2000/2000 [00:16<00:00, 119.52batch/s]\n",
            "100%|██████████| 500/500 [00:03<00:00, 152.54batch/s]\n",
            "100%|██████████| 2000/2000 [00:16<00:00, 120.86batch/s]\n",
            "100%|██████████| 500/500 [00:03<00:00, 150.31batch/s]\n",
            "100%|██████████| 2000/2000 [00:16<00:00, 117.79batch/s]\n",
            "100%|██████████| 500/500 [00:03<00:00, 144.32batch/s]\n",
            "100%|██████████| 2000/2000 [00:17<00:00, 116.56batch/s]\n",
            "100%|██████████| 500/500 [00:03<00:00, 149.17batch/s]\n",
            "100%|██████████| 2000/2000 [00:17<00:00, 117.38batch/s]\n",
            "100%|██████████| 500/500 [00:03<00:00, 148.54batch/s]\n",
            "100%|██████████| 2000/2000 [00:16<00:00, 118.82batch/s]\n",
            "100%|██████████| 500/500 [00:03<00:00, 148.36batch/s]\n",
            "100%|██████████| 2000/2000 [00:17<00:00, 117.35batch/s]\n",
            "100%|██████████| 500/500 [00:03<00:00, 146.78batch/s]\n",
            "100%|██████████| 2000/2000 [00:16<00:00, 118.64batch/s]\n",
            "100%|██████████| 500/500 [00:03<00:00, 145.13batch/s]\n",
            "100%|██████████| 2000/2000 [00:17<00:00, 117.38batch/s]\n",
            "100%|██████████| 500/500 [00:03<00:00, 150.03batch/s]\n",
            "100%|██████████| 2000/2000 [00:17<00:00, 116.57batch/s]\n",
            "100%|██████████| 500/500 [00:03<00:00, 144.52batch/s]\n",
            "100%|██████████| 2000/2000 [00:17<00:00, 116.50batch/s]\n",
            "100%|██████████| 500/500 [00:03<00:00, 145.75batch/s]\n",
            "100%|██████████| 2000/2000 [00:17<00:00, 115.69batch/s]\n",
            "100%|██████████| 500/500 [00:03<00:00, 147.04batch/s]\n",
            "100%|██████████| 2000/2000 [00:16<00:00, 117.97batch/s]\n",
            "100%|██████████| 500/500 [00:03<00:00, 146.77batch/s]\n",
            "100%|██████████| 2000/2000 [00:17<00:00, 116.83batch/s]\n",
            "100%|██████████| 500/500 [00:03<00:00, 145.35batch/s]\n",
            "100%|██████████| 2000/2000 [00:17<00:00, 114.86batch/s]\n",
            "100%|██████████| 500/500 [00:03<00:00, 146.25batch/s]\n",
            "100%|██████████| 2000/2000 [00:17<00:00, 117.40batch/s]\n",
            "100%|██████████| 500/500 [00:03<00:00, 147.10batch/s]\n",
            "100%|██████████| 2000/2000 [00:16<00:00, 118.28batch/s]\n",
            "100%|██████████| 500/500 [00:03<00:00, 146.57batch/s]\n",
            "100%|██████████| 2000/2000 [00:17<00:00, 115.32batch/s]\n",
            "100%|██████████| 500/500 [00:03<00:00, 147.93batch/s]\n",
            "100%|██████████| 2000/2000 [00:17<00:00, 116.85batch/s]\n",
            "100%|██████████| 500/500 [00:03<00:00, 144.51batch/s]\n",
            "100%|██████████| 2000/2000 [00:16<00:00, 117.82batch/s]\n",
            "100%|██████████| 500/500 [00:03<00:00, 144.18batch/s]\n",
            "100%|██████████| 2000/2000 [00:17<00:00, 115.08batch/s]\n",
            "100%|██████████| 500/500 [00:03<00:00, 145.30batch/s]\n",
            "100%|██████████| 2000/2000 [00:17<00:00, 116.76batch/s]\n",
            "100%|██████████| 500/500 [00:03<00:00, 147.62batch/s]\n",
            "100%|██████████| 2000/2000 [00:16<00:00, 119.08batch/s]\n",
            "100%|██████████| 500/500 [00:03<00:00, 145.36batch/s]\n",
            "100%|██████████| 2000/2000 [00:17<00:00, 116.02batch/s]\n",
            "100%|██████████| 500/500 [00:03<00:00, 144.55batch/s]\n",
            "100%|██████████| 2000/2000 [00:17<00:00, 116.25batch/s]\n",
            "100%|██████████| 500/500 [00:03<00:00, 144.09batch/s]\n",
            "100%|██████████| 2000/2000 [00:17<00:00, 115.04batch/s]\n",
            "100%|██████████| 500/500 [00:03<00:00, 146.50batch/s]\n",
            "100%|██████████| 2000/2000 [00:17<00:00, 116.68batch/s]\n",
            "100%|██████████| 500/500 [00:03<00:00, 144.89batch/s]\n",
            "100%|██████████| 2000/2000 [00:16<00:00, 118.36batch/s]\n",
            "100%|██████████| 500/500 [00:03<00:00, 144.88batch/s]\n",
            "100%|██████████| 2000/2000 [00:17<00:00, 115.45batch/s]\n",
            "100%|██████████| 500/500 [00:03<00:00, 147.15batch/s]\n"
          ]
        },
        {
          "output_type": "stream",
          "name": "stdout",
          "text": [
            "\n",
            "Epoch: 90\n",
            "training: \n"
          ]
        },
        {
          "output_type": "stream",
          "name": "stderr",
          "text": [
            "100%|██████████| 2000/2000 [00:17<00:00, 116.30batch/s]\n"
          ]
        },
        {
          "output_type": "stream",
          "name": "stdout",
          "text": [
            "validation: \n"
          ]
        },
        {
          "output_type": "stream",
          "name": "stderr",
          "text": [
            "100%|██████████| 500/500 [00:03<00:00, 145.51batch/s]\n"
          ]
        },
        {
          "output_type": "stream",
          "name": "stdout",
          "text": [
            "Training Loss: 0.122517 \tValidation Loss: 0.742945\n"
          ]
        },
        {
          "output_type": "stream",
          "name": "stderr",
          "text": [
            "100%|██████████| 2000/2000 [00:17<00:00, 117.21batch/s]\n",
            "100%|██████████| 500/500 [00:03<00:00, 145.90batch/s]\n",
            "100%|██████████| 2000/2000 [00:17<00:00, 115.69batch/s]\n",
            "100%|██████████| 500/500 [00:03<00:00, 145.94batch/s]\n",
            "100%|██████████| 2000/2000 [00:17<00:00, 116.45batch/s]\n",
            "100%|██████████| 500/500 [00:03<00:00, 144.16batch/s]\n",
            "100%|██████████| 2000/2000 [00:16<00:00, 117.97batch/s]\n",
            "100%|██████████| 500/500 [00:03<00:00, 147.03batch/s]\n",
            "100%|██████████| 2000/2000 [00:17<00:00, 116.34batch/s]\n",
            "100%|██████████| 500/500 [00:03<00:00, 143.27batch/s]\n",
            "100%|██████████| 2000/2000 [00:17<00:00, 117.59batch/s]\n",
            "100%|██████████| 500/500 [00:03<00:00, 144.19batch/s]\n",
            "100%|██████████| 2000/2000 [00:17<00:00, 116.86batch/s]\n",
            "100%|██████████| 500/500 [00:03<00:00, 145.96batch/s]\n",
            "100%|██████████| 2000/2000 [00:17<00:00, 115.57batch/s]\n",
            "100%|██████████| 500/500 [00:03<00:00, 147.34batch/s]\n",
            "100%|██████████| 2000/2000 [00:17<00:00, 117.62batch/s]\n",
            "100%|██████████| 500/500 [00:03<00:00, 144.33batch/s]\n",
            "100%|██████████| 2000/2000 [00:17<00:00, 115.09batch/s]\n",
            "100%|██████████| 500/500 [00:03<00:00, 145.14batch/s]\n",
            "100%|██████████| 2000/2000 [00:17<00:00, 117.38batch/s]\n",
            "100%|██████████| 500/500 [00:03<00:00, 145.27batch/s]\n",
            "100%|██████████| 2000/2000 [00:16<00:00, 118.85batch/s]\n",
            "100%|██████████| 500/500 [00:03<00:00, 148.45batch/s]\n",
            "100%|██████████| 2000/2000 [00:17<00:00, 116.89batch/s]\n",
            "100%|██████████| 500/500 [00:03<00:00, 145.17batch/s]\n",
            "100%|██████████| 2000/2000 [00:16<00:00, 118.27batch/s]\n",
            "100%|██████████| 500/500 [00:03<00:00, 148.64batch/s]\n",
            "100%|██████████| 2000/2000 [00:17<00:00, 117.18batch/s]\n",
            "100%|██████████| 500/500 [00:03<00:00, 145.84batch/s]\n",
            "100%|██████████| 2000/2000 [00:16<00:00, 117.80batch/s]\n",
            "100%|██████████| 500/500 [00:03<00:00, 146.23batch/s]\n",
            "100%|██████████| 2000/2000 [00:17<00:00, 117.36batch/s]\n",
            "100%|██████████| 500/500 [00:03<00:00, 145.78batch/s]\n",
            "100%|██████████| 2000/2000 [00:16<00:00, 120.13batch/s]\n",
            "100%|██████████| 500/500 [00:03<00:00, 141.03batch/s]\n",
            "100%|██████████| 2000/2000 [00:16<00:00, 120.73batch/s]\n",
            "100%|██████████| 500/500 [00:03<00:00, 147.19batch/s]\n",
            "100%|██████████| 2000/2000 [00:16<00:00, 118.96batch/s]\n",
            "100%|██████████| 500/500 [00:03<00:00, 146.37batch/s]\n",
            "100%|██████████| 2000/2000 [00:17<00:00, 117.60batch/s]\n",
            "100%|██████████| 500/500 [00:03<00:00, 146.11batch/s]\n",
            "100%|██████████| 2000/2000 [00:17<00:00, 111.85batch/s]\n",
            "100%|██████████| 500/500 [00:03<00:00, 141.19batch/s]\n",
            "100%|██████████| 2000/2000 [00:17<00:00, 116.94batch/s]\n",
            "100%|██████████| 500/500 [00:03<00:00, 145.65batch/s]\n",
            "100%|██████████| 2000/2000 [00:17<00:00, 116.60batch/s]\n",
            "100%|██████████| 500/500 [00:03<00:00, 146.41batch/s]\n",
            "100%|██████████| 2000/2000 [00:16<00:00, 118.21batch/s]\n",
            "100%|██████████| 500/500 [00:03<00:00, 147.60batch/s]\n",
            "100%|██████████| 2000/2000 [00:16<00:00, 118.48batch/s]\n",
            "100%|██████████| 500/500 [00:03<00:00, 147.20batch/s]\n",
            "100%|██████████| 2000/2000 [00:17<00:00, 117.19batch/s]\n",
            "100%|██████████| 500/500 [00:03<00:00, 145.33batch/s]\n",
            "100%|██████████| 2000/2000 [00:16<00:00, 118.23batch/s]\n",
            "100%|██████████| 500/500 [00:03<00:00, 146.60batch/s]\n",
            "100%|██████████| 2000/2000 [00:16<00:00, 118.61batch/s]\n",
            "100%|██████████| 500/500 [00:03<00:00, 148.91batch/s]\n"
          ]
        },
        {
          "output_type": "stream",
          "name": "stdout",
          "text": [
            "\n",
            "Epoch: 120\n",
            "training: \n"
          ]
        },
        {
          "output_type": "stream",
          "name": "stderr",
          "text": [
            "100%|██████████| 2000/2000 [00:17<00:00, 116.77batch/s]\n"
          ]
        },
        {
          "output_type": "stream",
          "name": "stdout",
          "text": [
            "validation: \n"
          ]
        },
        {
          "output_type": "stream",
          "name": "stderr",
          "text": [
            "100%|██████████| 500/500 [00:03<00:00, 143.82batch/s]\n"
          ]
        },
        {
          "output_type": "stream",
          "name": "stdout",
          "text": [
            "Training Loss: 0.092176 \tValidation Loss: 0.891858\n"
          ]
        },
        {
          "output_type": "stream",
          "name": "stderr",
          "text": [
            "100%|██████████| 2000/2000 [00:16<00:00, 117.78batch/s]\n",
            "100%|██████████| 500/500 [00:03<00:00, 145.85batch/s]\n",
            "100%|██████████| 2000/2000 [00:17<00:00, 117.17batch/s]\n",
            "100%|██████████| 500/500 [00:03<00:00, 146.54batch/s]\n",
            "100%|██████████| 2000/2000 [00:17<00:00, 116.87batch/s]\n",
            "100%|██████████| 500/500 [00:03<00:00, 144.85batch/s]\n",
            "100%|██████████| 2000/2000 [00:17<00:00, 117.24batch/s]\n",
            "100%|██████████| 500/500 [00:03<00:00, 147.84batch/s]\n",
            "100%|██████████| 2000/2000 [00:17<00:00, 116.30batch/s]\n",
            "100%|██████████| 500/500 [00:03<00:00, 146.26batch/s]\n",
            "100%|██████████| 2000/2000 [00:16<00:00, 117.68batch/s]\n",
            "100%|██████████| 500/500 [00:03<00:00, 146.90batch/s]\n",
            "100%|██████████| 2000/2000 [00:16<00:00, 117.95batch/s]\n",
            "100%|██████████| 500/500 [00:03<00:00, 144.47batch/s]\n",
            "100%|██████████| 2000/2000 [00:17<00:00, 116.38batch/s]\n",
            "100%|██████████| 500/500 [00:03<00:00, 149.21batch/s]\n",
            "100%|██████████| 2000/2000 [00:16<00:00, 118.19batch/s]\n",
            "100%|██████████| 500/500 [00:03<00:00, 147.20batch/s]\n",
            "100%|██████████| 2000/2000 [00:17<00:00, 117.27batch/s]\n",
            "100%|██████████| 500/500 [00:03<00:00, 147.52batch/s]\n",
            "100%|██████████| 2000/2000 [00:17<00:00, 116.02batch/s]\n",
            "100%|██████████| 500/500 [00:03<00:00, 146.14batch/s]\n",
            "100%|██████████| 2000/2000 [00:17<00:00, 117.40batch/s]\n",
            "100%|██████████| 500/500 [00:03<00:00, 148.02batch/s]\n",
            "100%|██████████| 2000/2000 [00:17<00:00, 116.70batch/s]\n",
            "100%|██████████| 500/500 [00:03<00:00, 145.83batch/s]\n",
            "100%|██████████| 2000/2000 [00:17<00:00, 116.28batch/s]\n",
            "100%|██████████| 500/500 [00:03<00:00, 145.97batch/s]\n",
            "100%|██████████| 2000/2000 [00:16<00:00, 118.21batch/s]\n",
            "100%|██████████| 500/500 [00:03<00:00, 145.43batch/s]\n",
            "100%|██████████| 2000/2000 [00:17<00:00, 117.01batch/s]\n",
            "100%|██████████| 500/500 [00:03<00:00, 144.08batch/s]\n",
            "100%|██████████| 2000/2000 [00:17<00:00, 116.43batch/s]\n",
            "100%|██████████| 500/500 [00:03<00:00, 147.53batch/s]\n",
            "100%|██████████| 2000/2000 [00:16<00:00, 118.06batch/s]\n",
            "100%|██████████| 500/500 [00:03<00:00, 146.01batch/s]\n",
            "100%|██████████| 2000/2000 [00:17<00:00, 115.69batch/s]\n",
            "100%|██████████| 500/500 [00:03<00:00, 145.96batch/s]\n",
            "100%|██████████| 2000/2000 [00:17<00:00, 117.08batch/s]\n",
            "100%|██████████| 500/500 [00:03<00:00, 144.08batch/s]\n",
            "100%|██████████| 2000/2000 [00:16<00:00, 118.10batch/s]\n",
            "100%|██████████| 500/500 [00:03<00:00, 145.49batch/s]\n",
            "100%|██████████| 2000/2000 [00:17<00:00, 115.58batch/s]\n",
            "100%|██████████| 500/500 [00:03<00:00, 145.70batch/s]\n",
            "100%|██████████| 2000/2000 [00:17<00:00, 116.92batch/s]\n",
            "100%|██████████| 500/500 [00:03<00:00, 147.67batch/s]\n",
            "100%|██████████| 2000/2000 [00:16<00:00, 117.81batch/s]\n",
            "100%|██████████| 500/500 [00:03<00:00, 145.12batch/s]\n",
            "100%|██████████| 2000/2000 [00:17<00:00, 114.53batch/s]\n",
            "100%|██████████| 500/500 [00:03<00:00, 144.40batch/s]\n",
            "100%|██████████| 2000/2000 [00:17<00:00, 116.43batch/s]\n",
            "100%|██████████| 500/500 [00:03<00:00, 143.77batch/s]\n",
            "100%|██████████| 2000/2000 [00:17<00:00, 115.11batch/s]\n",
            "100%|██████████| 500/500 [00:03<00:00, 141.63batch/s]\n",
            "100%|██████████| 2000/2000 [00:17<00:00, 115.55batch/s]\n",
            "100%|██████████| 500/500 [00:03<00:00, 144.90batch/s]\n",
            "100%|██████████| 2000/2000 [00:17<00:00, 116.33batch/s]\n",
            "100%|██████████| 500/500 [00:03<00:00, 144.04batch/s]\n"
          ]
        },
        {
          "output_type": "stream",
          "name": "stdout",
          "text": [
            "\n",
            "Epoch: 150\n",
            "training: \n"
          ]
        },
        {
          "output_type": "stream",
          "name": "stderr",
          "text": [
            "100%|██████████| 2000/2000 [00:17<00:00, 115.04batch/s]\n"
          ]
        },
        {
          "output_type": "stream",
          "name": "stdout",
          "text": [
            "validation: \n"
          ]
        },
        {
          "output_type": "stream",
          "name": "stderr",
          "text": [
            "100%|██████████| 500/500 [00:03<00:00, 144.73batch/s]\n"
          ]
        },
        {
          "output_type": "stream",
          "name": "stdout",
          "text": [
            "Training Loss: 0.123462 \tValidation Loss: 0.981325\n"
          ]
        },
        {
          "output_type": "stream",
          "name": "stderr",
          "text": [
            "100%|██████████| 2000/2000 [00:17<00:00, 115.72batch/s]\n",
            "100%|██████████| 500/500 [00:03<00:00, 142.89batch/s]\n",
            "100%|██████████| 2000/2000 [00:17<00:00, 116.14batch/s]\n",
            "100%|██████████| 500/500 [00:03<00:00, 146.75batch/s]\n",
            "100%|██████████| 2000/2000 [00:17<00:00, 114.71batch/s]\n",
            "100%|██████████| 500/500 [00:03<00:00, 145.34batch/s]\n",
            "100%|██████████| 2000/2000 [00:17<00:00, 116.45batch/s]\n",
            "100%|██████████| 500/500 [00:03<00:00, 144.81batch/s]\n",
            "100%|██████████| 2000/2000 [00:17<00:00, 116.43batch/s]\n",
            "100%|██████████| 500/500 [00:03<00:00, 145.17batch/s]\n",
            "100%|██████████| 2000/2000 [00:17<00:00, 115.27batch/s]\n",
            "100%|██████████| 500/500 [00:03<00:00, 142.34batch/s]\n",
            "100%|██████████| 2000/2000 [00:17<00:00, 115.48batch/s]\n",
            "100%|██████████| 500/500 [00:03<00:00, 143.55batch/s]\n",
            "100%|██████████| 2000/2000 [00:17<00:00, 115.56batch/s]\n",
            "100%|██████████| 500/500 [00:03<00:00, 144.38batch/s]\n",
            "100%|██████████| 2000/2000 [00:17<00:00, 114.38batch/s]\n",
            "100%|██████████| 500/500 [00:03<00:00, 145.47batch/s]\n",
            "100%|██████████| 2000/2000 [00:17<00:00, 116.00batch/s]\n",
            "100%|██████████| 500/500 [00:03<00:00, 145.46batch/s]\n",
            "100%|██████████| 2000/2000 [00:17<00:00, 116.22batch/s]\n",
            "100%|██████████| 500/500 [00:03<00:00, 135.45batch/s]\n",
            "100%|██████████| 2000/2000 [00:17<00:00, 116.49batch/s]\n",
            "100%|██████████| 500/500 [00:03<00:00, 142.28batch/s]\n",
            "100%|██████████| 2000/2000 [00:17<00:00, 116.56batch/s]\n",
            "100%|██████████| 500/500 [00:03<00:00, 144.31batch/s]\n",
            "100%|██████████| 2000/2000 [00:17<00:00, 115.40batch/s]\n",
            "100%|██████████| 500/500 [00:03<00:00, 146.93batch/s]\n",
            "100%|██████████| 2000/2000 [00:17<00:00, 116.90batch/s]\n",
            "100%|██████████| 500/500 [00:03<00:00, 143.37batch/s]\n",
            "100%|██████████| 2000/2000 [00:17<00:00, 117.47batch/s]\n",
            "100%|██████████| 500/500 [00:03<00:00, 145.83batch/s]\n",
            "100%|██████████| 2000/2000 [00:17<00:00, 116.07batch/s]\n",
            "100%|██████████| 500/500 [00:03<00:00, 145.28batch/s]\n",
            "100%|██████████| 2000/2000 [00:17<00:00, 117.00batch/s]\n",
            "100%|██████████| 500/500 [00:03<00:00, 146.68batch/s]\n",
            "100%|██████████| 2000/2000 [00:16<00:00, 119.59batch/s]\n",
            "100%|██████████| 500/500 [00:03<00:00, 150.79batch/s]\n",
            "100%|██████████| 2000/2000 [00:16<00:00, 118.57batch/s]\n",
            "100%|██████████| 500/500 [00:03<00:00, 150.57batch/s]\n",
            "100%|██████████| 2000/2000 [00:16<00:00, 118.29batch/s]\n",
            "100%|██████████| 500/500 [00:03<00:00, 147.76batch/s]\n",
            "100%|██████████| 2000/2000 [00:16<00:00, 118.63batch/s]\n",
            "100%|██████████| 500/500 [00:03<00:00, 146.95batch/s]\n",
            "100%|██████████| 2000/2000 [00:17<00:00, 117.50batch/s]\n",
            "100%|██████████| 500/500 [00:03<00:00, 145.13batch/s]\n",
            "100%|██████████| 2000/2000 [00:17<00:00, 117.33batch/s]\n",
            "100%|██████████| 500/500 [00:03<00:00, 146.75batch/s]\n",
            "100%|██████████| 2000/2000 [00:16<00:00, 117.84batch/s]\n",
            "100%|██████████| 500/500 [00:03<00:00, 143.89batch/s]\n",
            "100%|██████████| 2000/2000 [00:17<00:00, 117.63batch/s]\n",
            "100%|██████████| 500/500 [00:03<00:00, 148.65batch/s]\n",
            "100%|██████████| 2000/2000 [00:16<00:00, 118.29batch/s]\n",
            "100%|██████████| 500/500 [00:03<00:00, 150.91batch/s]\n",
            "100%|██████████| 2000/2000 [00:17<00:00, 117.50batch/s]\n",
            "100%|██████████| 500/500 [00:03<00:00, 149.02batch/s]\n",
            "100%|██████████| 2000/2000 [00:16<00:00, 118.21batch/s]\n",
            "100%|██████████| 500/500 [00:03<00:00, 151.67batch/s]\n"
          ]
        },
        {
          "output_type": "stream",
          "name": "stdout",
          "text": [
            "\n",
            "Epoch: 180\n",
            "training: \n"
          ]
        },
        {
          "output_type": "stream",
          "name": "stderr",
          "text": [
            "100%|██████████| 2000/2000 [00:16<00:00, 118.37batch/s]\n"
          ]
        },
        {
          "output_type": "stream",
          "name": "stdout",
          "text": [
            "validation: \n"
          ]
        },
        {
          "output_type": "stream",
          "name": "stderr",
          "text": [
            "100%|██████████| 500/500 [00:03<00:00, 145.93batch/s]\n"
          ]
        },
        {
          "output_type": "stream",
          "name": "stdout",
          "text": [
            "Training Loss: 0.104748 \tValidation Loss: 1.120295\n"
          ]
        },
        {
          "output_type": "stream",
          "name": "stderr",
          "text": [
            "100%|██████████| 2000/2000 [00:17<00:00, 116.97batch/s]\n",
            "100%|██████████| 500/500 [00:03<00:00, 149.08batch/s]\n",
            "100%|██████████| 2000/2000 [00:16<00:00, 118.43batch/s]\n",
            "100%|██████████| 500/500 [00:03<00:00, 146.24batch/s]\n",
            "100%|██████████| 2000/2000 [00:16<00:00, 118.14batch/s]\n",
            "100%|██████████| 500/500 [00:03<00:00, 145.65batch/s]\n",
            "100%|██████████| 2000/2000 [00:17<00:00, 116.69batch/s]\n",
            "100%|██████████| 500/500 [00:03<00:00, 146.69batch/s]\n",
            "100%|██████████| 2000/2000 [00:17<00:00, 117.64batch/s]\n",
            "100%|██████████| 500/500 [00:03<00:00, 146.58batch/s]\n",
            "100%|██████████| 2000/2000 [00:16<00:00, 117.71batch/s]\n",
            "100%|██████████| 500/500 [00:03<00:00, 146.15batch/s]\n",
            "100%|██████████| 2000/2000 [00:17<00:00, 116.25batch/s]\n",
            "100%|██████████| 500/500 [00:03<00:00, 145.93batch/s]\n",
            "100%|██████████| 2000/2000 [00:17<00:00, 117.08batch/s]\n",
            "100%|██████████| 500/500 [00:03<00:00, 147.84batch/s]\n",
            "100%|██████████| 2000/2000 [00:16<00:00, 118.06batch/s]\n",
            "100%|██████████| 500/500 [00:03<00:00, 147.17batch/s]\n",
            "100%|██████████| 2000/2000 [00:17<00:00, 116.87batch/s]\n",
            "100%|██████████| 500/500 [00:03<00:00, 144.62batch/s]\n",
            "100%|██████████| 2000/2000 [00:17<00:00, 117.19batch/s]\n",
            "100%|██████████| 500/500 [00:03<00:00, 145.18batch/s]\n",
            "100%|██████████| 2000/2000 [00:17<00:00, 116.23batch/s]\n",
            "100%|██████████| 500/500 [00:03<00:00, 145.85batch/s]\n",
            "100%|██████████| 2000/2000 [00:17<00:00, 117.61batch/s]\n",
            "100%|██████████| 500/500 [00:03<00:00, 145.73batch/s]\n",
            "100%|██████████| 2000/2000 [00:16<00:00, 117.96batch/s]\n",
            "100%|██████████| 500/500 [00:03<00:00, 145.93batch/s]\n",
            "100%|██████████| 2000/2000 [00:17<00:00, 115.84batch/s]\n",
            "100%|██████████| 500/500 [00:03<00:00, 143.16batch/s]\n",
            "100%|██████████| 2000/2000 [00:17<00:00, 116.16batch/s]\n",
            "100%|██████████| 500/500 [00:03<00:00, 145.73batch/s]\n",
            "100%|██████████| 2000/2000 [00:17<00:00, 117.15batch/s]\n",
            "100%|██████████| 500/500 [00:03<00:00, 146.25batch/s]\n",
            "100%|██████████| 2000/2000 [00:17<00:00, 115.83batch/s]\n",
            "100%|██████████| 500/500 [00:03<00:00, 145.53batch/s]\n",
            "100%|██████████| 2000/2000 [00:17<00:00, 116.19batch/s]\n",
            "100%|██████████| 500/500 [00:03<00:00, 145.96batch/s]\n",
            "100%|██████████| 2000/2000 [00:17<00:00, 116.65batch/s]\n",
            "100%|██████████| 500/500 [00:03<00:00, 145.32batch/s]\n",
            "100%|██████████| 2000/2000 [00:17<00:00, 116.34batch/s]\n",
            "100%|██████████| 500/500 [00:03<00:00, 144.70batch/s]\n",
            "100%|██████████| 2000/2000 [00:17<00:00, 117.55batch/s]\n",
            "100%|██████████| 500/500 [00:03<00:00, 144.92batch/s]\n",
            "100%|██████████| 2000/2000 [00:17<00:00, 117.02batch/s]\n",
            "100%|██████████| 500/500 [00:03<00:00, 143.80batch/s]\n",
            "100%|██████████| 2000/2000 [00:17<00:00, 115.72batch/s]\n",
            "100%|██████████| 500/500 [00:03<00:00, 147.77batch/s]\n",
            "100%|██████████| 2000/2000 [00:16<00:00, 117.81batch/s]\n",
            "100%|██████████| 500/500 [00:03<00:00, 146.83batch/s]\n",
            "100%|██████████| 2000/2000 [00:17<00:00, 115.95batch/s]\n",
            "100%|██████████| 500/500 [00:03<00:00, 143.61batch/s]\n",
            "100%|██████████| 2000/2000 [00:16<00:00, 117.70batch/s]\n",
            "100%|██████████| 500/500 [00:03<00:00, 148.32batch/s]\n",
            "100%|██████████| 2000/2000 [00:16<00:00, 118.72batch/s]\n",
            "100%|██████████| 500/500 [00:03<00:00, 147.25batch/s]\n",
            "100%|██████████| 2000/2000 [00:17<00:00, 116.59batch/s]\n",
            "100%|██████████| 500/500 [00:03<00:00, 144.12batch/s]\n"
          ]
        },
        {
          "output_type": "stream",
          "name": "stdout",
          "text": [
            "\n",
            "Epoch: 210\n",
            "training: \n"
          ]
        },
        {
          "output_type": "stream",
          "name": "stderr",
          "text": [
            "100%|██████████| 2000/2000 [00:16<00:00, 117.91batch/s]\n"
          ]
        },
        {
          "output_type": "stream",
          "name": "stdout",
          "text": [
            "validation: \n"
          ]
        },
        {
          "output_type": "stream",
          "name": "stderr",
          "text": [
            "100%|██████████| 500/500 [00:03<00:00, 145.06batch/s]\n"
          ]
        },
        {
          "output_type": "stream",
          "name": "stdout",
          "text": [
            "Training Loss: 0.074405 \tValidation Loss: 1.217253\n"
          ]
        },
        {
          "output_type": "stream",
          "name": "stderr",
          "text": [
            "100%|██████████| 2000/2000 [00:17<00:00, 116.70batch/s]\n",
            "100%|██████████| 500/500 [00:03<00:00, 145.56batch/s]\n",
            "100%|██████████| 2000/2000 [00:17<00:00, 116.40batch/s]\n",
            "100%|██████████| 500/500 [00:03<00:00, 145.07batch/s]\n",
            "100%|██████████| 2000/2000 [00:16<00:00, 118.83batch/s]\n",
            "100%|██████████| 500/500 [00:03<00:00, 145.68batch/s]\n",
            "100%|██████████| 2000/2000 [00:16<00:00, 118.69batch/s]\n",
            "100%|██████████| 500/500 [00:03<00:00, 139.60batch/s]\n",
            "100%|██████████| 2000/2000 [00:17<00:00, 117.41batch/s]\n",
            "100%|██████████| 500/500 [00:03<00:00, 144.97batch/s]\n",
            "100%|██████████| 2000/2000 [00:16<00:00, 118.43batch/s]\n",
            "100%|██████████| 500/500 [00:03<00:00, 146.48batch/s]\n",
            "100%|██████████| 2000/2000 [00:17<00:00, 116.65batch/s]\n",
            "100%|██████████| 500/500 [00:03<00:00, 145.45batch/s]\n",
            "100%|██████████| 2000/2000 [00:16<00:00, 117.69batch/s]\n",
            "100%|██████████| 500/500 [00:03<00:00, 147.15batch/s]\n",
            "100%|██████████| 2000/2000 [00:16<00:00, 117.84batch/s]\n",
            "100%|██████████| 500/500 [00:03<00:00, 145.85batch/s]\n",
            "100%|██████████| 2000/2000 [00:17<00:00, 116.27batch/s]\n",
            "100%|██████████| 500/500 [00:03<00:00, 145.34batch/s]\n",
            "100%|██████████| 2000/2000 [00:16<00:00, 118.18batch/s]\n",
            "100%|██████████| 500/500 [00:03<00:00, 144.14batch/s]\n",
            "100%|██████████| 2000/2000 [00:16<00:00, 118.35batch/s]\n",
            "100%|██████████| 500/500 [00:03<00:00, 145.81batch/s]\n",
            "100%|██████████| 2000/2000 [00:17<00:00, 116.09batch/s]\n",
            "100%|██████████| 500/500 [00:03<00:00, 145.96batch/s]\n",
            "100%|██████████| 2000/2000 [00:17<00:00, 117.27batch/s]\n",
            "100%|██████████| 500/500 [00:03<00:00, 148.65batch/s]\n",
            "100%|██████████| 2000/2000 [00:17<00:00, 115.84batch/s]\n",
            "100%|██████████| 500/500 [00:03<00:00, 141.94batch/s]\n",
            "100%|██████████| 2000/2000 [00:17<00:00, 113.40batch/s]\n",
            "100%|██████████| 500/500 [00:03<00:00, 143.46batch/s]\n",
            "100%|██████████| 2000/2000 [00:17<00:00, 116.73batch/s]\n",
            "100%|██████████| 500/500 [00:03<00:00, 143.10batch/s]\n",
            "100%|██████████| 2000/2000 [00:17<00:00, 115.51batch/s]\n",
            "100%|██████████| 500/500 [00:03<00:00, 142.99batch/s]\n",
            "100%|██████████| 2000/2000 [00:17<00:00, 114.31batch/s]\n",
            "100%|██████████| 500/500 [00:03<00:00, 144.65batch/s]\n",
            "100%|██████████| 2000/2000 [00:17<00:00, 116.12batch/s]\n",
            "100%|██████████| 500/500 [00:03<00:00, 144.78batch/s]\n",
            "100%|██████████| 2000/2000 [00:17<00:00, 114.46batch/s]\n",
            "100%|██████████| 500/500 [00:03<00:00, 141.88batch/s]\n",
            "100%|██████████| 2000/2000 [00:17<00:00, 116.14batch/s]\n",
            "100%|██████████| 500/500 [00:03<00:00, 143.94batch/s]\n",
            "100%|██████████| 2000/2000 [00:17<00:00, 116.45batch/s]\n",
            "100%|██████████| 500/500 [00:03<00:00, 143.66batch/s]\n",
            "100%|██████████| 2000/2000 [00:17<00:00, 116.42batch/s]\n",
            "100%|██████████| 500/500 [00:03<00:00, 149.47batch/s]\n",
            "100%|██████████| 2000/2000 [00:16<00:00, 119.56batch/s]\n",
            "100%|██████████| 500/500 [00:03<00:00, 148.66batch/s]\n",
            "100%|██████████| 2000/2000 [00:16<00:00, 119.66batch/s]\n",
            "100%|██████████| 500/500 [00:03<00:00, 148.56batch/s]\n",
            "100%|██████████| 2000/2000 [00:16<00:00, 117.71batch/s]\n",
            "100%|██████████| 500/500 [00:03<00:00, 147.06batch/s]\n",
            "100%|██████████| 2000/2000 [00:17<00:00, 117.35batch/s]\n",
            "100%|██████████| 500/500 [00:03<00:00, 146.50batch/s]\n",
            "100%|██████████| 2000/2000 [00:16<00:00, 119.62batch/s]\n",
            "100%|██████████| 500/500 [00:03<00:00, 149.65batch/s]\n"
          ]
        },
        {
          "output_type": "stream",
          "name": "stdout",
          "text": [
            "\n",
            "Epoch: 240\n",
            "training: \n"
          ]
        },
        {
          "output_type": "stream",
          "name": "stderr",
          "text": [
            "100%|██████████| 2000/2000 [00:17<00:00, 116.84batch/s]\n"
          ]
        },
        {
          "output_type": "stream",
          "name": "stdout",
          "text": [
            "validation: \n"
          ]
        },
        {
          "output_type": "stream",
          "name": "stderr",
          "text": [
            "100%|██████████| 500/500 [00:03<00:00, 146.29batch/s]\n"
          ]
        },
        {
          "output_type": "stream",
          "name": "stdout",
          "text": [
            "Training Loss: 0.084083 \tValidation Loss: 1.276952\n"
          ]
        },
        {
          "output_type": "stream",
          "name": "stderr",
          "text": [
            "100%|██████████| 2000/2000 [00:17<00:00, 117.12batch/s]\n",
            "100%|██████████| 500/500 [00:03<00:00, 145.80batch/s]\n",
            "100%|██████████| 2000/2000 [00:16<00:00, 118.39batch/s]\n",
            "100%|██████████| 500/500 [00:03<00:00, 146.23batch/s]\n",
            "100%|██████████| 2000/2000 [00:17<00:00, 116.88batch/s]\n",
            "100%|██████████| 500/500 [00:03<00:00, 145.26batch/s]\n",
            "100%|██████████| 2000/2000 [00:17<00:00, 116.71batch/s]\n",
            "100%|██████████| 500/500 [00:03<00:00, 147.25batch/s]\n",
            "100%|██████████| 2000/2000 [00:17<00:00, 116.38batch/s]\n",
            "100%|██████████| 500/500 [00:03<00:00, 147.59batch/s]\n",
            "100%|██████████| 2000/2000 [00:16<00:00, 118.58batch/s]\n",
            "100%|██████████| 500/500 [00:03<00:00, 147.92batch/s]\n",
            "100%|██████████| 2000/2000 [00:17<00:00, 117.45batch/s]\n",
            "100%|██████████| 500/500 [00:03<00:00, 146.06batch/s]\n",
            "100%|██████████| 2000/2000 [00:16<00:00, 117.96batch/s]\n",
            "100%|██████████| 500/500 [00:03<00:00, 145.70batch/s]\n",
            "100%|██████████| 2000/2000 [00:16<00:00, 117.85batch/s]\n",
            "100%|██████████| 500/500 [00:03<00:00, 146.56batch/s]\n",
            "100%|██████████| 2000/2000 [00:16<00:00, 119.32batch/s]\n",
            "100%|██████████| 500/500 [00:03<00:00, 148.24batch/s]\n",
            "100%|██████████| 2000/2000 [00:16<00:00, 118.80batch/s]\n",
            "100%|██████████| 500/500 [00:03<00:00, 147.59batch/s]\n",
            "100%|██████████| 2000/2000 [00:16<00:00, 119.69batch/s]\n",
            "100%|██████████| 500/500 [00:03<00:00, 152.52batch/s]\n",
            "100%|██████████| 2000/2000 [00:16<00:00, 120.71batch/s]\n",
            "100%|██████████| 500/500 [00:03<00:00, 149.08batch/s]\n",
            "100%|██████████| 2000/2000 [00:16<00:00, 118.86batch/s]\n",
            "100%|██████████| 500/500 [00:03<00:00, 149.27batch/s]\n",
            "100%|██████████| 2000/2000 [00:16<00:00, 120.03batch/s]\n",
            "100%|██████████| 500/500 [00:03<00:00, 147.95batch/s]\n",
            "100%|██████████| 2000/2000 [00:17<00:00, 117.54batch/s]\n",
            "100%|██████████| 500/500 [00:03<00:00, 147.14batch/s]\n",
            "100%|██████████| 2000/2000 [00:17<00:00, 117.51batch/s]\n",
            "100%|██████████| 500/500 [00:03<00:00, 146.30batch/s]\n",
            "100%|██████████| 2000/2000 [00:16<00:00, 119.11batch/s]\n",
            "100%|██████████| 500/500 [00:03<00:00, 146.73batch/s]\n",
            "100%|██████████| 2000/2000 [00:17<00:00, 117.51batch/s]\n",
            "100%|██████████| 500/500 [00:03<00:00, 147.90batch/s]\n",
            "100%|██████████| 2000/2000 [00:16<00:00, 119.51batch/s]\n",
            "100%|██████████| 500/500 [00:03<00:00, 146.24batch/s]\n",
            "100%|██████████| 2000/2000 [00:16<00:00, 118.89batch/s]\n",
            "100%|██████████| 500/500 [00:03<00:00, 146.46batch/s]\n",
            "100%|██████████| 2000/2000 [00:17<00:00, 117.43batch/s]\n",
            "100%|██████████| 500/500 [00:03<00:00, 144.85batch/s]\n",
            "100%|██████████| 2000/2000 [00:17<00:00, 116.37batch/s]\n",
            "100%|██████████| 500/500 [00:03<00:00, 143.78batch/s]\n",
            "100%|██████████| 2000/2000 [00:17<00:00, 117.32batch/s]\n",
            "100%|██████████| 500/500 [00:03<00:00, 143.42batch/s]\n",
            "100%|██████████| 2000/2000 [00:17<00:00, 115.40batch/s]\n",
            "100%|██████████| 500/500 [00:03<00:00, 144.69batch/s]\n",
            "100%|██████████| 2000/2000 [00:17<00:00, 115.45batch/s]\n",
            "100%|██████████| 500/500 [00:03<00:00, 145.85batch/s]\n",
            "100%|██████████| 2000/2000 [00:16<00:00, 118.02batch/s]\n",
            "100%|██████████| 500/500 [00:03<00:00, 138.60batch/s]\n",
            "100%|██████████| 2000/2000 [00:16<00:00, 118.50batch/s]\n",
            "100%|██████████| 500/500 [00:03<00:00, 145.39batch/s]\n",
            "100%|██████████| 2000/2000 [00:16<00:00, 119.00batch/s]\n",
            "100%|██████████| 500/500 [00:03<00:00, 146.77batch/s]\n"
          ]
        },
        {
          "output_type": "stream",
          "name": "stdout",
          "text": [
            "\n",
            "Epoch: 270\n",
            "training: \n"
          ]
        },
        {
          "output_type": "stream",
          "name": "stderr",
          "text": [
            "100%|██████████| 2000/2000 [00:16<00:00, 118.92batch/s]\n"
          ]
        },
        {
          "output_type": "stream",
          "name": "stdout",
          "text": [
            "validation: \n"
          ]
        },
        {
          "output_type": "stream",
          "name": "stderr",
          "text": [
            "100%|██████████| 500/500 [00:03<00:00, 148.26batch/s]\n"
          ]
        },
        {
          "output_type": "stream",
          "name": "stdout",
          "text": [
            "Training Loss: 0.083079 \tValidation Loss: 1.353036\n"
          ]
        },
        {
          "output_type": "stream",
          "name": "stderr",
          "text": [
            "100%|██████████| 2000/2000 [00:16<00:00, 119.44batch/s]\n",
            "100%|██████████| 500/500 [00:03<00:00, 147.68batch/s]\n",
            "100%|██████████| 2000/2000 [00:16<00:00, 119.16batch/s]\n",
            "100%|██████████| 500/500 [00:03<00:00, 151.33batch/s]\n",
            "100%|██████████| 2000/2000 [00:16<00:00, 118.48batch/s]\n",
            "100%|██████████| 500/500 [00:03<00:00, 146.27batch/s]\n",
            "100%|██████████| 2000/2000 [00:16<00:00, 118.51batch/s]\n",
            "100%|██████████| 500/500 [00:03<00:00, 150.86batch/s]\n",
            "100%|██████████| 2000/2000 [00:16<00:00, 119.68batch/s]\n",
            "100%|██████████| 500/500 [00:03<00:00, 150.64batch/s]\n",
            "100%|██████████| 2000/2000 [00:16<00:00, 117.82batch/s]\n",
            "100%|██████████| 500/500 [00:03<00:00, 147.48batch/s]\n",
            "100%|██████████| 2000/2000 [00:17<00:00, 115.46batch/s]\n",
            "100%|██████████| 500/500 [00:03<00:00, 146.10batch/s]\n",
            "100%|██████████| 2000/2000 [00:17<00:00, 116.84batch/s]\n",
            "100%|██████████| 500/500 [00:03<00:00, 147.88batch/s]\n",
            "100%|██████████| 2000/2000 [00:17<00:00, 117.05batch/s]\n",
            "100%|██████████| 500/500 [00:03<00:00, 144.49batch/s]\n",
            "100%|██████████| 2000/2000 [00:17<00:00, 116.53batch/s]\n",
            "100%|██████████| 500/500 [00:03<00:00, 145.00batch/s]\n",
            "100%|██████████| 2000/2000 [00:17<00:00, 117.52batch/s]\n",
            "100%|██████████| 500/500 [00:03<00:00, 145.65batch/s]\n",
            "100%|██████████| 2000/2000 [00:17<00:00, 117.36batch/s]\n",
            "100%|██████████| 500/500 [00:03<00:00, 145.59batch/s]\n",
            "100%|██████████| 2000/2000 [00:16<00:00, 117.97batch/s]\n",
            "100%|██████████| 500/500 [00:03<00:00, 144.53batch/s]\n",
            "100%|██████████| 2000/2000 [00:17<00:00, 117.30batch/s]\n",
            "100%|██████████| 500/500 [00:03<00:00, 146.63batch/s]\n",
            "100%|██████████| 2000/2000 [00:17<00:00, 117.50batch/s]\n",
            "100%|██████████| 500/500 [00:03<00:00, 148.54batch/s]\n",
            "100%|██████████| 2000/2000 [00:17<00:00, 115.25batch/s]\n",
            "100%|██████████| 500/500 [00:03<00:00, 140.90batch/s]\n",
            "100%|██████████| 2000/2000 [00:17<00:00, 113.40batch/s]\n",
            "100%|██████████| 500/500 [00:03<00:00, 142.69batch/s]\n",
            "100%|██████████| 2000/2000 [00:17<00:00, 111.16batch/s]\n",
            "100%|██████████| 500/500 [00:03<00:00, 139.86batch/s]\n",
            "100%|██████████| 2000/2000 [00:17<00:00, 111.26batch/s]\n",
            "100%|██████████| 500/500 [00:03<00:00, 140.91batch/s]\n",
            "100%|██████████| 2000/2000 [00:17<00:00, 111.71batch/s]\n",
            "100%|██████████| 500/500 [00:03<00:00, 138.58batch/s]\n",
            "100%|██████████| 2000/2000 [00:17<00:00, 111.15batch/s]\n",
            "100%|██████████| 500/500 [00:03<00:00, 138.52batch/s]\n",
            "100%|██████████| 2000/2000 [00:17<00:00, 112.64batch/s]\n",
            "100%|██████████| 500/500 [00:03<00:00, 139.24batch/s]\n",
            "100%|██████████| 2000/2000 [00:18<00:00, 111.07batch/s]\n",
            "100%|██████████| 500/500 [00:03<00:00, 142.70batch/s]\n",
            "100%|██████████| 2000/2000 [00:17<00:00, 112.62batch/s]\n",
            "100%|██████████| 500/500 [00:03<00:00, 142.96batch/s]\n",
            "100%|██████████| 2000/2000 [00:17<00:00, 112.26batch/s]\n",
            "100%|██████████| 500/500 [00:03<00:00, 139.46batch/s]\n",
            "100%|██████████| 2000/2000 [00:18<00:00, 110.67batch/s]\n",
            "100%|██████████| 500/500 [00:03<00:00, 141.47batch/s]\n",
            "100%|██████████| 2000/2000 [00:17<00:00, 112.83batch/s]\n",
            "100%|██████████| 500/500 [00:03<00:00, 143.18batch/s]\n",
            "100%|██████████| 2000/2000 [00:17<00:00, 112.14batch/s]\n",
            "100%|██████████| 500/500 [00:03<00:00, 139.60batch/s]\n",
            "100%|██████████| 2000/2000 [00:17<00:00, 113.03batch/s]\n",
            "100%|██████████| 500/500 [00:03<00:00, 142.59batch/s]\n"
          ]
        },
        {
          "output_type": "stream",
          "name": "stdout",
          "text": [
            "\n",
            "Epoch: 300\n",
            "training: \n"
          ]
        },
        {
          "output_type": "stream",
          "name": "stderr",
          "text": [
            "100%|██████████| 2000/2000 [00:17<00:00, 113.34batch/s]\n"
          ]
        },
        {
          "output_type": "stream",
          "name": "stdout",
          "text": [
            "validation: \n"
          ]
        },
        {
          "output_type": "stream",
          "name": "stderr",
          "text": [
            "100%|██████████| 500/500 [00:03<00:00, 143.25batch/s]"
          ]
        },
        {
          "output_type": "stream",
          "name": "stdout",
          "text": [
            "Training Loss: 0.095324 \tValidation Loss: 1.420534\n",
            "CPU times: user 1h 40min 28s, sys: 1min 59s, total: 1h 42min 27s\n",
            "Wall time: 1h 42min 52s\n"
          ]
        },
        {
          "output_type": "stream",
          "name": "stderr",
          "text": [
            "\n"
          ]
        }
      ]
    },
    {
      "cell_type": "code",
      "source": [
        "model1.load_state_dict(torch.load('model_cifar.pt'))"
      ],
      "metadata": {
        "id": "ECywBADnS3At",
        "colab": {
          "base_uri": "https://localhost:8080/"
        },
        "outputId": "acab7472-d036-449d-e7d8-1efa47136764"
      },
      "execution_count": null,
      "outputs": [
        {
          "output_type": "execute_result",
          "data": {
            "text/plain": [
              "<All keys matched successfully>"
            ]
          },
          "metadata": {},
          "execution_count": 10
        }
      ]
    },
    {
      "cell_type": "code",
      "source": [
        "# track test loss\n",
        "test_loss = 0.0\n",
        "class_correct = list(0. for i in range(10))\n",
        "class_total = list(0. for i in range(10))\n",
        "\n",
        "model1.eval()\n",
        "# iterate over test data\n",
        "for data, target in test_loader:\n",
        "    # move tensors to GPU if CUDA is available\n",
        "    data, target = data.to(device), target.to(device)\n",
        "    # forward pass: compute predicted outputs by passing inputs to the model\n",
        "    output = model1(data)\n",
        "    # calculate the batch loss\n",
        "    loss = criterion(output, target)\n",
        "    # update test loss \n",
        "    test_loss += loss.item()*data.size(0)\n",
        "    # convert output probabilities to predicted class\n",
        "    _, pred = torch.max(output, 1)    \n",
        "    # compare predictions to true label\n",
        "    correct_tensor = pred.eq(target.data.view_as(pred))\n",
        "    correct = np.squeeze(correct_tensor.numpy()) if not device else np.squeeze(correct_tensor.cpu().numpy())\n",
        "    # calculate test accuracy for each object class\n",
        "    for i in range(batch_size):\n",
        "        label = target.data[i]\n",
        "        class_correct[label] += correct[i].item()\n",
        "        class_total[label] += 1\n",
        "\n",
        "# average test loss\n",
        "test_loss = test_loss/len(test_loader.dataset)\n",
        "print('Test Loss: {:.6f}\\n'.format(test_loss))\n",
        "\n",
        "for i in range(10):\n",
        "    if class_total[i] > 0:\n",
        "        print('Test Accuracy of %5s: %2d%% (%2d/%2d)' % (\n",
        "            classes[i], 100 * class_correct[i] / class_total[i],\n",
        "            np.sum(class_correct[i]), np.sum(class_total[i])))\n",
        "    else:\n",
        "        print('Test Accuracy of %5s: N/A (no training examples)' % (classes[i]))\n",
        "\n",
        "print('\\nTest Accuracy (Overall): %2d%% (%2d/%2d)' % (\n",
        "    100. * np.sum(class_correct) / np.sum(class_total),\n",
        "    np.sum(class_correct), np.sum(class_total)))"
      ],
      "metadata": {
        "id": "xwEwF4DRbhqN",
        "colab": {
          "base_uri": "https://localhost:8080/"
        },
        "outputId": "f3d3f343-fed5-474c-9da4-2ebaeffca102"
      },
      "execution_count": null,
      "outputs": [
        {
          "output_type": "stream",
          "name": "stdout",
          "text": [
            "Test Loss: 1.326645\n",
            "\n",
            "Test Accuracy of airplane: 71% (710/1000)\n",
            "Test Accuracy of automobile: 83% (830/1000)\n",
            "Test Accuracy of  bird: 48% (489/1000)\n",
            "Test Accuracy of   cat: 41% (416/1000)\n",
            "Test Accuracy of  deer: 54% (542/1000)\n",
            "Test Accuracy of   dog: 57% (572/1000)\n",
            "Test Accuracy of  frog: 69% (693/1000)\n",
            "Test Accuracy of horse: 66% (667/1000)\n",
            "Test Accuracy of  ship: 69% (699/1000)\n",
            "Test Accuracy of truck: 72% (727/1000)\n",
            "\n",
            "Test Accuracy (Overall): 63% (6345/10000)\n"
          ]
        }
      ]
    },
    {
      "cell_type": "markdown",
      "source": [
        "#### b. Extend your CNN by adding one more additional convolution layer followed by an activation function and pooling function. You also need to adjust your fully connected layer properly with respect to intermediate feature dimensions. Train your network for 300 epochs. Report your training time, loss, and evaluation accuracy after 300 epochs. Analyze your results in your report and compare your model size and accuracy over the baseline implementation in Problem1.a. Do you see any over-fitting? Make sure to submit your code by providing the GitHub URL of your course repository for this course."
      ],
      "metadata": {
        "id": "ncDLcakra1eu"
      }
    },
    {
      "cell_type": "code",
      "source": [
        "import torch.nn as nn\n",
        "import torch.nn.functional as F\n",
        "# define the CNN architecture\n",
        "#Building class similar to: model = nn.Sequential from textbook example but for convolution\n",
        "\n",
        "#Online example\n",
        "class Net2(nn.Module):\n",
        "    def __init__(self):\n",
        "        super(Net2, self).__init__()\n",
        "        # convolutional layer\n",
        "        self.conv1 = nn.Conv2d(3, 16, 3, padding=1)\n",
        "        self.conv2 = nn.Conv2d(16, 32, 3, padding=1)\n",
        "        self.conv3 = nn.Conv2d(32, 64, 3, padding=1) #Adding one more layer to compare to Net1\n",
        "        # max pooling layer\n",
        "        self.pool = nn.MaxPool2d(2, 2)\n",
        "        # fully connected layers\n",
        "        self.fc1 = nn.Linear(64 * 4 * 4, 512)\n",
        "        self.fc2 = nn.Linear(512, 64)\n",
        "        self.fc3 = nn.Linear(64, 10)\n",
        "        # dropout\n",
        "        self.dropout = nn.Dropout(p=.5)\n",
        "\n",
        "    def forward(self, x):\n",
        "        # add sequence of convolutional and max pooling layers\n",
        "        x = self.pool(F.relu(self.conv1(x)))\n",
        "        x = self.pool(F.relu(self.conv2(x)))\n",
        "        x = self.pool(F.relu(self.conv3(x))) #Adding one more layer to compare to Net1\n",
        "        # flattening\n",
        "        x = x.view(-1, 64 * 4 * 4)\n",
        "        # fully connected layers\n",
        "        x = self.dropout(F.relu(self.fc1(x)))\n",
        "        x = self.dropout(F.relu(self.fc2(x)))\n",
        "        x = self.fc3(x)\n",
        "        return x\n",
        "\n",
        "# create a complete CNN\n",
        "model2 = Net2()\n",
        "if torch.cuda.is_available():\n",
        "    model2.cuda()\n",
        "print(model2)\n",
        "\n",
        "numel_list = [p.numel() for p in model2.parameters()]\n",
        "sum(numel_list), numel_list"
      ],
      "metadata": {
        "id": "xomxNZLI7EEg",
        "colab": {
          "base_uri": "https://localhost:8080/"
        },
        "outputId": "9778e9e3-564a-4fe1-b08c-76a7402db760"
      },
      "execution_count": null,
      "outputs": [
        {
          "output_type": "stream",
          "name": "stdout",
          "text": [
            "Net2(\n",
            "  (conv1): Conv2d(3, 16, kernel_size=(3, 3), stride=(1, 1), padding=(1, 1))\n",
            "  (conv2): Conv2d(16, 32, kernel_size=(3, 3), stride=(1, 1), padding=(1, 1))\n",
            "  (conv3): Conv2d(32, 64, kernel_size=(3, 3), stride=(1, 1), padding=(1, 1))\n",
            "  (pool): MaxPool2d(kernel_size=2, stride=2, padding=0, dilation=1, ceil_mode=False)\n",
            "  (fc1): Linear(in_features=1024, out_features=512, bias=True)\n",
            "  (fc2): Linear(in_features=512, out_features=64, bias=True)\n",
            "  (fc3): Linear(in_features=64, out_features=10, bias=True)\n",
            "  (dropout): Dropout(p=0.5, inplace=False)\n",
            ")\n"
          ]
        },
        {
          "output_type": "execute_result",
          "data": {
            "text/plain": [
              "(581866, [432, 16, 4608, 32, 18432, 64, 524288, 512, 32768, 64, 640, 10])"
            ]
          },
          "metadata": {},
          "execution_count": 12
        }
      ]
    },
    {
      "cell_type": "code",
      "source": [
        "import torch.optim as optim\n",
        "\n",
        "# specify loss function\n",
        "criterion = nn.CrossEntropyLoss()\n",
        "\n",
        "# specify optimizer\n",
        "optimizer = optim.SGD(model2.parameters(), lr=.01)"
      ],
      "metadata": {
        "id": "DiLxayloEsEC"
      },
      "execution_count": null,
      "outputs": []
    },
    {
      "cell_type": "code",
      "source": [
        "%%time\n",
        "from tqdm import tqdm\n",
        "\n",
        "# number of epochs to train the model\n",
        "n_epochs = 300 #Needs to be 300\n",
        "\n",
        "#List to store loss to visualize\n",
        "train_losslist = []\n",
        "\n",
        "# track change in validation loss\n",
        "valid_loss_min = np.Inf\n",
        "\n",
        "for epoch in range(1, n_epochs+1):\n",
        "  print('\\nEpoch: {}'.format(epoch))\n",
        "\n",
        "  # keep track of training and validation loss\n",
        "  train_loss = 0.0\n",
        "  valid_loss = 0.0\n",
        "\n",
        "  if epoch == 1 or epoch % 30 == 0: \n",
        "    print('training: ') \n",
        "\n",
        "  with tqdm(train_loader, unit=\"batch\") as tepoch:  \n",
        "    # train the model\n",
        "    model2.train()\n",
        "    for data, target in tepoch:\n",
        "\n",
        "        # move tensors to GPU if CUDA is available\n",
        "        data, target = data.to(device), target.to(device)\n",
        "\n",
        "        # clear the gradients of all optimized variables\n",
        "        optimizer.zero_grad()\n",
        "        \n",
        "        # forward pass: compute predicted outputs by passing inputs to the model\n",
        "        output = model2(data)\n",
        "        \n",
        "        # calculate the batch loss\n",
        "        loss = criterion(output, target)\n",
        "        \n",
        "        # backward pass: compute gradient of the loss with respect to model parameters\n",
        "        loss.backward()\n",
        "        \n",
        "        # perform a single optimization step (parameter update)\n",
        "        optimizer.step()\n",
        "        \n",
        "        # update training loss\n",
        "        train_loss += loss.item()*data.size(0)\n",
        "\n",
        "  if epoch == 1 or epoch % 30 == 0:      \n",
        "    print('validation: ')     \n",
        "\n",
        "  with tqdm(valid_loader, unit=\"batch\") as vepoch:\n",
        "    # validate the model\n",
        "    model2.eval()\n",
        "    for data, target in vepoch:\n",
        "\n",
        "        # move tensors to GPU if CUDA is available\n",
        "        data, target = data.to(device), target.to(device)\n",
        "        \n",
        "        # forward pass: compute predicted outputs by passing inputs to the model\n",
        "        output = model2(data)\n",
        "        \n",
        "        # calculate the batch loss\n",
        "        loss = criterion(output, target)\n",
        "        \n",
        "        # update average validation loss \n",
        "        valid_loss += loss.item()*data.size(0)\n",
        "    \n",
        "  # calculate average losses\n",
        "  train_loss = train_loss/len(train_loader.dataset)\n",
        "  valid_loss = valid_loss/len(valid_loader.dataset)\n",
        "  train_losslist.append(train_loss)\n",
        "        \n",
        "  # print training/validation statistics\n",
        "  if epoch == 1 or epoch % 30 == 0: \n",
        "    print('Training Loss: {:.6f} \\tValidation Loss: {:.6f}'.format(train_loss, valid_loss))\n",
        "\n",
        "  # save model if validation loss has decreased\n",
        "  if epoch == 1 or epoch % 30 == 0: \n",
        "    if valid_loss <= valid_loss_min:\n",
        "      print('Validation loss decreased ({:.6f} --> {:.6f}).  Saving model ...'.format(\n",
        "      valid_loss_min,\n",
        "      valid_loss))\n",
        "      torch.save(model2.state_dict(), 'model_cifar.pt')\n",
        "      valid_loss_min = valid_loss\n",
        "\n",
        "# plt.plot(n_epochs, train_losslist)\n",
        "# plt.xlabel(\"Epoch\")\n",
        "# plt.ylabel(\"Loss\")\n",
        "# plt.title(\"Performance of Model 1\")\n",
        "# plt.show()"
      ],
      "metadata": {
        "colab": {
          "base_uri": "https://localhost:8080/"
        },
        "id": "BPGPxjJWE1gn",
        "outputId": "b8edda34-7991-471d-d946-2aa131861a1c"
      },
      "execution_count": null,
      "outputs": [
        {
          "output_type": "stream",
          "name": "stdout",
          "text": [
            "\n",
            "Epoch: 1\n",
            "training: \n"
          ]
        },
        {
          "output_type": "stream",
          "name": "stderr",
          "text": [
            "100%|██████████| 2000/2000 [00:19<00:00, 102.61batch/s]\n"
          ]
        },
        {
          "output_type": "stream",
          "name": "stdout",
          "text": [
            "validation: \n"
          ]
        },
        {
          "output_type": "stream",
          "name": "stderr",
          "text": [
            "100%|██████████| 500/500 [00:03<00:00, 136.50batch/s]\n"
          ]
        },
        {
          "output_type": "stream",
          "name": "stdout",
          "text": [
            "Training Loss: 1.826530 \tValidation Loss: 0.436309\n",
            "Validation loss decreased (inf --> 0.436309).  Saving model ...\n",
            "\n",
            "Epoch: 2\n"
          ]
        },
        {
          "output_type": "stream",
          "name": "stderr",
          "text": [
            "100%|██████████| 2000/2000 [00:19<00:00, 104.49batch/s]\n",
            "100%|██████████| 500/500 [00:03<00:00, 138.50batch/s]\n"
          ]
        },
        {
          "output_type": "stream",
          "name": "stdout",
          "text": [
            "\n",
            "Epoch: 3\n"
          ]
        },
        {
          "output_type": "stream",
          "name": "stderr",
          "text": [
            "100%|██████████| 2000/2000 [00:19<00:00, 103.90batch/s]\n",
            "100%|██████████| 500/500 [00:03<00:00, 139.20batch/s]\n"
          ]
        },
        {
          "output_type": "stream",
          "name": "stdout",
          "text": [
            "\n",
            "Epoch: 4\n"
          ]
        },
        {
          "output_type": "stream",
          "name": "stderr",
          "text": [
            "100%|██████████| 2000/2000 [00:19<00:00, 104.47batch/s]\n",
            "100%|██████████| 500/500 [00:03<00:00, 138.69batch/s]\n"
          ]
        },
        {
          "output_type": "stream",
          "name": "stdout",
          "text": [
            "\n",
            "Epoch: 5\n"
          ]
        },
        {
          "output_type": "stream",
          "name": "stderr",
          "text": [
            "100%|██████████| 2000/2000 [00:19<00:00, 104.85batch/s]\n",
            "100%|██████████| 500/500 [00:03<00:00, 135.71batch/s]\n"
          ]
        },
        {
          "output_type": "stream",
          "name": "stdout",
          "text": [
            "\n",
            "Epoch: 6\n"
          ]
        },
        {
          "output_type": "stream",
          "name": "stderr",
          "text": [
            "100%|██████████| 2000/2000 [00:19<00:00, 104.32batch/s]\n",
            "100%|██████████| 500/500 [00:03<00:00, 129.71batch/s]\n"
          ]
        },
        {
          "output_type": "stream",
          "name": "stdout",
          "text": [
            "\n",
            "Epoch: 7\n"
          ]
        },
        {
          "output_type": "stream",
          "name": "stderr",
          "text": [
            "100%|██████████| 2000/2000 [00:19<00:00, 104.31batch/s]\n",
            "100%|██████████| 500/500 [00:03<00:00, 136.30batch/s]\n"
          ]
        },
        {
          "output_type": "stream",
          "name": "stdout",
          "text": [
            "\n",
            "Epoch: 8\n"
          ]
        },
        {
          "output_type": "stream",
          "name": "stderr",
          "text": [
            "100%|██████████| 2000/2000 [00:19<00:00, 104.78batch/s]\n",
            "100%|██████████| 500/500 [00:03<00:00, 137.15batch/s]\n"
          ]
        },
        {
          "output_type": "stream",
          "name": "stdout",
          "text": [
            "\n",
            "Epoch: 9\n"
          ]
        },
        {
          "output_type": "stream",
          "name": "stderr",
          "text": [
            "100%|██████████| 2000/2000 [00:19<00:00, 104.52batch/s]\n",
            "100%|██████████| 500/500 [00:03<00:00, 130.34batch/s]\n"
          ]
        },
        {
          "output_type": "stream",
          "name": "stdout",
          "text": [
            "\n",
            "Epoch: 10\n"
          ]
        },
        {
          "output_type": "stream",
          "name": "stderr",
          "text": [
            "100%|██████████| 2000/2000 [00:19<00:00, 104.73batch/s]\n",
            "100%|██████████| 500/500 [00:03<00:00, 139.87batch/s]\n"
          ]
        },
        {
          "output_type": "stream",
          "name": "stdout",
          "text": [
            "\n",
            "Epoch: 11\n"
          ]
        },
        {
          "output_type": "stream",
          "name": "stderr",
          "text": [
            "100%|██████████| 2000/2000 [00:19<00:00, 104.56batch/s]\n",
            "100%|██████████| 500/500 [00:03<00:00, 136.49batch/s]\n"
          ]
        },
        {
          "output_type": "stream",
          "name": "stdout",
          "text": [
            "\n",
            "Epoch: 12\n"
          ]
        },
        {
          "output_type": "stream",
          "name": "stderr",
          "text": [
            "100%|██████████| 2000/2000 [00:19<00:00, 103.50batch/s]\n",
            "100%|██████████| 500/500 [00:03<00:00, 137.58batch/s]\n"
          ]
        },
        {
          "output_type": "stream",
          "name": "stdout",
          "text": [
            "\n",
            "Epoch: 13\n"
          ]
        },
        {
          "output_type": "stream",
          "name": "stderr",
          "text": [
            "100%|██████████| 2000/2000 [00:19<00:00, 104.66batch/s]\n",
            "100%|██████████| 500/500 [00:03<00:00, 137.77batch/s]\n"
          ]
        },
        {
          "output_type": "stream",
          "name": "stdout",
          "text": [
            "\n",
            "Epoch: 14\n"
          ]
        },
        {
          "output_type": "stream",
          "name": "stderr",
          "text": [
            "100%|██████████| 2000/2000 [00:19<00:00, 104.50batch/s]\n",
            "100%|██████████| 500/500 [00:03<00:00, 137.17batch/s]\n"
          ]
        },
        {
          "output_type": "stream",
          "name": "stdout",
          "text": [
            "\n",
            "Epoch: 15\n"
          ]
        },
        {
          "output_type": "stream",
          "name": "stderr",
          "text": [
            "100%|██████████| 2000/2000 [00:19<00:00, 103.69batch/s]\n",
            "100%|██████████| 500/500 [00:03<00:00, 137.39batch/s]\n"
          ]
        },
        {
          "output_type": "stream",
          "name": "stdout",
          "text": [
            "\n",
            "Epoch: 16\n"
          ]
        },
        {
          "output_type": "stream",
          "name": "stderr",
          "text": [
            "100%|██████████| 2000/2000 [00:19<00:00, 104.32batch/s]\n",
            "100%|██████████| 500/500 [00:03<00:00, 137.42batch/s]\n"
          ]
        },
        {
          "output_type": "stream",
          "name": "stdout",
          "text": [
            "\n",
            "Epoch: 17\n"
          ]
        },
        {
          "output_type": "stream",
          "name": "stderr",
          "text": [
            "100%|██████████| 2000/2000 [00:19<00:00, 104.92batch/s]\n",
            "100%|██████████| 500/500 [00:03<00:00, 136.99batch/s]\n"
          ]
        },
        {
          "output_type": "stream",
          "name": "stdout",
          "text": [
            "\n",
            "Epoch: 18\n"
          ]
        },
        {
          "output_type": "stream",
          "name": "stderr",
          "text": [
            "100%|██████████| 2000/2000 [00:19<00:00, 103.20batch/s]\n",
            "100%|██████████| 500/500 [00:03<00:00, 134.52batch/s]\n"
          ]
        },
        {
          "output_type": "stream",
          "name": "stdout",
          "text": [
            "\n",
            "Epoch: 19\n"
          ]
        },
        {
          "output_type": "stream",
          "name": "stderr",
          "text": [
            "100%|██████████| 2000/2000 [00:19<00:00, 104.17batch/s]\n",
            "100%|██████████| 500/500 [00:03<00:00, 137.97batch/s]\n"
          ]
        },
        {
          "output_type": "stream",
          "name": "stdout",
          "text": [
            "\n",
            "Epoch: 20\n"
          ]
        },
        {
          "output_type": "stream",
          "name": "stderr",
          "text": [
            "100%|██████████| 2000/2000 [00:19<00:00, 103.64batch/s]\n",
            "100%|██████████| 500/500 [00:03<00:00, 136.70batch/s]\n"
          ]
        },
        {
          "output_type": "stream",
          "name": "stdout",
          "text": [
            "\n",
            "Epoch: 21\n"
          ]
        },
        {
          "output_type": "stream",
          "name": "stderr",
          "text": [
            "100%|██████████| 2000/2000 [00:19<00:00, 103.98batch/s]\n",
            "100%|██████████| 500/500 [00:03<00:00, 135.65batch/s]\n"
          ]
        },
        {
          "output_type": "stream",
          "name": "stdout",
          "text": [
            "\n",
            "Epoch: 22\n"
          ]
        },
        {
          "output_type": "stream",
          "name": "stderr",
          "text": [
            "100%|██████████| 2000/2000 [00:19<00:00, 104.24batch/s]\n",
            "100%|██████████| 500/500 [00:03<00:00, 135.83batch/s]\n"
          ]
        },
        {
          "output_type": "stream",
          "name": "stdout",
          "text": [
            "\n",
            "Epoch: 23\n"
          ]
        },
        {
          "output_type": "stream",
          "name": "stderr",
          "text": [
            "100%|██████████| 2000/2000 [00:19<00:00, 103.63batch/s]\n",
            "100%|██████████| 500/500 [00:03<00:00, 137.48batch/s]\n"
          ]
        },
        {
          "output_type": "stream",
          "name": "stdout",
          "text": [
            "\n",
            "Epoch: 24\n"
          ]
        },
        {
          "output_type": "stream",
          "name": "stderr",
          "text": [
            "100%|██████████| 2000/2000 [00:19<00:00, 104.17batch/s]\n",
            "100%|██████████| 500/500 [00:03<00:00, 137.41batch/s]\n"
          ]
        },
        {
          "output_type": "stream",
          "name": "stdout",
          "text": [
            "\n",
            "Epoch: 25\n"
          ]
        },
        {
          "output_type": "stream",
          "name": "stderr",
          "text": [
            "100%|██████████| 2000/2000 [00:19<00:00, 104.60batch/s]\n",
            "100%|██████████| 500/500 [00:03<00:00, 137.54batch/s]\n"
          ]
        },
        {
          "output_type": "stream",
          "name": "stdout",
          "text": [
            "\n",
            "Epoch: 26\n"
          ]
        },
        {
          "output_type": "stream",
          "name": "stderr",
          "text": [
            "100%|██████████| 2000/2000 [00:19<00:00, 103.24batch/s]\n",
            "100%|██████████| 500/500 [00:03<00:00, 135.66batch/s]\n"
          ]
        },
        {
          "output_type": "stream",
          "name": "stdout",
          "text": [
            "\n",
            "Epoch: 27\n"
          ]
        },
        {
          "output_type": "stream",
          "name": "stderr",
          "text": [
            "100%|██████████| 2000/2000 [00:19<00:00, 104.09batch/s]\n",
            "100%|██████████| 500/500 [00:03<00:00, 138.30batch/s]\n"
          ]
        },
        {
          "output_type": "stream",
          "name": "stdout",
          "text": [
            "\n",
            "Epoch: 28\n"
          ]
        },
        {
          "output_type": "stream",
          "name": "stderr",
          "text": [
            "100%|██████████| 2000/2000 [00:19<00:00, 103.40batch/s]\n",
            "100%|██████████| 500/500 [00:03<00:00, 129.50batch/s]\n"
          ]
        },
        {
          "output_type": "stream",
          "name": "stdout",
          "text": [
            "\n",
            "Epoch: 29\n"
          ]
        },
        {
          "output_type": "stream",
          "name": "stderr",
          "text": [
            "100%|██████████| 2000/2000 [00:19<00:00, 103.72batch/s]\n",
            "100%|██████████| 500/500 [00:03<00:00, 138.68batch/s]\n"
          ]
        },
        {
          "output_type": "stream",
          "name": "stdout",
          "text": [
            "\n",
            "Epoch: 30\n",
            "training: \n"
          ]
        },
        {
          "output_type": "stream",
          "name": "stderr",
          "text": [
            "100%|██████████| 2000/2000 [00:19<00:00, 104.41batch/s]\n"
          ]
        },
        {
          "output_type": "stream",
          "name": "stdout",
          "text": [
            "validation: \n"
          ]
        },
        {
          "output_type": "stream",
          "name": "stderr",
          "text": [
            "100%|██████████| 500/500 [00:03<00:00, 138.00batch/s]\n"
          ]
        },
        {
          "output_type": "stream",
          "name": "stdout",
          "text": [
            "Training Loss: 0.408897 \tValidation Loss: 0.159980\n",
            "Validation loss decreased (0.436309 --> 0.159980).  Saving model ...\n",
            "\n",
            "Epoch: 31\n"
          ]
        },
        {
          "output_type": "stream",
          "name": "stderr",
          "text": [
            "100%|██████████| 2000/2000 [00:19<00:00, 103.41batch/s]\n",
            "100%|██████████| 500/500 [00:03<00:00, 137.20batch/s]\n"
          ]
        },
        {
          "output_type": "stream",
          "name": "stdout",
          "text": [
            "\n",
            "Epoch: 32\n"
          ]
        },
        {
          "output_type": "stream",
          "name": "stderr",
          "text": [
            "100%|██████████| 2000/2000 [00:19<00:00, 103.65batch/s]\n",
            "100%|██████████| 500/500 [00:03<00:00, 135.91batch/s]\n"
          ]
        },
        {
          "output_type": "stream",
          "name": "stdout",
          "text": [
            "\n",
            "Epoch: 33\n"
          ]
        },
        {
          "output_type": "stream",
          "name": "stderr",
          "text": [
            "100%|██████████| 2000/2000 [00:19<00:00, 103.77batch/s]\n",
            "100%|██████████| 500/500 [00:03<00:00, 134.90batch/s]\n"
          ]
        },
        {
          "output_type": "stream",
          "name": "stdout",
          "text": [
            "\n",
            "Epoch: 34\n"
          ]
        },
        {
          "output_type": "stream",
          "name": "stderr",
          "text": [
            "100%|██████████| 2000/2000 [00:19<00:00, 102.77batch/s]\n",
            "100%|██████████| 500/500 [00:03<00:00, 139.08batch/s]\n"
          ]
        },
        {
          "output_type": "stream",
          "name": "stdout",
          "text": [
            "\n",
            "Epoch: 35\n"
          ]
        },
        {
          "output_type": "stream",
          "name": "stderr",
          "text": [
            "100%|██████████| 2000/2000 [00:19<00:00, 104.55batch/s]\n",
            "100%|██████████| 500/500 [00:03<00:00, 134.97batch/s]\n"
          ]
        },
        {
          "output_type": "stream",
          "name": "stdout",
          "text": [
            "\n",
            "Epoch: 36\n"
          ]
        },
        {
          "output_type": "stream",
          "name": "stderr",
          "text": [
            "100%|██████████| 2000/2000 [00:19<00:00, 103.48batch/s]\n",
            "100%|██████████| 500/500 [00:03<00:00, 135.14batch/s]\n"
          ]
        },
        {
          "output_type": "stream",
          "name": "stdout",
          "text": [
            "\n",
            "Epoch: 37\n"
          ]
        },
        {
          "output_type": "stream",
          "name": "stderr",
          "text": [
            "100%|██████████| 2000/2000 [00:19<00:00, 103.05batch/s]\n",
            "100%|██████████| 500/500 [00:03<00:00, 134.91batch/s]\n"
          ]
        },
        {
          "output_type": "stream",
          "name": "stdout",
          "text": [
            "\n",
            "Epoch: 38\n"
          ]
        },
        {
          "output_type": "stream",
          "name": "stderr",
          "text": [
            "100%|██████████| 2000/2000 [00:19<00:00, 103.71batch/s]\n",
            "100%|██████████| 500/500 [00:03<00:00, 135.85batch/s]\n"
          ]
        },
        {
          "output_type": "stream",
          "name": "stdout",
          "text": [
            "\n",
            "Epoch: 39\n"
          ]
        },
        {
          "output_type": "stream",
          "name": "stderr",
          "text": [
            "100%|██████████| 2000/2000 [00:19<00:00, 102.30batch/s]\n",
            "100%|██████████| 500/500 [00:03<00:00, 138.35batch/s]\n"
          ]
        },
        {
          "output_type": "stream",
          "name": "stdout",
          "text": [
            "\n",
            "Epoch: 40\n"
          ]
        },
        {
          "output_type": "stream",
          "name": "stderr",
          "text": [
            "100%|██████████| 2000/2000 [00:19<00:00, 104.31batch/s]\n",
            "100%|██████████| 500/500 [00:03<00:00, 135.26batch/s]\n"
          ]
        },
        {
          "output_type": "stream",
          "name": "stdout",
          "text": [
            "\n",
            "Epoch: 41\n"
          ]
        },
        {
          "output_type": "stream",
          "name": "stderr",
          "text": [
            "100%|██████████| 2000/2000 [00:19<00:00, 103.98batch/s]\n",
            "100%|██████████| 500/500 [00:03<00:00, 133.52batch/s]\n"
          ]
        },
        {
          "output_type": "stream",
          "name": "stdout",
          "text": [
            "\n",
            "Epoch: 42\n"
          ]
        },
        {
          "output_type": "stream",
          "name": "stderr",
          "text": [
            "100%|██████████| 2000/2000 [00:19<00:00, 103.04batch/s]\n",
            "100%|██████████| 500/500 [00:03<00:00, 134.26batch/s]\n"
          ]
        },
        {
          "output_type": "stream",
          "name": "stdout",
          "text": [
            "\n",
            "Epoch: 43\n"
          ]
        },
        {
          "output_type": "stream",
          "name": "stderr",
          "text": [
            "100%|██████████| 2000/2000 [00:19<00:00, 103.72batch/s]\n",
            "100%|██████████| 500/500 [00:03<00:00, 136.29batch/s]\n"
          ]
        },
        {
          "output_type": "stream",
          "name": "stdout",
          "text": [
            "\n",
            "Epoch: 44\n"
          ]
        },
        {
          "output_type": "stream",
          "name": "stderr",
          "text": [
            "100%|██████████| 2000/2000 [00:19<00:00, 103.97batch/s]\n",
            "100%|██████████| 500/500 [00:03<00:00, 137.46batch/s]\n"
          ]
        },
        {
          "output_type": "stream",
          "name": "stdout",
          "text": [
            "\n",
            "Epoch: 45\n"
          ]
        },
        {
          "output_type": "stream",
          "name": "stderr",
          "text": [
            "100%|██████████| 2000/2000 [00:19<00:00, 103.93batch/s]\n",
            "100%|██████████| 500/500 [00:03<00:00, 137.13batch/s]\n"
          ]
        },
        {
          "output_type": "stream",
          "name": "stdout",
          "text": [
            "\n",
            "Epoch: 46\n"
          ]
        },
        {
          "output_type": "stream",
          "name": "stderr",
          "text": [
            "100%|██████████| 2000/2000 [00:19<00:00, 103.41batch/s]\n",
            "100%|██████████| 500/500 [00:03<00:00, 137.20batch/s]\n"
          ]
        },
        {
          "output_type": "stream",
          "name": "stdout",
          "text": [
            "\n",
            "Epoch: 47\n"
          ]
        },
        {
          "output_type": "stream",
          "name": "stderr",
          "text": [
            "100%|██████████| 2000/2000 [00:19<00:00, 104.13batch/s]\n",
            "100%|██████████| 500/500 [00:03<00:00, 137.38batch/s]\n"
          ]
        },
        {
          "output_type": "stream",
          "name": "stdout",
          "text": [
            "\n",
            "Epoch: 48\n"
          ]
        },
        {
          "output_type": "stream",
          "name": "stderr",
          "text": [
            "100%|██████████| 2000/2000 [00:19<00:00, 103.54batch/s]\n",
            "100%|██████████| 500/500 [00:03<00:00, 135.80batch/s]\n"
          ]
        },
        {
          "output_type": "stream",
          "name": "stdout",
          "text": [
            "\n",
            "Epoch: 49\n"
          ]
        },
        {
          "output_type": "stream",
          "name": "stderr",
          "text": [
            "100%|██████████| 2000/2000 [00:19<00:00, 104.22batch/s]\n",
            "100%|██████████| 500/500 [00:03<00:00, 134.91batch/s]\n"
          ]
        },
        {
          "output_type": "stream",
          "name": "stdout",
          "text": [
            "\n",
            "Epoch: 50\n"
          ]
        },
        {
          "output_type": "stream",
          "name": "stderr",
          "text": [
            "100%|██████████| 2000/2000 [00:19<00:00, 103.40batch/s]\n",
            "100%|██████████| 500/500 [00:03<00:00, 136.39batch/s]\n"
          ]
        },
        {
          "output_type": "stream",
          "name": "stdout",
          "text": [
            "\n",
            "Epoch: 51\n"
          ]
        },
        {
          "output_type": "stream",
          "name": "stderr",
          "text": [
            "100%|██████████| 2000/2000 [00:19<00:00, 104.23batch/s]\n",
            "100%|██████████| 500/500 [00:03<00:00, 137.50batch/s]\n"
          ]
        },
        {
          "output_type": "stream",
          "name": "stdout",
          "text": [
            "\n",
            "Epoch: 52\n"
          ]
        },
        {
          "output_type": "stream",
          "name": "stderr",
          "text": [
            "100%|██████████| 2000/2000 [00:19<00:00, 103.84batch/s]\n",
            "100%|██████████| 500/500 [00:03<00:00, 134.91batch/s]\n"
          ]
        },
        {
          "output_type": "stream",
          "name": "stdout",
          "text": [
            "\n",
            "Epoch: 53\n"
          ]
        },
        {
          "output_type": "stream",
          "name": "stderr",
          "text": [
            "100%|██████████| 2000/2000 [00:19<00:00, 103.14batch/s]\n",
            "100%|██████████| 500/500 [00:03<00:00, 137.22batch/s]\n"
          ]
        },
        {
          "output_type": "stream",
          "name": "stdout",
          "text": [
            "\n",
            "Epoch: 54\n"
          ]
        },
        {
          "output_type": "stream",
          "name": "stderr",
          "text": [
            "100%|██████████| 2000/2000 [00:19<00:00, 103.70batch/s]\n",
            "100%|██████████| 500/500 [00:03<00:00, 133.17batch/s]\n"
          ]
        },
        {
          "output_type": "stream",
          "name": "stdout",
          "text": [
            "\n",
            "Epoch: 55\n"
          ]
        },
        {
          "output_type": "stream",
          "name": "stderr",
          "text": [
            "100%|██████████| 2000/2000 [00:19<00:00, 102.52batch/s]\n",
            "100%|██████████| 500/500 [00:03<00:00, 138.01batch/s]\n"
          ]
        },
        {
          "output_type": "stream",
          "name": "stdout",
          "text": [
            "\n",
            "Epoch: 56\n"
          ]
        },
        {
          "output_type": "stream",
          "name": "stderr",
          "text": [
            "100%|██████████| 2000/2000 [00:19<00:00, 103.00batch/s]\n",
            "100%|██████████| 500/500 [00:03<00:00, 136.47batch/s]\n"
          ]
        },
        {
          "output_type": "stream",
          "name": "stdout",
          "text": [
            "\n",
            "Epoch: 57\n"
          ]
        },
        {
          "output_type": "stream",
          "name": "stderr",
          "text": [
            "100%|██████████| 2000/2000 [00:19<00:00, 103.15batch/s]\n",
            "100%|██████████| 500/500 [00:03<00:00, 136.97batch/s]\n"
          ]
        },
        {
          "output_type": "stream",
          "name": "stdout",
          "text": [
            "\n",
            "Epoch: 58\n"
          ]
        },
        {
          "output_type": "stream",
          "name": "stderr",
          "text": [
            "100%|██████████| 2000/2000 [00:19<00:00, 103.81batch/s]\n",
            "100%|██████████| 500/500 [00:03<00:00, 127.99batch/s]\n"
          ]
        },
        {
          "output_type": "stream",
          "name": "stdout",
          "text": [
            "\n",
            "Epoch: 59\n"
          ]
        },
        {
          "output_type": "stream",
          "name": "stderr",
          "text": [
            "100%|██████████| 2000/2000 [00:19<00:00, 103.84batch/s]\n",
            "100%|██████████| 500/500 [00:03<00:00, 132.29batch/s]\n"
          ]
        },
        {
          "output_type": "stream",
          "name": "stdout",
          "text": [
            "\n",
            "Epoch: 60\n",
            "training: \n"
          ]
        },
        {
          "output_type": "stream",
          "name": "stderr",
          "text": [
            "100%|██████████| 2000/2000 [00:19<00:00, 102.74batch/s]\n"
          ]
        },
        {
          "output_type": "stream",
          "name": "stdout",
          "text": [
            "validation: \n"
          ]
        },
        {
          "output_type": "stream",
          "name": "stderr",
          "text": [
            "100%|██████████| 500/500 [00:03<00:00, 138.41batch/s]\n"
          ]
        },
        {
          "output_type": "stream",
          "name": "stdout",
          "text": [
            "Training Loss: 0.152393 \tValidation Loss: 0.242144\n",
            "\n",
            "Epoch: 61\n"
          ]
        },
        {
          "output_type": "stream",
          "name": "stderr",
          "text": [
            "100%|██████████| 2000/2000 [00:19<00:00, 102.80batch/s]\n",
            "100%|██████████| 500/500 [00:03<00:00, 136.90batch/s]\n"
          ]
        },
        {
          "output_type": "stream",
          "name": "stdout",
          "text": [
            "\n",
            "Epoch: 62\n"
          ]
        },
        {
          "output_type": "stream",
          "name": "stderr",
          "text": [
            "100%|██████████| 2000/2000 [00:19<00:00, 103.59batch/s]\n",
            "100%|██████████| 500/500 [00:03<00:00, 135.13batch/s]\n"
          ]
        },
        {
          "output_type": "stream",
          "name": "stdout",
          "text": [
            "\n",
            "Epoch: 63\n"
          ]
        },
        {
          "output_type": "stream",
          "name": "stderr",
          "text": [
            "100%|██████████| 2000/2000 [00:19<00:00, 103.84batch/s]\n",
            "100%|██████████| 500/500 [00:03<00:00, 135.96batch/s]\n"
          ]
        },
        {
          "output_type": "stream",
          "name": "stdout",
          "text": [
            "\n",
            "Epoch: 64\n"
          ]
        },
        {
          "output_type": "stream",
          "name": "stderr",
          "text": [
            "100%|██████████| 2000/2000 [00:19<00:00, 102.83batch/s]\n",
            "100%|██████████| 500/500 [00:03<00:00, 135.05batch/s]\n"
          ]
        },
        {
          "output_type": "stream",
          "name": "stdout",
          "text": [
            "\n",
            "Epoch: 65\n"
          ]
        },
        {
          "output_type": "stream",
          "name": "stderr",
          "text": [
            "100%|██████████| 2000/2000 [00:19<00:00, 102.99batch/s]\n",
            "100%|██████████| 500/500 [00:03<00:00, 136.77batch/s]\n"
          ]
        },
        {
          "output_type": "stream",
          "name": "stdout",
          "text": [
            "\n",
            "Epoch: 66\n"
          ]
        },
        {
          "output_type": "stream",
          "name": "stderr",
          "text": [
            "100%|██████████| 2000/2000 [00:19<00:00, 103.84batch/s]\n",
            "100%|██████████| 500/500 [00:03<00:00, 135.71batch/s]\n"
          ]
        },
        {
          "output_type": "stream",
          "name": "stdout",
          "text": [
            "\n",
            "Epoch: 67\n"
          ]
        },
        {
          "output_type": "stream",
          "name": "stderr",
          "text": [
            "100%|██████████| 2000/2000 [00:19<00:00, 102.91batch/s]\n",
            "100%|██████████| 500/500 [00:03<00:00, 135.78batch/s]\n"
          ]
        },
        {
          "output_type": "stream",
          "name": "stdout",
          "text": [
            "\n",
            "Epoch: 68\n"
          ]
        },
        {
          "output_type": "stream",
          "name": "stderr",
          "text": [
            "100%|██████████| 2000/2000 [00:19<00:00, 103.51batch/s]\n",
            "100%|██████████| 500/500 [00:03<00:00, 134.29batch/s]\n"
          ]
        },
        {
          "output_type": "stream",
          "name": "stdout",
          "text": [
            "\n",
            "Epoch: 69\n"
          ]
        },
        {
          "output_type": "stream",
          "name": "stderr",
          "text": [
            "100%|██████████| 2000/2000 [00:19<00:00, 103.67batch/s]\n",
            "100%|██████████| 500/500 [00:03<00:00, 137.63batch/s]\n"
          ]
        },
        {
          "output_type": "stream",
          "name": "stdout",
          "text": [
            "\n",
            "Epoch: 70\n"
          ]
        },
        {
          "output_type": "stream",
          "name": "stderr",
          "text": [
            "100%|██████████| 2000/2000 [00:19<00:00, 101.89batch/s]\n",
            "100%|██████████| 500/500 [00:03<00:00, 136.29batch/s]\n"
          ]
        },
        {
          "output_type": "stream",
          "name": "stdout",
          "text": [
            "\n",
            "Epoch: 71\n"
          ]
        },
        {
          "output_type": "stream",
          "name": "stderr",
          "text": [
            "100%|██████████| 2000/2000 [00:19<00:00, 103.82batch/s]\n",
            "100%|██████████| 500/500 [00:03<00:00, 135.89batch/s]\n"
          ]
        },
        {
          "output_type": "stream",
          "name": "stdout",
          "text": [
            "\n",
            "Epoch: 72\n"
          ]
        },
        {
          "output_type": "stream",
          "name": "stderr",
          "text": [
            "100%|██████████| 2000/2000 [00:19<00:00, 103.69batch/s]\n",
            "100%|██████████| 500/500 [00:03<00:00, 137.20batch/s]\n"
          ]
        },
        {
          "output_type": "stream",
          "name": "stdout",
          "text": [
            "\n",
            "Epoch: 73\n"
          ]
        },
        {
          "output_type": "stream",
          "name": "stderr",
          "text": [
            "100%|██████████| 2000/2000 [00:19<00:00, 102.90batch/s]\n",
            "100%|██████████| 500/500 [00:03<00:00, 134.91batch/s]\n"
          ]
        },
        {
          "output_type": "stream",
          "name": "stdout",
          "text": [
            "\n",
            "Epoch: 74\n"
          ]
        },
        {
          "output_type": "stream",
          "name": "stderr",
          "text": [
            "100%|██████████| 2000/2000 [00:19<00:00, 103.29batch/s]\n",
            "100%|██████████| 500/500 [00:03<00:00, 136.43batch/s]\n"
          ]
        },
        {
          "output_type": "stream",
          "name": "stdout",
          "text": [
            "\n",
            "Epoch: 75\n"
          ]
        },
        {
          "output_type": "stream",
          "name": "stderr",
          "text": [
            "100%|██████████| 2000/2000 [00:19<00:00, 101.91batch/s]\n",
            "100%|██████████| 500/500 [00:03<00:00, 137.04batch/s]\n"
          ]
        },
        {
          "output_type": "stream",
          "name": "stdout",
          "text": [
            "\n",
            "Epoch: 76\n"
          ]
        },
        {
          "output_type": "stream",
          "name": "stderr",
          "text": [
            "100%|██████████| 2000/2000 [00:19<00:00, 102.68batch/s]\n",
            "100%|██████████| 500/500 [00:03<00:00, 136.50batch/s]\n"
          ]
        },
        {
          "output_type": "stream",
          "name": "stdout",
          "text": [
            "\n",
            "Epoch: 77\n"
          ]
        },
        {
          "output_type": "stream",
          "name": "stderr",
          "text": [
            "100%|██████████| 2000/2000 [00:19<00:00, 103.34batch/s]\n",
            "100%|██████████| 500/500 [00:03<00:00, 135.95batch/s]\n"
          ]
        },
        {
          "output_type": "stream",
          "name": "stdout",
          "text": [
            "\n",
            "Epoch: 78\n"
          ]
        },
        {
          "output_type": "stream",
          "name": "stderr",
          "text": [
            "100%|██████████| 2000/2000 [00:19<00:00, 103.12batch/s]\n",
            "100%|██████████| 500/500 [00:03<00:00, 136.03batch/s]\n"
          ]
        },
        {
          "output_type": "stream",
          "name": "stdout",
          "text": [
            "\n",
            "Epoch: 79\n"
          ]
        },
        {
          "output_type": "stream",
          "name": "stderr",
          "text": [
            "100%|██████████| 2000/2000 [00:19<00:00, 103.46batch/s]\n",
            "100%|██████████| 500/500 [00:03<00:00, 134.54batch/s]\n"
          ]
        },
        {
          "output_type": "stream",
          "name": "stdout",
          "text": [
            "\n",
            "Epoch: 80\n"
          ]
        },
        {
          "output_type": "stream",
          "name": "stderr",
          "text": [
            "100%|██████████| 2000/2000 [00:19<00:00, 103.37batch/s]\n",
            "100%|██████████| 500/500 [00:03<00:00, 136.78batch/s]\n"
          ]
        },
        {
          "output_type": "stream",
          "name": "stdout",
          "text": [
            "\n",
            "Epoch: 81\n"
          ]
        },
        {
          "output_type": "stream",
          "name": "stderr",
          "text": [
            "100%|██████████| 2000/2000 [00:19<00:00, 102.34batch/s]\n",
            "100%|██████████| 500/500 [00:03<00:00, 135.52batch/s]\n"
          ]
        },
        {
          "output_type": "stream",
          "name": "stdout",
          "text": [
            "\n",
            "Epoch: 82\n"
          ]
        },
        {
          "output_type": "stream",
          "name": "stderr",
          "text": [
            "100%|██████████| 2000/2000 [00:19<00:00, 102.79batch/s]\n",
            "100%|██████████| 500/500 [00:03<00:00, 136.12batch/s]\n"
          ]
        },
        {
          "output_type": "stream",
          "name": "stdout",
          "text": [
            "\n",
            "Epoch: 83\n"
          ]
        },
        {
          "output_type": "stream",
          "name": "stderr",
          "text": [
            "100%|██████████| 2000/2000 [00:19<00:00, 103.38batch/s]\n",
            "100%|██████████| 500/500 [00:03<00:00, 136.49batch/s]\n"
          ]
        },
        {
          "output_type": "stream",
          "name": "stdout",
          "text": [
            "\n",
            "Epoch: 84\n"
          ]
        },
        {
          "output_type": "stream",
          "name": "stderr",
          "text": [
            "100%|██████████| 2000/2000 [00:19<00:00, 102.70batch/s]\n",
            "100%|██████████| 500/500 [00:03<00:00, 135.85batch/s]\n"
          ]
        },
        {
          "output_type": "stream",
          "name": "stdout",
          "text": [
            "\n",
            "Epoch: 85\n"
          ]
        },
        {
          "output_type": "stream",
          "name": "stderr",
          "text": [
            "100%|██████████| 2000/2000 [00:19<00:00, 102.86batch/s]\n",
            "100%|██████████| 500/500 [00:03<00:00, 137.02batch/s]\n"
          ]
        },
        {
          "output_type": "stream",
          "name": "stdout",
          "text": [
            "\n",
            "Epoch: 86\n"
          ]
        },
        {
          "output_type": "stream",
          "name": "stderr",
          "text": [
            "100%|██████████| 2000/2000 [00:19<00:00, 103.33batch/s]\n",
            "100%|██████████| 500/500 [00:03<00:00, 137.17batch/s]\n"
          ]
        },
        {
          "output_type": "stream",
          "name": "stdout",
          "text": [
            "\n",
            "Epoch: 87\n"
          ]
        },
        {
          "output_type": "stream",
          "name": "stderr",
          "text": [
            "100%|██████████| 2000/2000 [00:19<00:00, 102.79batch/s]\n",
            "100%|██████████| 500/500 [00:03<00:00, 132.67batch/s]\n"
          ]
        },
        {
          "output_type": "stream",
          "name": "stdout",
          "text": [
            "\n",
            "Epoch: 88\n"
          ]
        },
        {
          "output_type": "stream",
          "name": "stderr",
          "text": [
            "100%|██████████| 2000/2000 [00:19<00:00, 103.48batch/s]\n",
            "100%|██████████| 500/500 [00:03<00:00, 136.07batch/s]\n"
          ]
        },
        {
          "output_type": "stream",
          "name": "stdout",
          "text": [
            "\n",
            "Epoch: 89\n"
          ]
        },
        {
          "output_type": "stream",
          "name": "stderr",
          "text": [
            "100%|██████████| 2000/2000 [00:19<00:00, 103.41batch/s]\n",
            "100%|██████████| 500/500 [00:03<00:00, 134.42batch/s]\n"
          ]
        },
        {
          "output_type": "stream",
          "name": "stdout",
          "text": [
            "\n",
            "Epoch: 90\n",
            "training: \n"
          ]
        },
        {
          "output_type": "stream",
          "name": "stderr",
          "text": [
            "100%|██████████| 2000/2000 [00:19<00:00, 103.82batch/s]\n"
          ]
        },
        {
          "output_type": "stream",
          "name": "stdout",
          "text": [
            "validation: \n"
          ]
        },
        {
          "output_type": "stream",
          "name": "stderr",
          "text": [
            "100%|██████████| 500/500 [00:03<00:00, 134.31batch/s]\n"
          ]
        },
        {
          "output_type": "stream",
          "name": "stdout",
          "text": [
            "Training Loss: 0.095815 \tValidation Loss: 0.290949\n",
            "\n",
            "Epoch: 91\n"
          ]
        },
        {
          "output_type": "stream",
          "name": "stderr",
          "text": [
            "100%|██████████| 2000/2000 [00:19<00:00, 103.23batch/s]\n",
            "100%|██████████| 500/500 [00:03<00:00, 136.51batch/s]\n"
          ]
        },
        {
          "output_type": "stream",
          "name": "stdout",
          "text": [
            "\n",
            "Epoch: 92\n"
          ]
        },
        {
          "output_type": "stream",
          "name": "stderr",
          "text": [
            "100%|██████████| 2000/2000 [00:19<00:00, 102.61batch/s]\n",
            "100%|██████████| 500/500 [00:03<00:00, 137.65batch/s]\n"
          ]
        },
        {
          "output_type": "stream",
          "name": "stdout",
          "text": [
            "\n",
            "Epoch: 93\n"
          ]
        },
        {
          "output_type": "stream",
          "name": "stderr",
          "text": [
            "100%|██████████| 2000/2000 [00:19<00:00, 103.53batch/s]\n",
            "100%|██████████| 500/500 [00:03<00:00, 136.77batch/s]\n"
          ]
        },
        {
          "output_type": "stream",
          "name": "stdout",
          "text": [
            "\n",
            "Epoch: 94\n"
          ]
        },
        {
          "output_type": "stream",
          "name": "stderr",
          "text": [
            "100%|██████████| 2000/2000 [00:19<00:00, 104.29batch/s]\n",
            "100%|██████████| 500/500 [00:03<00:00, 134.75batch/s]\n"
          ]
        },
        {
          "output_type": "stream",
          "name": "stdout",
          "text": [
            "\n",
            "Epoch: 95\n"
          ]
        },
        {
          "output_type": "stream",
          "name": "stderr",
          "text": [
            "100%|██████████| 2000/2000 [00:19<00:00, 101.95batch/s]\n",
            "100%|██████████| 500/500 [00:03<00:00, 135.26batch/s]\n"
          ]
        },
        {
          "output_type": "stream",
          "name": "stdout",
          "text": [
            "\n",
            "Epoch: 96\n"
          ]
        },
        {
          "output_type": "stream",
          "name": "stderr",
          "text": [
            "100%|██████████| 2000/2000 [00:19<00:00, 103.13batch/s]\n",
            "100%|██████████| 500/500 [00:03<00:00, 132.57batch/s]\n"
          ]
        },
        {
          "output_type": "stream",
          "name": "stdout",
          "text": [
            "\n",
            "Epoch: 97\n"
          ]
        },
        {
          "output_type": "stream",
          "name": "stderr",
          "text": [
            "100%|██████████| 2000/2000 [00:19<00:00, 104.06batch/s]\n",
            "100%|██████████| 500/500 [00:03<00:00, 135.23batch/s]\n"
          ]
        },
        {
          "output_type": "stream",
          "name": "stdout",
          "text": [
            "\n",
            "Epoch: 98\n"
          ]
        },
        {
          "output_type": "stream",
          "name": "stderr",
          "text": [
            "100%|██████████| 2000/2000 [00:19<00:00, 102.39batch/s]\n",
            "100%|██████████| 500/500 [00:03<00:00, 137.49batch/s]\n"
          ]
        },
        {
          "output_type": "stream",
          "name": "stdout",
          "text": [
            "\n",
            "Epoch: 99\n"
          ]
        },
        {
          "output_type": "stream",
          "name": "stderr",
          "text": [
            "100%|██████████| 2000/2000 [00:19<00:00, 103.20batch/s]\n",
            "100%|██████████| 500/500 [00:03<00:00, 137.03batch/s]\n"
          ]
        },
        {
          "output_type": "stream",
          "name": "stdout",
          "text": [
            "\n",
            "Epoch: 100\n"
          ]
        },
        {
          "output_type": "stream",
          "name": "stderr",
          "text": [
            "100%|██████████| 2000/2000 [00:19<00:00, 103.05batch/s]\n",
            "100%|██████████| 500/500 [00:03<00:00, 136.04batch/s]\n"
          ]
        },
        {
          "output_type": "stream",
          "name": "stdout",
          "text": [
            "\n",
            "Epoch: 101\n"
          ]
        },
        {
          "output_type": "stream",
          "name": "stderr",
          "text": [
            "100%|██████████| 2000/2000 [00:19<00:00, 102.64batch/s]\n",
            "100%|██████████| 500/500 [00:03<00:00, 136.98batch/s]\n"
          ]
        },
        {
          "output_type": "stream",
          "name": "stdout",
          "text": [
            "\n",
            "Epoch: 102\n"
          ]
        },
        {
          "output_type": "stream",
          "name": "stderr",
          "text": [
            "100%|██████████| 2000/2000 [00:19<00:00, 103.68batch/s]\n",
            "100%|██████████| 500/500 [00:03<00:00, 137.01batch/s]\n"
          ]
        },
        {
          "output_type": "stream",
          "name": "stdout",
          "text": [
            "\n",
            "Epoch: 103\n"
          ]
        },
        {
          "output_type": "stream",
          "name": "stderr",
          "text": [
            "100%|██████████| 2000/2000 [00:19<00:00, 102.47batch/s]\n",
            "100%|██████████| 500/500 [00:03<00:00, 137.65batch/s]\n"
          ]
        },
        {
          "output_type": "stream",
          "name": "stdout",
          "text": [
            "\n",
            "Epoch: 104\n"
          ]
        },
        {
          "output_type": "stream",
          "name": "stderr",
          "text": [
            "100%|██████████| 2000/2000 [00:19<00:00, 103.30batch/s]\n",
            "100%|██████████| 500/500 [00:03<00:00, 134.14batch/s]\n"
          ]
        },
        {
          "output_type": "stream",
          "name": "stdout",
          "text": [
            "\n",
            "Epoch: 105\n"
          ]
        },
        {
          "output_type": "stream",
          "name": "stderr",
          "text": [
            "100%|██████████| 2000/2000 [00:19<00:00, 103.04batch/s]\n",
            "100%|██████████| 500/500 [00:03<00:00, 134.03batch/s]\n"
          ]
        },
        {
          "output_type": "stream",
          "name": "stdout",
          "text": [
            "\n",
            "Epoch: 106\n"
          ]
        },
        {
          "output_type": "stream",
          "name": "stderr",
          "text": [
            "100%|██████████| 2000/2000 [00:19<00:00, 102.86batch/s]\n",
            "100%|██████████| 500/500 [00:03<00:00, 136.37batch/s]\n"
          ]
        },
        {
          "output_type": "stream",
          "name": "stdout",
          "text": [
            "\n",
            "Epoch: 107\n"
          ]
        },
        {
          "output_type": "stream",
          "name": "stderr",
          "text": [
            "100%|██████████| 2000/2000 [00:19<00:00, 103.67batch/s]\n",
            "100%|██████████| 500/500 [00:03<00:00, 135.83batch/s]\n"
          ]
        },
        {
          "output_type": "stream",
          "name": "stdout",
          "text": [
            "\n",
            "Epoch: 108\n"
          ]
        },
        {
          "output_type": "stream",
          "name": "stderr",
          "text": [
            "100%|██████████| 2000/2000 [00:19<00:00, 103.56batch/s]\n",
            "100%|██████████| 500/500 [00:03<00:00, 135.81batch/s]\n"
          ]
        },
        {
          "output_type": "stream",
          "name": "stdout",
          "text": [
            "\n",
            "Epoch: 109\n"
          ]
        },
        {
          "output_type": "stream",
          "name": "stderr",
          "text": [
            "100%|██████████| 2000/2000 [00:19<00:00, 102.43batch/s]\n",
            "100%|██████████| 500/500 [00:03<00:00, 134.39batch/s]\n"
          ]
        },
        {
          "output_type": "stream",
          "name": "stdout",
          "text": [
            "\n",
            "Epoch: 110\n"
          ]
        },
        {
          "output_type": "stream",
          "name": "stderr",
          "text": [
            "100%|██████████| 2000/2000 [00:19<00:00, 102.92batch/s]\n",
            "100%|██████████| 500/500 [00:03<00:00, 135.78batch/s]\n"
          ]
        },
        {
          "output_type": "stream",
          "name": "stdout",
          "text": [
            "\n",
            "Epoch: 111\n"
          ]
        },
        {
          "output_type": "stream",
          "name": "stderr",
          "text": [
            "100%|██████████| 2000/2000 [00:19<00:00, 103.11batch/s]\n",
            "100%|██████████| 500/500 [00:03<00:00, 131.05batch/s]\n"
          ]
        },
        {
          "output_type": "stream",
          "name": "stdout",
          "text": [
            "\n",
            "Epoch: 112\n"
          ]
        },
        {
          "output_type": "stream",
          "name": "stderr",
          "text": [
            "100%|██████████| 2000/2000 [00:19<00:00, 103.51batch/s]\n",
            "100%|██████████| 500/500 [00:03<00:00, 137.20batch/s]\n"
          ]
        },
        {
          "output_type": "stream",
          "name": "stdout",
          "text": [
            "\n",
            "Epoch: 113\n"
          ]
        },
        {
          "output_type": "stream",
          "name": "stderr",
          "text": [
            "100%|██████████| 2000/2000 [00:19<00:00, 103.13batch/s]\n",
            "100%|██████████| 500/500 [00:03<00:00, 135.63batch/s]\n"
          ]
        },
        {
          "output_type": "stream",
          "name": "stdout",
          "text": [
            "\n",
            "Epoch: 114\n"
          ]
        },
        {
          "output_type": "stream",
          "name": "stderr",
          "text": [
            "100%|██████████| 2000/2000 [00:19<00:00, 102.62batch/s]\n",
            "100%|██████████| 500/500 [00:03<00:00, 136.35batch/s]\n"
          ]
        },
        {
          "output_type": "stream",
          "name": "stdout",
          "text": [
            "\n",
            "Epoch: 115\n"
          ]
        },
        {
          "output_type": "stream",
          "name": "stderr",
          "text": [
            "100%|██████████| 2000/2000 [00:19<00:00, 103.01batch/s]\n",
            "100%|██████████| 500/500 [00:03<00:00, 135.94batch/s]\n"
          ]
        },
        {
          "output_type": "stream",
          "name": "stdout",
          "text": [
            "\n",
            "Epoch: 116\n"
          ]
        },
        {
          "output_type": "stream",
          "name": "stderr",
          "text": [
            "100%|██████████| 2000/2000 [00:19<00:00, 102.77batch/s]\n",
            "100%|██████████| 500/500 [00:03<00:00, 134.51batch/s]\n"
          ]
        },
        {
          "output_type": "stream",
          "name": "stdout",
          "text": [
            "\n",
            "Epoch: 117\n"
          ]
        },
        {
          "output_type": "stream",
          "name": "stderr",
          "text": [
            "100%|██████████| 2000/2000 [00:19<00:00, 102.08batch/s]\n",
            "100%|██████████| 500/500 [00:03<00:00, 133.42batch/s]\n"
          ]
        },
        {
          "output_type": "stream",
          "name": "stdout",
          "text": [
            "\n",
            "Epoch: 118\n"
          ]
        },
        {
          "output_type": "stream",
          "name": "stderr",
          "text": [
            "100%|██████████| 2000/2000 [00:19<00:00, 103.25batch/s]\n",
            "100%|██████████| 500/500 [00:03<00:00, 134.51batch/s]\n"
          ]
        },
        {
          "output_type": "stream",
          "name": "stdout",
          "text": [
            "\n",
            "Epoch: 119\n"
          ]
        },
        {
          "output_type": "stream",
          "name": "stderr",
          "text": [
            "100%|██████████| 2000/2000 [00:19<00:00, 102.47batch/s]\n",
            "100%|██████████| 500/500 [00:03<00:00, 134.15batch/s]\n"
          ]
        },
        {
          "output_type": "stream",
          "name": "stdout",
          "text": [
            "\n",
            "Epoch: 120\n",
            "training: \n"
          ]
        },
        {
          "output_type": "stream",
          "name": "stderr",
          "text": [
            "100%|██████████| 2000/2000 [00:19<00:00, 101.63batch/s]\n"
          ]
        },
        {
          "output_type": "stream",
          "name": "stdout",
          "text": [
            "validation: \n"
          ]
        },
        {
          "output_type": "stream",
          "name": "stderr",
          "text": [
            "100%|██████████| 500/500 [00:03<00:00, 133.35batch/s]\n"
          ]
        },
        {
          "output_type": "stream",
          "name": "stdout",
          "text": [
            "Training Loss: 0.078326 \tValidation Loss: 0.325293\n",
            "\n",
            "Epoch: 121\n"
          ]
        },
        {
          "output_type": "stream",
          "name": "stderr",
          "text": [
            "100%|██████████| 2000/2000 [00:19<00:00, 103.62batch/s]\n",
            "100%|██████████| 500/500 [00:03<00:00, 134.89batch/s]\n"
          ]
        },
        {
          "output_type": "stream",
          "name": "stdout",
          "text": [
            "\n",
            "Epoch: 122\n"
          ]
        },
        {
          "output_type": "stream",
          "name": "stderr",
          "text": [
            "100%|██████████| 2000/2000 [00:19<00:00, 102.72batch/s]\n",
            "100%|██████████| 500/500 [00:03<00:00, 136.83batch/s]\n"
          ]
        },
        {
          "output_type": "stream",
          "name": "stdout",
          "text": [
            "\n",
            "Epoch: 123\n"
          ]
        },
        {
          "output_type": "stream",
          "name": "stderr",
          "text": [
            "100%|██████████| 2000/2000 [00:19<00:00, 101.45batch/s]\n",
            "100%|██████████| 500/500 [00:03<00:00, 137.69batch/s]\n"
          ]
        },
        {
          "output_type": "stream",
          "name": "stdout",
          "text": [
            "\n",
            "Epoch: 124\n"
          ]
        },
        {
          "output_type": "stream",
          "name": "stderr",
          "text": [
            "100%|██████████| 2000/2000 [00:19<00:00, 103.11batch/s]\n",
            "100%|██████████| 500/500 [00:03<00:00, 136.19batch/s]\n"
          ]
        },
        {
          "output_type": "stream",
          "name": "stdout",
          "text": [
            "\n",
            "Epoch: 125\n"
          ]
        },
        {
          "output_type": "stream",
          "name": "stderr",
          "text": [
            "100%|██████████| 2000/2000 [00:19<00:00, 102.86batch/s]\n",
            "100%|██████████| 500/500 [00:03<00:00, 135.26batch/s]\n"
          ]
        },
        {
          "output_type": "stream",
          "name": "stdout",
          "text": [
            "\n",
            "Epoch: 126\n"
          ]
        },
        {
          "output_type": "stream",
          "name": "stderr",
          "text": [
            "100%|██████████| 2000/2000 [00:19<00:00, 102.04batch/s]\n",
            "100%|██████████| 500/500 [00:03<00:00, 133.17batch/s]\n"
          ]
        },
        {
          "output_type": "stream",
          "name": "stdout",
          "text": [
            "\n",
            "Epoch: 127\n"
          ]
        },
        {
          "output_type": "stream",
          "name": "stderr",
          "text": [
            "100%|██████████| 2000/2000 [00:19<00:00, 102.98batch/s]\n",
            "100%|██████████| 500/500 [00:03<00:00, 133.44batch/s]\n"
          ]
        },
        {
          "output_type": "stream",
          "name": "stdout",
          "text": [
            "\n",
            "Epoch: 128\n"
          ]
        },
        {
          "output_type": "stream",
          "name": "stderr",
          "text": [
            "100%|██████████| 2000/2000 [00:19<00:00, 101.40batch/s]\n",
            "100%|██████████| 500/500 [00:03<00:00, 134.65batch/s]\n"
          ]
        },
        {
          "output_type": "stream",
          "name": "stdout",
          "text": [
            "\n",
            "Epoch: 129\n"
          ]
        },
        {
          "output_type": "stream",
          "name": "stderr",
          "text": [
            "100%|██████████| 2000/2000 [00:19<00:00, 101.89batch/s]\n",
            "100%|██████████| 500/500 [00:03<00:00, 135.80batch/s]\n"
          ]
        },
        {
          "output_type": "stream",
          "name": "stdout",
          "text": [
            "\n",
            "Epoch: 130\n"
          ]
        },
        {
          "output_type": "stream",
          "name": "stderr",
          "text": [
            "100%|██████████| 2000/2000 [00:19<00:00, 101.21batch/s]\n",
            "100%|██████████| 500/500 [00:03<00:00, 135.86batch/s]\n"
          ]
        },
        {
          "output_type": "stream",
          "name": "stdout",
          "text": [
            "\n",
            "Epoch: 131\n"
          ]
        },
        {
          "output_type": "stream",
          "name": "stderr",
          "text": [
            "100%|██████████| 2000/2000 [00:19<00:00, 101.99batch/s]\n",
            "100%|██████████| 500/500 [00:03<00:00, 137.58batch/s]\n"
          ]
        },
        {
          "output_type": "stream",
          "name": "stdout",
          "text": [
            "\n",
            "Epoch: 132\n"
          ]
        },
        {
          "output_type": "stream",
          "name": "stderr",
          "text": [
            "100%|██████████| 2000/2000 [00:19<00:00, 103.11batch/s]\n",
            "100%|██████████| 500/500 [00:03<00:00, 133.59batch/s]\n"
          ]
        },
        {
          "output_type": "stream",
          "name": "stdout",
          "text": [
            "\n",
            "Epoch: 133\n"
          ]
        },
        {
          "output_type": "stream",
          "name": "stderr",
          "text": [
            "100%|██████████| 2000/2000 [00:19<00:00, 102.27batch/s]\n",
            "100%|██████████| 500/500 [00:03<00:00, 135.42batch/s]\n"
          ]
        },
        {
          "output_type": "stream",
          "name": "stdout",
          "text": [
            "\n",
            "Epoch: 134\n"
          ]
        },
        {
          "output_type": "stream",
          "name": "stderr",
          "text": [
            "100%|██████████| 2000/2000 [00:19<00:00, 102.33batch/s]\n",
            "100%|██████████| 500/500 [00:03<00:00, 136.19batch/s]\n"
          ]
        },
        {
          "output_type": "stream",
          "name": "stdout",
          "text": [
            "\n",
            "Epoch: 135\n"
          ]
        },
        {
          "output_type": "stream",
          "name": "stderr",
          "text": [
            "100%|██████████| 2000/2000 [00:19<00:00, 103.29batch/s]\n",
            "100%|██████████| 500/500 [00:03<00:00, 135.42batch/s]\n"
          ]
        },
        {
          "output_type": "stream",
          "name": "stdout",
          "text": [
            "\n",
            "Epoch: 136\n"
          ]
        },
        {
          "output_type": "stream",
          "name": "stderr",
          "text": [
            "100%|██████████| 2000/2000 [00:19<00:00, 101.50batch/s]\n",
            "100%|██████████| 500/500 [00:03<00:00, 133.94batch/s]\n"
          ]
        },
        {
          "output_type": "stream",
          "name": "stdout",
          "text": [
            "\n",
            "Epoch: 137\n"
          ]
        },
        {
          "output_type": "stream",
          "name": "stderr",
          "text": [
            "100%|██████████| 2000/2000 [00:19<00:00, 102.07batch/s]\n",
            "100%|██████████| 500/500 [00:03<00:00, 131.72batch/s]\n"
          ]
        },
        {
          "output_type": "stream",
          "name": "stdout",
          "text": [
            "\n",
            "Epoch: 138\n"
          ]
        },
        {
          "output_type": "stream",
          "name": "stderr",
          "text": [
            "100%|██████████| 2000/2000 [00:19<00:00, 103.53batch/s]\n",
            "100%|██████████| 500/500 [00:03<00:00, 134.23batch/s]\n"
          ]
        },
        {
          "output_type": "stream",
          "name": "stdout",
          "text": [
            "\n",
            "Epoch: 139\n"
          ]
        },
        {
          "output_type": "stream",
          "name": "stderr",
          "text": [
            "100%|██████████| 2000/2000 [00:19<00:00, 103.22batch/s]\n",
            "100%|██████████| 500/500 [00:03<00:00, 133.83batch/s]\n"
          ]
        },
        {
          "output_type": "stream",
          "name": "stdout",
          "text": [
            "\n",
            "Epoch: 140\n"
          ]
        },
        {
          "output_type": "stream",
          "name": "stderr",
          "text": [
            "100%|██████████| 2000/2000 [00:19<00:00, 101.67batch/s]\n",
            "100%|██████████| 500/500 [00:03<00:00, 133.72batch/s]\n"
          ]
        },
        {
          "output_type": "stream",
          "name": "stdout",
          "text": [
            "\n",
            "Epoch: 141\n"
          ]
        },
        {
          "output_type": "stream",
          "name": "stderr",
          "text": [
            "100%|██████████| 2000/2000 [00:19<00:00, 102.36batch/s]\n",
            "100%|██████████| 500/500 [00:03<00:00, 134.44batch/s]\n"
          ]
        },
        {
          "output_type": "stream",
          "name": "stdout",
          "text": [
            "\n",
            "Epoch: 142\n"
          ]
        },
        {
          "output_type": "stream",
          "name": "stderr",
          "text": [
            "100%|██████████| 2000/2000 [00:19<00:00, 101.25batch/s]\n",
            "100%|██████████| 500/500 [00:03<00:00, 134.56batch/s]\n"
          ]
        },
        {
          "output_type": "stream",
          "name": "stdout",
          "text": [
            "\n",
            "Epoch: 143\n"
          ]
        },
        {
          "output_type": "stream",
          "name": "stderr",
          "text": [
            "100%|██████████| 2000/2000 [00:19<00:00, 103.61batch/s]\n",
            "100%|██████████| 500/500 [00:03<00:00, 138.20batch/s]\n"
          ]
        },
        {
          "output_type": "stream",
          "name": "stdout",
          "text": [
            "\n",
            "Epoch: 144\n"
          ]
        },
        {
          "output_type": "stream",
          "name": "stderr",
          "text": [
            "100%|██████████| 2000/2000 [00:19<00:00, 103.12batch/s]\n",
            "100%|██████████| 500/500 [00:03<00:00, 134.97batch/s]\n"
          ]
        },
        {
          "output_type": "stream",
          "name": "stdout",
          "text": [
            "\n",
            "Epoch: 145\n"
          ]
        },
        {
          "output_type": "stream",
          "name": "stderr",
          "text": [
            "100%|██████████| 2000/2000 [00:19<00:00, 101.66batch/s]\n",
            "100%|██████████| 500/500 [00:03<00:00, 137.11batch/s]\n"
          ]
        },
        {
          "output_type": "stream",
          "name": "stdout",
          "text": [
            "\n",
            "Epoch: 146\n"
          ]
        },
        {
          "output_type": "stream",
          "name": "stderr",
          "text": [
            "100%|██████████| 2000/2000 [00:19<00:00, 102.99batch/s]\n",
            "100%|██████████| 500/500 [00:03<00:00, 133.40batch/s]\n"
          ]
        },
        {
          "output_type": "stream",
          "name": "stdout",
          "text": [
            "\n",
            "Epoch: 147\n"
          ]
        },
        {
          "output_type": "stream",
          "name": "stderr",
          "text": [
            "100%|██████████| 2000/2000 [00:19<00:00, 102.16batch/s]\n",
            "100%|██████████| 500/500 [00:03<00:00, 134.44batch/s]\n"
          ]
        },
        {
          "output_type": "stream",
          "name": "stdout",
          "text": [
            "\n",
            "Epoch: 148\n"
          ]
        },
        {
          "output_type": "stream",
          "name": "stderr",
          "text": [
            "100%|██████████| 2000/2000 [00:19<00:00, 101.94batch/s]\n",
            "100%|██████████| 500/500 [00:03<00:00, 134.85batch/s]\n"
          ]
        },
        {
          "output_type": "stream",
          "name": "stdout",
          "text": [
            "\n",
            "Epoch: 149\n"
          ]
        },
        {
          "output_type": "stream",
          "name": "stderr",
          "text": [
            "100%|██████████| 2000/2000 [00:19<00:00, 103.01batch/s]\n",
            "100%|██████████| 500/500 [00:03<00:00, 135.08batch/s]\n"
          ]
        },
        {
          "output_type": "stream",
          "name": "stdout",
          "text": [
            "\n",
            "Epoch: 150\n",
            "training: \n"
          ]
        },
        {
          "output_type": "stream",
          "name": "stderr",
          "text": [
            "100%|██████████| 2000/2000 [00:19<00:00, 102.76batch/s]\n"
          ]
        },
        {
          "output_type": "stream",
          "name": "stdout",
          "text": [
            "validation: \n"
          ]
        },
        {
          "output_type": "stream",
          "name": "stderr",
          "text": [
            "100%|██████████| 500/500 [00:03<00:00, 135.05batch/s]\n"
          ]
        },
        {
          "output_type": "stream",
          "name": "stdout",
          "text": [
            "Training Loss: 0.062563 \tValidation Loss: 0.378184\n",
            "\n",
            "Epoch: 151\n"
          ]
        },
        {
          "output_type": "stream",
          "name": "stderr",
          "text": [
            "100%|██████████| 2000/2000 [00:19<00:00, 102.05batch/s]\n",
            "100%|██████████| 500/500 [00:03<00:00, 136.92batch/s]\n"
          ]
        },
        {
          "output_type": "stream",
          "name": "stdout",
          "text": [
            "\n",
            "Epoch: 152\n"
          ]
        },
        {
          "output_type": "stream",
          "name": "stderr",
          "text": [
            "100%|██████████| 2000/2000 [00:19<00:00, 102.25batch/s]\n",
            "100%|██████████| 500/500 [00:03<00:00, 133.26batch/s]\n"
          ]
        },
        {
          "output_type": "stream",
          "name": "stdout",
          "text": [
            "\n",
            "Epoch: 153\n"
          ]
        },
        {
          "output_type": "stream",
          "name": "stderr",
          "text": [
            "100%|██████████| 2000/2000 [00:19<00:00, 101.62batch/s]\n",
            "100%|██████████| 500/500 [00:03<00:00, 136.38batch/s]\n"
          ]
        },
        {
          "output_type": "stream",
          "name": "stdout",
          "text": [
            "\n",
            "Epoch: 154\n"
          ]
        },
        {
          "output_type": "stream",
          "name": "stderr",
          "text": [
            "100%|██████████| 2000/2000 [00:19<00:00, 102.23batch/s]\n",
            "100%|██████████| 500/500 [00:03<00:00, 134.78batch/s]\n"
          ]
        },
        {
          "output_type": "stream",
          "name": "stdout",
          "text": [
            "\n",
            "Epoch: 155\n"
          ]
        },
        {
          "output_type": "stream",
          "name": "stderr",
          "text": [
            "100%|██████████| 2000/2000 [00:19<00:00, 102.44batch/s]\n",
            "100%|██████████| 500/500 [00:03<00:00, 135.45batch/s]\n"
          ]
        },
        {
          "output_type": "stream",
          "name": "stdout",
          "text": [
            "\n",
            "Epoch: 156\n"
          ]
        },
        {
          "output_type": "stream",
          "name": "stderr",
          "text": [
            "100%|██████████| 2000/2000 [00:19<00:00, 102.22batch/s]\n",
            "100%|██████████| 500/500 [00:03<00:00, 132.86batch/s]\n"
          ]
        },
        {
          "output_type": "stream",
          "name": "stdout",
          "text": [
            "\n",
            "Epoch: 157\n"
          ]
        },
        {
          "output_type": "stream",
          "name": "stderr",
          "text": [
            "100%|██████████| 2000/2000 [00:19<00:00, 102.77batch/s]\n",
            "100%|██████████| 500/500 [00:03<00:00, 132.63batch/s]\n"
          ]
        },
        {
          "output_type": "stream",
          "name": "stdout",
          "text": [
            "\n",
            "Epoch: 158\n"
          ]
        },
        {
          "output_type": "stream",
          "name": "stderr",
          "text": [
            "100%|██████████| 2000/2000 [00:19<00:00, 102.75batch/s]\n",
            "100%|██████████| 500/500 [00:03<00:00, 136.25batch/s]\n"
          ]
        },
        {
          "output_type": "stream",
          "name": "stdout",
          "text": [
            "\n",
            "Epoch: 159\n"
          ]
        },
        {
          "output_type": "stream",
          "name": "stderr",
          "text": [
            "100%|██████████| 2000/2000 [00:19<00:00, 102.33batch/s]\n",
            "100%|██████████| 500/500 [00:03<00:00, 136.54batch/s]\n"
          ]
        },
        {
          "output_type": "stream",
          "name": "stdout",
          "text": [
            "\n",
            "Epoch: 160\n"
          ]
        },
        {
          "output_type": "stream",
          "name": "stderr",
          "text": [
            "100%|██████████| 2000/2000 [00:19<00:00, 102.73batch/s]\n",
            "100%|██████████| 500/500 [00:03<00:00, 134.88batch/s]\n"
          ]
        },
        {
          "output_type": "stream",
          "name": "stdout",
          "text": [
            "\n",
            "Epoch: 161\n"
          ]
        },
        {
          "output_type": "stream",
          "name": "stderr",
          "text": [
            "100%|██████████| 2000/2000 [00:19<00:00, 102.60batch/s]\n",
            "100%|██████████| 500/500 [00:03<00:00, 133.71batch/s]\n"
          ]
        },
        {
          "output_type": "stream",
          "name": "stdout",
          "text": [
            "\n",
            "Epoch: 162\n"
          ]
        },
        {
          "output_type": "stream",
          "name": "stderr",
          "text": [
            "100%|██████████| 2000/2000 [00:19<00:00, 101.02batch/s]\n",
            "100%|██████████| 500/500 [00:03<00:00, 134.74batch/s]\n"
          ]
        },
        {
          "output_type": "stream",
          "name": "stdout",
          "text": [
            "\n",
            "Epoch: 163\n"
          ]
        },
        {
          "output_type": "stream",
          "name": "stderr",
          "text": [
            "100%|██████████| 2000/2000 [00:19<00:00, 103.71batch/s]\n",
            "100%|██████████| 500/500 [00:03<00:00, 133.99batch/s]\n"
          ]
        },
        {
          "output_type": "stream",
          "name": "stdout",
          "text": [
            "\n",
            "Epoch: 164\n"
          ]
        },
        {
          "output_type": "stream",
          "name": "stderr",
          "text": [
            "100%|██████████| 2000/2000 [00:19<00:00, 103.19batch/s]\n",
            "100%|██████████| 500/500 [00:03<00:00, 127.70batch/s]\n"
          ]
        },
        {
          "output_type": "stream",
          "name": "stdout",
          "text": [
            "\n",
            "Epoch: 165\n"
          ]
        },
        {
          "output_type": "stream",
          "name": "stderr",
          "text": [
            "100%|██████████| 2000/2000 [00:19<00:00, 102.95batch/s]\n",
            "100%|██████████| 500/500 [00:03<00:00, 133.61batch/s]\n"
          ]
        },
        {
          "output_type": "stream",
          "name": "stdout",
          "text": [
            "\n",
            "Epoch: 166\n"
          ]
        },
        {
          "output_type": "stream",
          "name": "stderr",
          "text": [
            "100%|██████████| 2000/2000 [00:19<00:00, 102.62batch/s]\n",
            "100%|██████████| 500/500 [00:03<00:00, 135.35batch/s]\n"
          ]
        },
        {
          "output_type": "stream",
          "name": "stdout",
          "text": [
            "\n",
            "Epoch: 167\n"
          ]
        },
        {
          "output_type": "stream",
          "name": "stderr",
          "text": [
            "100%|██████████| 2000/2000 [00:19<00:00, 101.87batch/s]\n",
            "100%|██████████| 500/500 [00:03<00:00, 133.00batch/s]\n"
          ]
        },
        {
          "output_type": "stream",
          "name": "stdout",
          "text": [
            "\n",
            "Epoch: 168\n"
          ]
        },
        {
          "output_type": "stream",
          "name": "stderr",
          "text": [
            "100%|██████████| 2000/2000 [00:19<00:00, 102.21batch/s]\n",
            "100%|██████████| 500/500 [00:03<00:00, 134.43batch/s]\n"
          ]
        },
        {
          "output_type": "stream",
          "name": "stdout",
          "text": [
            "\n",
            "Epoch: 169\n"
          ]
        },
        {
          "output_type": "stream",
          "name": "stderr",
          "text": [
            "100%|██████████| 2000/2000 [00:19<00:00, 103.05batch/s]\n",
            "100%|██████████| 500/500 [00:03<00:00, 138.15batch/s]\n"
          ]
        },
        {
          "output_type": "stream",
          "name": "stdout",
          "text": [
            "\n",
            "Epoch: 170\n"
          ]
        },
        {
          "output_type": "stream",
          "name": "stderr",
          "text": [
            "100%|██████████| 2000/2000 [00:19<00:00, 102.36batch/s]\n",
            "100%|██████████| 500/500 [00:03<00:00, 133.24batch/s]\n"
          ]
        },
        {
          "output_type": "stream",
          "name": "stdout",
          "text": [
            "\n",
            "Epoch: 171\n"
          ]
        },
        {
          "output_type": "stream",
          "name": "stderr",
          "text": [
            "100%|██████████| 2000/2000 [00:19<00:00, 103.34batch/s]\n",
            "100%|██████████| 500/500 [00:03<00:00, 134.88batch/s]\n"
          ]
        },
        {
          "output_type": "stream",
          "name": "stdout",
          "text": [
            "\n",
            "Epoch: 172\n"
          ]
        },
        {
          "output_type": "stream",
          "name": "stderr",
          "text": [
            "100%|██████████| 2000/2000 [00:19<00:00, 103.35batch/s]\n",
            "100%|██████████| 500/500 [00:03<00:00, 135.93batch/s]\n"
          ]
        },
        {
          "output_type": "stream",
          "name": "stdout",
          "text": [
            "\n",
            "Epoch: 173\n"
          ]
        },
        {
          "output_type": "stream",
          "name": "stderr",
          "text": [
            "100%|██████████| 2000/2000 [00:19<00:00, 101.80batch/s]\n",
            "100%|██████████| 500/500 [00:03<00:00, 132.83batch/s]\n"
          ]
        },
        {
          "output_type": "stream",
          "name": "stdout",
          "text": [
            "\n",
            "Epoch: 174\n"
          ]
        },
        {
          "output_type": "stream",
          "name": "stderr",
          "text": [
            "100%|██████████| 2000/2000 [00:19<00:00, 102.72batch/s]\n",
            "100%|██████████| 500/500 [00:03<00:00, 134.82batch/s]\n"
          ]
        },
        {
          "output_type": "stream",
          "name": "stdout",
          "text": [
            "\n",
            "Epoch: 175\n"
          ]
        },
        {
          "output_type": "stream",
          "name": "stderr",
          "text": [
            "100%|██████████| 2000/2000 [00:19<00:00, 102.72batch/s]\n",
            "100%|██████████| 500/500 [00:03<00:00, 133.37batch/s]\n"
          ]
        },
        {
          "output_type": "stream",
          "name": "stdout",
          "text": [
            "\n",
            "Epoch: 176\n"
          ]
        },
        {
          "output_type": "stream",
          "name": "stderr",
          "text": [
            "100%|██████████| 2000/2000 [00:19<00:00, 101.95batch/s]\n",
            "100%|██████████| 500/500 [00:03<00:00, 134.40batch/s]\n"
          ]
        },
        {
          "output_type": "stream",
          "name": "stdout",
          "text": [
            "\n",
            "Epoch: 177\n"
          ]
        },
        {
          "output_type": "stream",
          "name": "stderr",
          "text": [
            "100%|██████████| 2000/2000 [00:19<00:00, 102.88batch/s]\n",
            "100%|██████████| 500/500 [00:03<00:00, 134.45batch/s]\n"
          ]
        },
        {
          "output_type": "stream",
          "name": "stdout",
          "text": [
            "\n",
            "Epoch: 178\n"
          ]
        },
        {
          "output_type": "stream",
          "name": "stderr",
          "text": [
            "100%|██████████| 2000/2000 [00:19<00:00, 102.07batch/s]\n",
            "100%|██████████| 500/500 [00:03<00:00, 134.29batch/s]\n"
          ]
        },
        {
          "output_type": "stream",
          "name": "stdout",
          "text": [
            "\n",
            "Epoch: 179\n"
          ]
        },
        {
          "output_type": "stream",
          "name": "stderr",
          "text": [
            "100%|██████████| 2000/2000 [00:19<00:00, 101.79batch/s]\n",
            "100%|██████████| 500/500 [00:03<00:00, 134.54batch/s]\n"
          ]
        },
        {
          "output_type": "stream",
          "name": "stdout",
          "text": [
            "\n",
            "Epoch: 180\n",
            "training: \n"
          ]
        },
        {
          "output_type": "stream",
          "name": "stderr",
          "text": [
            "100%|██████████| 2000/2000 [00:19<00:00, 103.03batch/s]\n"
          ]
        },
        {
          "output_type": "stream",
          "name": "stdout",
          "text": [
            "validation: \n"
          ]
        },
        {
          "output_type": "stream",
          "name": "stderr",
          "text": [
            "100%|██████████| 500/500 [00:03<00:00, 136.16batch/s]\n"
          ]
        },
        {
          "output_type": "stream",
          "name": "stdout",
          "text": [
            "Training Loss: 0.050636 \tValidation Loss: 0.415187\n",
            "\n",
            "Epoch: 181\n"
          ]
        },
        {
          "output_type": "stream",
          "name": "stderr",
          "text": [
            "100%|██████████| 2000/2000 [00:19<00:00, 102.21batch/s]\n",
            "100%|██████████| 500/500 [00:03<00:00, 135.67batch/s]\n"
          ]
        },
        {
          "output_type": "stream",
          "name": "stdout",
          "text": [
            "\n",
            "Epoch: 182\n"
          ]
        },
        {
          "output_type": "stream",
          "name": "stderr",
          "text": [
            "100%|██████████| 2000/2000 [00:19<00:00, 101.37batch/s]\n",
            "100%|██████████| 500/500 [00:03<00:00, 135.96batch/s]\n"
          ]
        },
        {
          "output_type": "stream",
          "name": "stdout",
          "text": [
            "\n",
            "Epoch: 183\n"
          ]
        },
        {
          "output_type": "stream",
          "name": "stderr",
          "text": [
            "100%|██████████| 2000/2000 [00:19<00:00, 102.07batch/s]\n",
            "100%|██████████| 500/500 [00:03<00:00, 134.67batch/s]\n"
          ]
        },
        {
          "output_type": "stream",
          "name": "stdout",
          "text": [
            "\n",
            "Epoch: 184\n"
          ]
        },
        {
          "output_type": "stream",
          "name": "stderr",
          "text": [
            "100%|██████████| 2000/2000 [00:19<00:00, 100.40batch/s]\n",
            "100%|██████████| 500/500 [00:03<00:00, 134.85batch/s]\n"
          ]
        },
        {
          "output_type": "stream",
          "name": "stdout",
          "text": [
            "\n",
            "Epoch: 185\n"
          ]
        },
        {
          "output_type": "stream",
          "name": "stderr",
          "text": [
            "100%|██████████| 2000/2000 [00:19<00:00, 103.02batch/s]\n",
            "100%|██████████| 500/500 [00:03<00:00, 133.69batch/s]\n"
          ]
        },
        {
          "output_type": "stream",
          "name": "stdout",
          "text": [
            "\n",
            "Epoch: 186\n"
          ]
        },
        {
          "output_type": "stream",
          "name": "stderr",
          "text": [
            "100%|██████████| 2000/2000 [00:19<00:00, 103.55batch/s]\n",
            "100%|██████████| 500/500 [00:03<00:00, 133.02batch/s]\n"
          ]
        },
        {
          "output_type": "stream",
          "name": "stdout",
          "text": [
            "\n",
            "Epoch: 187\n"
          ]
        },
        {
          "output_type": "stream",
          "name": "stderr",
          "text": [
            "100%|██████████| 2000/2000 [00:19<00:00, 102.19batch/s]\n",
            "100%|██████████| 500/500 [00:03<00:00, 134.13batch/s]\n"
          ]
        },
        {
          "output_type": "stream",
          "name": "stdout",
          "text": [
            "\n",
            "Epoch: 188\n"
          ]
        },
        {
          "output_type": "stream",
          "name": "stderr",
          "text": [
            "100%|██████████| 2000/2000 [00:19<00:00, 102.70batch/s]\n",
            "100%|██████████| 500/500 [00:03<00:00, 133.88batch/s]\n"
          ]
        },
        {
          "output_type": "stream",
          "name": "stdout",
          "text": [
            "\n",
            "Epoch: 189\n"
          ]
        },
        {
          "output_type": "stream",
          "name": "stderr",
          "text": [
            "100%|██████████| 2000/2000 [00:19<00:00, 102.07batch/s]\n",
            "100%|██████████| 500/500 [00:03<00:00, 135.00batch/s]\n"
          ]
        },
        {
          "output_type": "stream",
          "name": "stdout",
          "text": [
            "\n",
            "Epoch: 190\n"
          ]
        },
        {
          "output_type": "stream",
          "name": "stderr",
          "text": [
            "100%|██████████| 2000/2000 [00:19<00:00, 100.78batch/s]\n",
            "100%|██████████| 500/500 [00:03<00:00, 135.66batch/s]\n"
          ]
        },
        {
          "output_type": "stream",
          "name": "stdout",
          "text": [
            "\n",
            "Epoch: 191\n"
          ]
        },
        {
          "output_type": "stream",
          "name": "stderr",
          "text": [
            "100%|██████████| 2000/2000 [00:19<00:00, 103.37batch/s]\n",
            "100%|██████████| 500/500 [00:03<00:00, 135.58batch/s]\n"
          ]
        },
        {
          "output_type": "stream",
          "name": "stdout",
          "text": [
            "\n",
            "Epoch: 192\n"
          ]
        },
        {
          "output_type": "stream",
          "name": "stderr",
          "text": [
            "100%|██████████| 2000/2000 [00:19<00:00, 103.33batch/s]\n",
            "100%|██████████| 500/500 [00:03<00:00, 138.39batch/s]\n"
          ]
        },
        {
          "output_type": "stream",
          "name": "stdout",
          "text": [
            "\n",
            "Epoch: 193\n"
          ]
        },
        {
          "output_type": "stream",
          "name": "stderr",
          "text": [
            "100%|██████████| 2000/2000 [00:19<00:00, 102.24batch/s]\n",
            "100%|██████████| 500/500 [00:03<00:00, 137.51batch/s]\n"
          ]
        },
        {
          "output_type": "stream",
          "name": "stdout",
          "text": [
            "\n",
            "Epoch: 194\n"
          ]
        },
        {
          "output_type": "stream",
          "name": "stderr",
          "text": [
            "100%|██████████| 2000/2000 [00:19<00:00, 103.43batch/s]\n",
            "100%|██████████| 500/500 [00:03<00:00, 137.94batch/s]\n"
          ]
        },
        {
          "output_type": "stream",
          "name": "stdout",
          "text": [
            "\n",
            "Epoch: 195\n"
          ]
        },
        {
          "output_type": "stream",
          "name": "stderr",
          "text": [
            "100%|██████████| 2000/2000 [00:19<00:00, 102.84batch/s]\n",
            "100%|██████████| 500/500 [00:03<00:00, 138.20batch/s]\n"
          ]
        },
        {
          "output_type": "stream",
          "name": "stdout",
          "text": [
            "\n",
            "Epoch: 196\n"
          ]
        },
        {
          "output_type": "stream",
          "name": "stderr",
          "text": [
            "100%|██████████| 2000/2000 [00:19<00:00, 103.18batch/s]\n",
            "100%|██████████| 500/500 [00:03<00:00, 137.09batch/s]\n"
          ]
        },
        {
          "output_type": "stream",
          "name": "stdout",
          "text": [
            "\n",
            "Epoch: 197\n"
          ]
        },
        {
          "output_type": "stream",
          "name": "stderr",
          "text": [
            "100%|██████████| 2000/2000 [00:19<00:00, 103.77batch/s]\n",
            "100%|██████████| 500/500 [00:03<00:00, 134.60batch/s]\n"
          ]
        },
        {
          "output_type": "stream",
          "name": "stdout",
          "text": [
            "\n",
            "Epoch: 198\n"
          ]
        },
        {
          "output_type": "stream",
          "name": "stderr",
          "text": [
            "100%|██████████| 2000/2000 [00:19<00:00, 102.01batch/s]\n",
            "100%|██████████| 500/500 [00:03<00:00, 135.69batch/s]\n"
          ]
        },
        {
          "output_type": "stream",
          "name": "stdout",
          "text": [
            "\n",
            "Epoch: 199\n"
          ]
        },
        {
          "output_type": "stream",
          "name": "stderr",
          "text": [
            "100%|██████████| 2000/2000 [00:19<00:00, 104.10batch/s]\n",
            "100%|██████████| 500/500 [00:03<00:00, 133.00batch/s]\n"
          ]
        },
        {
          "output_type": "stream",
          "name": "stdout",
          "text": [
            "\n",
            "Epoch: 200\n"
          ]
        },
        {
          "output_type": "stream",
          "name": "stderr",
          "text": [
            "100%|██████████| 2000/2000 [00:19<00:00, 102.41batch/s]\n",
            "100%|██████████| 500/500 [00:03<00:00, 135.82batch/s]\n"
          ]
        },
        {
          "output_type": "stream",
          "name": "stdout",
          "text": [
            "\n",
            "Epoch: 201\n"
          ]
        },
        {
          "output_type": "stream",
          "name": "stderr",
          "text": [
            "100%|██████████| 2000/2000 [00:19<00:00, 102.53batch/s]\n",
            "100%|██████████| 500/500 [00:03<00:00, 134.97batch/s]\n"
          ]
        },
        {
          "output_type": "stream",
          "name": "stdout",
          "text": [
            "\n",
            "Epoch: 202\n"
          ]
        },
        {
          "output_type": "stream",
          "name": "stderr",
          "text": [
            "100%|██████████| 2000/2000 [00:19<00:00, 101.76batch/s]\n",
            "100%|██████████| 500/500 [00:03<00:00, 136.03batch/s]\n"
          ]
        },
        {
          "output_type": "stream",
          "name": "stdout",
          "text": [
            "\n",
            "Epoch: 203\n"
          ]
        },
        {
          "output_type": "stream",
          "name": "stderr",
          "text": [
            "100%|██████████| 2000/2000 [00:19<00:00, 102.88batch/s]\n",
            "100%|██████████| 500/500 [00:03<00:00, 135.59batch/s]\n"
          ]
        },
        {
          "output_type": "stream",
          "name": "stdout",
          "text": [
            "\n",
            "Epoch: 204\n"
          ]
        },
        {
          "output_type": "stream",
          "name": "stderr",
          "text": [
            "100%|██████████| 2000/2000 [00:19<00:00, 101.47batch/s]\n",
            "100%|██████████| 500/500 [00:03<00:00, 134.97batch/s]\n"
          ]
        },
        {
          "output_type": "stream",
          "name": "stdout",
          "text": [
            "\n",
            "Epoch: 205\n"
          ]
        },
        {
          "output_type": "stream",
          "name": "stderr",
          "text": [
            "100%|██████████| 2000/2000 [00:19<00:00, 102.98batch/s]\n",
            "100%|██████████| 500/500 [00:03<00:00, 134.49batch/s]\n"
          ]
        },
        {
          "output_type": "stream",
          "name": "stdout",
          "text": [
            "\n",
            "Epoch: 206\n"
          ]
        },
        {
          "output_type": "stream",
          "name": "stderr",
          "text": [
            "100%|██████████| 2000/2000 [00:19<00:00, 103.22batch/s]\n",
            "100%|██████████| 500/500 [00:03<00:00, 135.80batch/s]\n"
          ]
        },
        {
          "output_type": "stream",
          "name": "stdout",
          "text": [
            "\n",
            "Epoch: 207\n"
          ]
        },
        {
          "output_type": "stream",
          "name": "stderr",
          "text": [
            "100%|██████████| 2000/2000 [00:19<00:00, 101.45batch/s]\n",
            "100%|██████████| 500/500 [00:03<00:00, 135.18batch/s]\n"
          ]
        },
        {
          "output_type": "stream",
          "name": "stdout",
          "text": [
            "\n",
            "Epoch: 208\n"
          ]
        },
        {
          "output_type": "stream",
          "name": "stderr",
          "text": [
            "100%|██████████| 2000/2000 [00:19<00:00, 102.98batch/s]\n",
            "100%|██████████| 500/500 [00:03<00:00, 136.16batch/s]\n"
          ]
        },
        {
          "output_type": "stream",
          "name": "stdout",
          "text": [
            "\n",
            "Epoch: 209\n"
          ]
        },
        {
          "output_type": "stream",
          "name": "stderr",
          "text": [
            "100%|██████████| 2000/2000 [00:19<00:00, 101.88batch/s]\n",
            "100%|██████████| 500/500 [00:03<00:00, 134.09batch/s]\n"
          ]
        },
        {
          "output_type": "stream",
          "name": "stdout",
          "text": [
            "\n",
            "Epoch: 210\n",
            "training: \n"
          ]
        },
        {
          "output_type": "stream",
          "name": "stderr",
          "text": [
            "100%|██████████| 2000/2000 [00:19<00:00, 102.53batch/s]\n"
          ]
        },
        {
          "output_type": "stream",
          "name": "stdout",
          "text": [
            "validation: \n"
          ]
        },
        {
          "output_type": "stream",
          "name": "stderr",
          "text": [
            "100%|██████████| 500/500 [00:03<00:00, 134.94batch/s]\n"
          ]
        },
        {
          "output_type": "stream",
          "name": "stdout",
          "text": [
            "Training Loss: 0.045814 \tValidation Loss: 0.434302\n",
            "\n",
            "Epoch: 211\n"
          ]
        },
        {
          "output_type": "stream",
          "name": "stderr",
          "text": [
            "100%|██████████| 2000/2000 [00:19<00:00, 102.83batch/s]\n",
            "100%|██████████| 500/500 [00:03<00:00, 136.17batch/s]\n"
          ]
        },
        {
          "output_type": "stream",
          "name": "stdout",
          "text": [
            "\n",
            "Epoch: 212\n"
          ]
        },
        {
          "output_type": "stream",
          "name": "stderr",
          "text": [
            "100%|██████████| 2000/2000 [00:19<00:00, 101.60batch/s]\n",
            "100%|██████████| 500/500 [00:03<00:00, 134.76batch/s]\n"
          ]
        },
        {
          "output_type": "stream",
          "name": "stdout",
          "text": [
            "\n",
            "Epoch: 213\n"
          ]
        },
        {
          "output_type": "stream",
          "name": "stderr",
          "text": [
            "100%|██████████| 2000/2000 [00:19<00:00, 103.57batch/s]\n",
            "100%|██████████| 500/500 [00:03<00:00, 131.16batch/s]\n"
          ]
        },
        {
          "output_type": "stream",
          "name": "stdout",
          "text": [
            "\n",
            "Epoch: 214\n"
          ]
        },
        {
          "output_type": "stream",
          "name": "stderr",
          "text": [
            "100%|██████████| 2000/2000 [00:19<00:00, 101.88batch/s]\n",
            "100%|██████████| 500/500 [00:03<00:00, 133.61batch/s]\n"
          ]
        },
        {
          "output_type": "stream",
          "name": "stdout",
          "text": [
            "\n",
            "Epoch: 215\n"
          ]
        },
        {
          "output_type": "stream",
          "name": "stderr",
          "text": [
            "100%|██████████| 2000/2000 [00:19<00:00, 101.12batch/s]\n",
            "100%|██████████| 500/500 [00:03<00:00, 132.58batch/s]\n"
          ]
        },
        {
          "output_type": "stream",
          "name": "stdout",
          "text": [
            "\n",
            "Epoch: 216\n"
          ]
        },
        {
          "output_type": "stream",
          "name": "stderr",
          "text": [
            "100%|██████████| 2000/2000 [00:19<00:00, 102.62batch/s]\n",
            "100%|██████████| 500/500 [00:03<00:00, 131.66batch/s]\n"
          ]
        },
        {
          "output_type": "stream",
          "name": "stdout",
          "text": [
            "\n",
            "Epoch: 217\n"
          ]
        },
        {
          "output_type": "stream",
          "name": "stderr",
          "text": [
            "100%|██████████| 2000/2000 [00:19<00:00, 102.30batch/s]\n",
            "100%|██████████| 500/500 [00:03<00:00, 127.04batch/s]\n"
          ]
        },
        {
          "output_type": "stream",
          "name": "stdout",
          "text": [
            "\n",
            "Epoch: 218\n"
          ]
        },
        {
          "output_type": "stream",
          "name": "stderr",
          "text": [
            "100%|██████████| 2000/2000 [00:19<00:00, 102.51batch/s]\n",
            "100%|██████████| 500/500 [00:03<00:00, 136.29batch/s]\n"
          ]
        },
        {
          "output_type": "stream",
          "name": "stdout",
          "text": [
            "\n",
            "Epoch: 219\n"
          ]
        },
        {
          "output_type": "stream",
          "name": "stderr",
          "text": [
            "100%|██████████| 2000/2000 [00:19<00:00, 102.03batch/s]\n",
            "100%|██████████| 500/500 [00:03<00:00, 131.14batch/s]\n"
          ]
        },
        {
          "output_type": "stream",
          "name": "stdout",
          "text": [
            "\n",
            "Epoch: 220\n"
          ]
        },
        {
          "output_type": "stream",
          "name": "stderr",
          "text": [
            "100%|██████████| 2000/2000 [00:19<00:00, 100.53batch/s]\n",
            "100%|██████████| 500/500 [00:03<00:00, 134.03batch/s]\n"
          ]
        },
        {
          "output_type": "stream",
          "name": "stdout",
          "text": [
            "\n",
            "Epoch: 221\n"
          ]
        },
        {
          "output_type": "stream",
          "name": "stderr",
          "text": [
            "100%|██████████| 2000/2000 [00:19<00:00, 101.86batch/s]\n",
            "100%|██████████| 500/500 [00:03<00:00, 134.29batch/s]\n"
          ]
        },
        {
          "output_type": "stream",
          "name": "stdout",
          "text": [
            "\n",
            "Epoch: 222\n"
          ]
        },
        {
          "output_type": "stream",
          "name": "stderr",
          "text": [
            "100%|██████████| 2000/2000 [00:19<00:00, 102.17batch/s]\n",
            "100%|██████████| 500/500 [00:03<00:00, 135.17batch/s]\n"
          ]
        },
        {
          "output_type": "stream",
          "name": "stdout",
          "text": [
            "\n",
            "Epoch: 223\n"
          ]
        },
        {
          "output_type": "stream",
          "name": "stderr",
          "text": [
            "100%|██████████| 2000/2000 [00:19<00:00, 100.36batch/s]\n",
            "100%|██████████| 500/500 [00:03<00:00, 134.76batch/s]\n"
          ]
        },
        {
          "output_type": "stream",
          "name": "stdout",
          "text": [
            "\n",
            "Epoch: 224\n"
          ]
        },
        {
          "output_type": "stream",
          "name": "stderr",
          "text": [
            "100%|██████████| 2000/2000 [00:19<00:00, 101.71batch/s]\n",
            "100%|██████████| 500/500 [00:03<00:00, 133.31batch/s]\n"
          ]
        },
        {
          "output_type": "stream",
          "name": "stdout",
          "text": [
            "\n",
            "Epoch: 225\n"
          ]
        },
        {
          "output_type": "stream",
          "name": "stderr",
          "text": [
            "100%|██████████| 2000/2000 [00:19<00:00, 100.27batch/s]\n",
            "100%|██████████| 500/500 [00:03<00:00, 133.87batch/s]\n"
          ]
        },
        {
          "output_type": "stream",
          "name": "stdout",
          "text": [
            "\n",
            "Epoch: 226\n"
          ]
        },
        {
          "output_type": "stream",
          "name": "stderr",
          "text": [
            "100%|██████████| 2000/2000 [00:19<00:00, 102.06batch/s]\n",
            "100%|██████████| 500/500 [00:03<00:00, 136.61batch/s]\n"
          ]
        },
        {
          "output_type": "stream",
          "name": "stdout",
          "text": [
            "\n",
            "Epoch: 227\n"
          ]
        },
        {
          "output_type": "stream",
          "name": "stderr",
          "text": [
            "100%|██████████| 2000/2000 [00:18<00:00, 105.37batch/s]\n",
            "100%|██████████| 500/500 [00:03<00:00, 138.30batch/s]\n"
          ]
        },
        {
          "output_type": "stream",
          "name": "stdout",
          "text": [
            "\n",
            "Epoch: 228\n"
          ]
        },
        {
          "output_type": "stream",
          "name": "stderr",
          "text": [
            "100%|██████████| 2000/2000 [00:18<00:00, 107.89batch/s]\n",
            "100%|██████████| 500/500 [00:03<00:00, 140.47batch/s]\n"
          ]
        },
        {
          "output_type": "stream",
          "name": "stdout",
          "text": [
            "\n",
            "Epoch: 229\n"
          ]
        },
        {
          "output_type": "stream",
          "name": "stderr",
          "text": [
            "100%|██████████| 2000/2000 [00:18<00:00, 106.41batch/s]\n",
            "100%|██████████| 500/500 [00:03<00:00, 141.06batch/s]\n"
          ]
        },
        {
          "output_type": "stream",
          "name": "stdout",
          "text": [
            "\n",
            "Epoch: 230\n"
          ]
        },
        {
          "output_type": "stream",
          "name": "stderr",
          "text": [
            "100%|██████████| 2000/2000 [00:18<00:00, 107.17batch/s]\n",
            "100%|██████████| 500/500 [00:03<00:00, 136.57batch/s]\n"
          ]
        },
        {
          "output_type": "stream",
          "name": "stdout",
          "text": [
            "\n",
            "Epoch: 231\n"
          ]
        },
        {
          "output_type": "stream",
          "name": "stderr",
          "text": [
            "100%|██████████| 2000/2000 [00:18<00:00, 107.77batch/s]\n",
            "100%|██████████| 500/500 [00:03<00:00, 134.44batch/s]\n"
          ]
        },
        {
          "output_type": "stream",
          "name": "stdout",
          "text": [
            "\n",
            "Epoch: 232\n"
          ]
        },
        {
          "output_type": "stream",
          "name": "stderr",
          "text": [
            "100%|██████████| 2000/2000 [00:19<00:00, 104.20batch/s]\n",
            "100%|██████████| 500/500 [00:03<00:00, 136.68batch/s]\n"
          ]
        },
        {
          "output_type": "stream",
          "name": "stdout",
          "text": [
            "\n",
            "Epoch: 233\n"
          ]
        },
        {
          "output_type": "stream",
          "name": "stderr",
          "text": [
            "100%|██████████| 2000/2000 [00:19<00:00, 104.88batch/s]\n",
            "100%|██████████| 500/500 [00:03<00:00, 136.31batch/s]\n"
          ]
        },
        {
          "output_type": "stream",
          "name": "stdout",
          "text": [
            "\n",
            "Epoch: 234\n"
          ]
        },
        {
          "output_type": "stream",
          "name": "stderr",
          "text": [
            "100%|██████████| 2000/2000 [00:19<00:00, 103.90batch/s]\n",
            "100%|██████████| 500/500 [00:03<00:00, 136.76batch/s]\n"
          ]
        },
        {
          "output_type": "stream",
          "name": "stdout",
          "text": [
            "\n",
            "Epoch: 235\n"
          ]
        },
        {
          "output_type": "stream",
          "name": "stderr",
          "text": [
            "100%|██████████| 2000/2000 [00:19<00:00, 104.78batch/s]\n",
            "100%|██████████| 500/500 [00:03<00:00, 142.62batch/s]\n"
          ]
        },
        {
          "output_type": "stream",
          "name": "stdout",
          "text": [
            "\n",
            "Epoch: 236\n"
          ]
        },
        {
          "output_type": "stream",
          "name": "stderr",
          "text": [
            "100%|██████████| 2000/2000 [00:18<00:00, 106.55batch/s]\n",
            "100%|██████████| 500/500 [00:03<00:00, 138.15batch/s]\n"
          ]
        },
        {
          "output_type": "stream",
          "name": "stdout",
          "text": [
            "\n",
            "Epoch: 237\n"
          ]
        },
        {
          "output_type": "stream",
          "name": "stderr",
          "text": [
            "100%|██████████| 2000/2000 [00:18<00:00, 106.06batch/s]\n",
            "100%|██████████| 500/500 [00:03<00:00, 139.33batch/s]\n"
          ]
        },
        {
          "output_type": "stream",
          "name": "stdout",
          "text": [
            "\n",
            "Epoch: 238\n"
          ]
        },
        {
          "output_type": "stream",
          "name": "stderr",
          "text": [
            "100%|██████████| 2000/2000 [00:18<00:00, 106.61batch/s]\n",
            "100%|██████████| 500/500 [00:03<00:00, 138.18batch/s]\n"
          ]
        },
        {
          "output_type": "stream",
          "name": "stdout",
          "text": [
            "\n",
            "Epoch: 239\n"
          ]
        },
        {
          "output_type": "stream",
          "name": "stderr",
          "text": [
            "100%|██████████| 2000/2000 [00:18<00:00, 105.95batch/s]\n",
            "100%|██████████| 500/500 [00:03<00:00, 137.60batch/s]\n"
          ]
        },
        {
          "output_type": "stream",
          "name": "stdout",
          "text": [
            "\n",
            "Epoch: 240\n",
            "training: \n"
          ]
        },
        {
          "output_type": "stream",
          "name": "stderr",
          "text": [
            "100%|██████████| 2000/2000 [00:19<00:00, 103.62batch/s]\n"
          ]
        },
        {
          "output_type": "stream",
          "name": "stdout",
          "text": [
            "validation: \n"
          ]
        },
        {
          "output_type": "stream",
          "name": "stderr",
          "text": [
            "100%|██████████| 500/500 [00:03<00:00, 137.13batch/s]\n"
          ]
        },
        {
          "output_type": "stream",
          "name": "stdout",
          "text": [
            "Training Loss: 0.036228 \tValidation Loss: 0.438185\n",
            "\n",
            "Epoch: 241\n"
          ]
        },
        {
          "output_type": "stream",
          "name": "stderr",
          "text": [
            "100%|██████████| 2000/2000 [00:18<00:00, 106.06batch/s]\n",
            "100%|██████████| 500/500 [00:03<00:00, 134.57batch/s]\n"
          ]
        },
        {
          "output_type": "stream",
          "name": "stdout",
          "text": [
            "\n",
            "Epoch: 242\n"
          ]
        },
        {
          "output_type": "stream",
          "name": "stderr",
          "text": [
            "100%|██████████| 2000/2000 [00:19<00:00, 104.60batch/s]\n",
            "100%|██████████| 500/500 [00:03<00:00, 134.40batch/s]\n"
          ]
        },
        {
          "output_type": "stream",
          "name": "stdout",
          "text": [
            "\n",
            "Epoch: 243\n"
          ]
        },
        {
          "output_type": "stream",
          "name": "stderr",
          "text": [
            "100%|██████████| 2000/2000 [00:19<00:00, 102.74batch/s]\n",
            "100%|██████████| 500/500 [00:03<00:00, 136.23batch/s]\n"
          ]
        },
        {
          "output_type": "stream",
          "name": "stdout",
          "text": [
            "\n",
            "Epoch: 244\n"
          ]
        },
        {
          "output_type": "stream",
          "name": "stderr",
          "text": [
            "100%|██████████| 2000/2000 [00:19<00:00, 104.79batch/s]\n",
            "100%|██████████| 500/500 [00:03<00:00, 137.15batch/s]\n"
          ]
        },
        {
          "output_type": "stream",
          "name": "stdout",
          "text": [
            "\n",
            "Epoch: 245\n"
          ]
        },
        {
          "output_type": "stream",
          "name": "stderr",
          "text": [
            "100%|██████████| 2000/2000 [00:18<00:00, 105.51batch/s]\n",
            "100%|██████████| 500/500 [00:03<00:00, 137.31batch/s]\n"
          ]
        },
        {
          "output_type": "stream",
          "name": "stdout",
          "text": [
            "\n",
            "Epoch: 246\n"
          ]
        },
        {
          "output_type": "stream",
          "name": "stderr",
          "text": [
            "100%|██████████| 2000/2000 [00:19<00:00, 105.07batch/s]\n",
            "100%|██████████| 500/500 [00:03<00:00, 134.56batch/s]\n"
          ]
        },
        {
          "output_type": "stream",
          "name": "stdout",
          "text": [
            "\n",
            "Epoch: 247\n"
          ]
        },
        {
          "output_type": "stream",
          "name": "stderr",
          "text": [
            "100%|██████████| 2000/2000 [00:18<00:00, 105.30batch/s]\n",
            "100%|██████████| 500/500 [00:03<00:00, 137.11batch/s]\n"
          ]
        },
        {
          "output_type": "stream",
          "name": "stdout",
          "text": [
            "\n",
            "Epoch: 248\n"
          ]
        },
        {
          "output_type": "stream",
          "name": "stderr",
          "text": [
            "100%|██████████| 2000/2000 [00:19<00:00, 104.43batch/s]\n",
            "100%|██████████| 500/500 [00:03<00:00, 135.56batch/s]\n"
          ]
        },
        {
          "output_type": "stream",
          "name": "stdout",
          "text": [
            "\n",
            "Epoch: 249\n"
          ]
        },
        {
          "output_type": "stream",
          "name": "stderr",
          "text": [
            "100%|██████████| 2000/2000 [00:18<00:00, 105.59batch/s]\n",
            "100%|██████████| 500/500 [00:03<00:00, 137.00batch/s]\n"
          ]
        },
        {
          "output_type": "stream",
          "name": "stdout",
          "text": [
            "\n",
            "Epoch: 250\n"
          ]
        },
        {
          "output_type": "stream",
          "name": "stderr",
          "text": [
            "100%|██████████| 2000/2000 [00:18<00:00, 105.75batch/s]\n",
            "100%|██████████| 500/500 [00:03<00:00, 140.19batch/s]\n"
          ]
        },
        {
          "output_type": "stream",
          "name": "stdout",
          "text": [
            "\n",
            "Epoch: 251\n"
          ]
        },
        {
          "output_type": "stream",
          "name": "stderr",
          "text": [
            "100%|██████████| 2000/2000 [00:19<00:00, 104.91batch/s]\n",
            "100%|██████████| 500/500 [00:03<00:00, 138.80batch/s]\n"
          ]
        },
        {
          "output_type": "stream",
          "name": "stdout",
          "text": [
            "\n",
            "Epoch: 252\n"
          ]
        },
        {
          "output_type": "stream",
          "name": "stderr",
          "text": [
            "100%|██████████| 2000/2000 [00:18<00:00, 106.68batch/s]\n",
            "100%|██████████| 500/500 [00:03<00:00, 138.22batch/s]\n"
          ]
        },
        {
          "output_type": "stream",
          "name": "stdout",
          "text": [
            "\n",
            "Epoch: 253\n"
          ]
        },
        {
          "output_type": "stream",
          "name": "stderr",
          "text": [
            "100%|██████████| 2000/2000 [00:18<00:00, 105.67batch/s]\n",
            "100%|██████████| 500/500 [00:03<00:00, 137.04batch/s]\n"
          ]
        },
        {
          "output_type": "stream",
          "name": "stdout",
          "text": [
            "\n",
            "Epoch: 254\n"
          ]
        },
        {
          "output_type": "stream",
          "name": "stderr",
          "text": [
            "100%|██████████| 2000/2000 [00:19<00:00, 103.72batch/s]\n",
            "100%|██████████| 500/500 [00:03<00:00, 138.43batch/s]\n"
          ]
        },
        {
          "output_type": "stream",
          "name": "stdout",
          "text": [
            "\n",
            "Epoch: 255\n"
          ]
        },
        {
          "output_type": "stream",
          "name": "stderr",
          "text": [
            "100%|██████████| 2000/2000 [00:18<00:00, 106.63batch/s]\n",
            "100%|██████████| 500/500 [00:03<00:00, 137.94batch/s]\n"
          ]
        },
        {
          "output_type": "stream",
          "name": "stdout",
          "text": [
            "\n",
            "Epoch: 256\n"
          ]
        },
        {
          "output_type": "stream",
          "name": "stderr",
          "text": [
            "100%|██████████| 2000/2000 [00:19<00:00, 104.94batch/s]\n",
            "100%|██████████| 500/500 [00:03<00:00, 135.74batch/s]\n"
          ]
        },
        {
          "output_type": "stream",
          "name": "stdout",
          "text": [
            "\n",
            "Epoch: 257\n"
          ]
        },
        {
          "output_type": "stream",
          "name": "stderr",
          "text": [
            "100%|██████████| 2000/2000 [00:19<00:00, 105.10batch/s]\n",
            "100%|██████████| 500/500 [00:03<00:00, 139.41batch/s]\n"
          ]
        },
        {
          "output_type": "stream",
          "name": "stdout",
          "text": [
            "\n",
            "Epoch: 258\n"
          ]
        },
        {
          "output_type": "stream",
          "name": "stderr",
          "text": [
            "100%|██████████| 2000/2000 [00:18<00:00, 108.23batch/s]\n",
            "100%|██████████| 500/500 [00:03<00:00, 137.38batch/s]\n"
          ]
        },
        {
          "output_type": "stream",
          "name": "stdout",
          "text": [
            "\n",
            "Epoch: 259\n"
          ]
        },
        {
          "output_type": "stream",
          "name": "stderr",
          "text": [
            "100%|██████████| 2000/2000 [00:19<00:00, 105.25batch/s]\n",
            "100%|██████████| 500/500 [00:03<00:00, 136.84batch/s]\n"
          ]
        },
        {
          "output_type": "stream",
          "name": "stdout",
          "text": [
            "\n",
            "Epoch: 260\n"
          ]
        },
        {
          "output_type": "stream",
          "name": "stderr",
          "text": [
            "100%|██████████| 2000/2000 [00:19<00:00, 104.83batch/s]\n",
            "100%|██████████| 500/500 [00:03<00:00, 136.94batch/s]\n"
          ]
        },
        {
          "output_type": "stream",
          "name": "stdout",
          "text": [
            "\n",
            "Epoch: 261\n"
          ]
        },
        {
          "output_type": "stream",
          "name": "stderr",
          "text": [
            "100%|██████████| 2000/2000 [00:18<00:00, 105.58batch/s]\n",
            "100%|██████████| 500/500 [00:03<00:00, 137.19batch/s]\n"
          ]
        },
        {
          "output_type": "stream",
          "name": "stdout",
          "text": [
            "\n",
            "Epoch: 262\n"
          ]
        },
        {
          "output_type": "stream",
          "name": "stderr",
          "text": [
            "100%|██████████| 2000/2000 [00:19<00:00, 104.40batch/s]\n",
            "100%|██████████| 500/500 [00:03<00:00, 136.23batch/s]\n"
          ]
        },
        {
          "output_type": "stream",
          "name": "stdout",
          "text": [
            "\n",
            "Epoch: 263\n"
          ]
        },
        {
          "output_type": "stream",
          "name": "stderr",
          "text": [
            "100%|██████████| 2000/2000 [00:18<00:00, 106.78batch/s]\n",
            "100%|██████████| 500/500 [00:03<00:00, 136.53batch/s]\n"
          ]
        },
        {
          "output_type": "stream",
          "name": "stdout",
          "text": [
            "\n",
            "Epoch: 264\n"
          ]
        },
        {
          "output_type": "stream",
          "name": "stderr",
          "text": [
            "100%|██████████| 2000/2000 [00:18<00:00, 105.38batch/s]\n",
            "100%|██████████| 500/500 [00:03<00:00, 135.41batch/s]\n"
          ]
        },
        {
          "output_type": "stream",
          "name": "stdout",
          "text": [
            "\n",
            "Epoch: 265\n"
          ]
        },
        {
          "output_type": "stream",
          "name": "stderr",
          "text": [
            "100%|██████████| 2000/2000 [00:19<00:00, 104.03batch/s]\n",
            "100%|██████████| 500/500 [00:03<00:00, 136.05batch/s]\n"
          ]
        },
        {
          "output_type": "stream",
          "name": "stdout",
          "text": [
            "\n",
            "Epoch: 266\n"
          ]
        },
        {
          "output_type": "stream",
          "name": "stderr",
          "text": [
            "100%|██████████| 2000/2000 [00:19<00:00, 105.13batch/s]\n",
            "100%|██████████| 500/500 [00:03<00:00, 136.92batch/s]\n"
          ]
        },
        {
          "output_type": "stream",
          "name": "stdout",
          "text": [
            "\n",
            "Epoch: 267\n"
          ]
        },
        {
          "output_type": "stream",
          "name": "stderr",
          "text": [
            "100%|██████████| 2000/2000 [00:19<00:00, 104.19batch/s]\n",
            "100%|██████████| 500/500 [00:03<00:00, 140.98batch/s]\n"
          ]
        },
        {
          "output_type": "stream",
          "name": "stdout",
          "text": [
            "\n",
            "Epoch: 268\n"
          ]
        },
        {
          "output_type": "stream",
          "name": "stderr",
          "text": [
            "100%|██████████| 2000/2000 [00:19<00:00, 104.19batch/s]\n",
            "100%|██████████| 500/500 [00:03<00:00, 135.97batch/s]\n"
          ]
        },
        {
          "output_type": "stream",
          "name": "stdout",
          "text": [
            "\n",
            "Epoch: 269\n"
          ]
        },
        {
          "output_type": "stream",
          "name": "stderr",
          "text": [
            "100%|██████████| 2000/2000 [00:19<00:00, 105.02batch/s]\n",
            "100%|██████████| 500/500 [00:03<00:00, 137.28batch/s]\n"
          ]
        },
        {
          "output_type": "stream",
          "name": "stdout",
          "text": [
            "\n",
            "Epoch: 270\n",
            "training: \n"
          ]
        },
        {
          "output_type": "stream",
          "name": "stderr",
          "text": [
            "100%|██████████| 2000/2000 [00:19<00:00, 104.12batch/s]\n"
          ]
        },
        {
          "output_type": "stream",
          "name": "stdout",
          "text": [
            "validation: \n"
          ]
        },
        {
          "output_type": "stream",
          "name": "stderr",
          "text": [
            "100%|██████████| 500/500 [00:03<00:00, 129.77batch/s]\n"
          ]
        },
        {
          "output_type": "stream",
          "name": "stdout",
          "text": [
            "Training Loss: 0.034210 \tValidation Loss: 0.463816\n",
            "\n",
            "Epoch: 271\n"
          ]
        },
        {
          "output_type": "stream",
          "name": "stderr",
          "text": [
            "100%|██████████| 2000/2000 [00:18<00:00, 105.29batch/s]\n",
            "100%|██████████| 500/500 [00:03<00:00, 139.07batch/s]\n"
          ]
        },
        {
          "output_type": "stream",
          "name": "stdout",
          "text": [
            "\n",
            "Epoch: 272\n"
          ]
        },
        {
          "output_type": "stream",
          "name": "stderr",
          "text": [
            "100%|██████████| 2000/2000 [00:18<00:00, 105.61batch/s]\n",
            "100%|██████████| 500/500 [00:03<00:00, 136.68batch/s]\n"
          ]
        },
        {
          "output_type": "stream",
          "name": "stdout",
          "text": [
            "\n",
            "Epoch: 273\n"
          ]
        },
        {
          "output_type": "stream",
          "name": "stderr",
          "text": [
            "100%|██████████| 2000/2000 [00:19<00:00, 104.94batch/s]\n",
            "100%|██████████| 500/500 [00:03<00:00, 136.20batch/s]\n"
          ]
        },
        {
          "output_type": "stream",
          "name": "stdout",
          "text": [
            "\n",
            "Epoch: 274\n"
          ]
        },
        {
          "output_type": "stream",
          "name": "stderr",
          "text": [
            "100%|██████████| 2000/2000 [00:18<00:00, 105.95batch/s]\n",
            "100%|██████████| 500/500 [00:03<00:00, 138.34batch/s]\n"
          ]
        },
        {
          "output_type": "stream",
          "name": "stdout",
          "text": [
            "\n",
            "Epoch: 275\n"
          ]
        },
        {
          "output_type": "stream",
          "name": "stderr",
          "text": [
            "100%|██████████| 2000/2000 [00:18<00:00, 106.07batch/s]\n",
            "100%|██████████| 500/500 [00:03<00:00, 137.80batch/s]\n"
          ]
        },
        {
          "output_type": "stream",
          "name": "stdout",
          "text": [
            "\n",
            "Epoch: 276\n"
          ]
        },
        {
          "output_type": "stream",
          "name": "stderr",
          "text": [
            "100%|██████████| 2000/2000 [00:19<00:00, 104.51batch/s]\n",
            "100%|██████████| 500/500 [00:03<00:00, 137.60batch/s]\n"
          ]
        },
        {
          "output_type": "stream",
          "name": "stdout",
          "text": [
            "\n",
            "Epoch: 277\n"
          ]
        },
        {
          "output_type": "stream",
          "name": "stderr",
          "text": [
            "100%|██████████| 2000/2000 [00:18<00:00, 105.44batch/s]\n",
            "100%|██████████| 500/500 [00:03<00:00, 135.00batch/s]\n"
          ]
        },
        {
          "output_type": "stream",
          "name": "stdout",
          "text": [
            "\n",
            "Epoch: 278\n"
          ]
        },
        {
          "output_type": "stream",
          "name": "stderr",
          "text": [
            "100%|██████████| 2000/2000 [00:18<00:00, 105.77batch/s]\n",
            "100%|██████████| 500/500 [00:03<00:00, 136.28batch/s]\n"
          ]
        },
        {
          "output_type": "stream",
          "name": "stdout",
          "text": [
            "\n",
            "Epoch: 279\n"
          ]
        },
        {
          "output_type": "stream",
          "name": "stderr",
          "text": [
            "100%|██████████| 2000/2000 [00:19<00:00, 105.16batch/s]\n",
            "100%|██████████| 500/500 [00:03<00:00, 134.25batch/s]\n"
          ]
        },
        {
          "output_type": "stream",
          "name": "stdout",
          "text": [
            "\n",
            "Epoch: 280\n"
          ]
        },
        {
          "output_type": "stream",
          "name": "stderr",
          "text": [
            "100%|██████████| 2000/2000 [00:19<00:00, 104.31batch/s]\n",
            "100%|██████████| 500/500 [00:03<00:00, 137.61batch/s]\n"
          ]
        },
        {
          "output_type": "stream",
          "name": "stdout",
          "text": [
            "\n",
            "Epoch: 281\n"
          ]
        },
        {
          "output_type": "stream",
          "name": "stderr",
          "text": [
            "100%|██████████| 2000/2000 [00:19<00:00, 104.92batch/s]\n",
            "100%|██████████| 500/500 [00:03<00:00, 137.65batch/s]\n"
          ]
        },
        {
          "output_type": "stream",
          "name": "stdout",
          "text": [
            "\n",
            "Epoch: 282\n"
          ]
        },
        {
          "output_type": "stream",
          "name": "stderr",
          "text": [
            "100%|██████████| 2000/2000 [00:19<00:00, 104.07batch/s]\n",
            "100%|██████████| 500/500 [00:03<00:00, 138.04batch/s]\n"
          ]
        },
        {
          "output_type": "stream",
          "name": "stdout",
          "text": [
            "\n",
            "Epoch: 283\n"
          ]
        },
        {
          "output_type": "stream",
          "name": "stderr",
          "text": [
            "100%|██████████| 2000/2000 [00:19<00:00, 104.92batch/s]\n",
            "100%|██████████| 500/500 [00:03<00:00, 135.75batch/s]\n"
          ]
        },
        {
          "output_type": "stream",
          "name": "stdout",
          "text": [
            "\n",
            "Epoch: 284\n"
          ]
        },
        {
          "output_type": "stream",
          "name": "stderr",
          "text": [
            "100%|██████████| 2000/2000 [00:18<00:00, 105.97batch/s]\n",
            "100%|██████████| 500/500 [00:03<00:00, 137.29batch/s]\n"
          ]
        },
        {
          "output_type": "stream",
          "name": "stdout",
          "text": [
            "\n",
            "Epoch: 285\n"
          ]
        },
        {
          "output_type": "stream",
          "name": "stderr",
          "text": [
            "100%|██████████| 2000/2000 [00:19<00:00, 104.93batch/s]\n",
            "100%|██████████| 500/500 [00:03<00:00, 137.64batch/s]\n"
          ]
        },
        {
          "output_type": "stream",
          "name": "stdout",
          "text": [
            "\n",
            "Epoch: 286\n"
          ]
        },
        {
          "output_type": "stream",
          "name": "stderr",
          "text": [
            "100%|██████████| 2000/2000 [00:18<00:00, 106.11batch/s]\n",
            "100%|██████████| 500/500 [00:03<00:00, 135.89batch/s]\n"
          ]
        },
        {
          "output_type": "stream",
          "name": "stdout",
          "text": [
            "\n",
            "Epoch: 287\n"
          ]
        },
        {
          "output_type": "stream",
          "name": "stderr",
          "text": [
            "100%|██████████| 2000/2000 [00:19<00:00, 103.83batch/s]\n",
            "100%|██████████| 500/500 [00:03<00:00, 136.21batch/s]\n"
          ]
        },
        {
          "output_type": "stream",
          "name": "stdout",
          "text": [
            "\n",
            "Epoch: 288\n"
          ]
        },
        {
          "output_type": "stream",
          "name": "stderr",
          "text": [
            "100%|██████████| 2000/2000 [00:18<00:00, 105.78batch/s]\n",
            "100%|██████████| 500/500 [00:03<00:00, 137.73batch/s]\n"
          ]
        },
        {
          "output_type": "stream",
          "name": "stdout",
          "text": [
            "\n",
            "Epoch: 289\n"
          ]
        },
        {
          "output_type": "stream",
          "name": "stderr",
          "text": [
            "100%|██████████| 2000/2000 [00:19<00:00, 104.66batch/s]\n",
            "100%|██████████| 500/500 [00:03<00:00, 136.84batch/s]\n"
          ]
        },
        {
          "output_type": "stream",
          "name": "stdout",
          "text": [
            "\n",
            "Epoch: 290\n"
          ]
        },
        {
          "output_type": "stream",
          "name": "stderr",
          "text": [
            "100%|██████████| 2000/2000 [00:19<00:00, 104.45batch/s]\n",
            "100%|██████████| 500/500 [00:03<00:00, 137.93batch/s]\n"
          ]
        },
        {
          "output_type": "stream",
          "name": "stdout",
          "text": [
            "\n",
            "Epoch: 291\n"
          ]
        },
        {
          "output_type": "stream",
          "name": "stderr",
          "text": [
            "100%|██████████| 2000/2000 [00:19<00:00, 104.75batch/s]\n",
            "100%|██████████| 500/500 [00:03<00:00, 135.24batch/s]\n"
          ]
        },
        {
          "output_type": "stream",
          "name": "stdout",
          "text": [
            "\n",
            "Epoch: 292\n"
          ]
        },
        {
          "output_type": "stream",
          "name": "stderr",
          "text": [
            "100%|██████████| 2000/2000 [00:19<00:00, 104.91batch/s]\n",
            "100%|██████████| 500/500 [00:03<00:00, 134.43batch/s]\n"
          ]
        },
        {
          "output_type": "stream",
          "name": "stdout",
          "text": [
            "\n",
            "Epoch: 293\n"
          ]
        },
        {
          "output_type": "stream",
          "name": "stderr",
          "text": [
            "100%|██████████| 2000/2000 [00:19<00:00, 104.38batch/s]\n",
            "100%|██████████| 500/500 [00:03<00:00, 136.43batch/s]\n"
          ]
        },
        {
          "output_type": "stream",
          "name": "stdout",
          "text": [
            "\n",
            "Epoch: 294\n"
          ]
        },
        {
          "output_type": "stream",
          "name": "stderr",
          "text": [
            "100%|██████████| 2000/2000 [00:19<00:00, 104.74batch/s]\n",
            "100%|██████████| 500/500 [00:03<00:00, 135.59batch/s]\n"
          ]
        },
        {
          "output_type": "stream",
          "name": "stdout",
          "text": [
            "\n",
            "Epoch: 295\n"
          ]
        },
        {
          "output_type": "stream",
          "name": "stderr",
          "text": [
            "100%|██████████| 2000/2000 [00:18<00:00, 105.35batch/s]\n",
            "100%|██████████| 500/500 [00:03<00:00, 136.15batch/s]\n"
          ]
        },
        {
          "output_type": "stream",
          "name": "stdout",
          "text": [
            "\n",
            "Epoch: 296\n"
          ]
        },
        {
          "output_type": "stream",
          "name": "stderr",
          "text": [
            "100%|██████████| 2000/2000 [00:19<00:00, 103.32batch/s]\n",
            "100%|██████████| 500/500 [00:03<00:00, 138.06batch/s]\n"
          ]
        },
        {
          "output_type": "stream",
          "name": "stdout",
          "text": [
            "\n",
            "Epoch: 297\n"
          ]
        },
        {
          "output_type": "stream",
          "name": "stderr",
          "text": [
            "100%|██████████| 2000/2000 [00:19<00:00, 104.13batch/s]\n",
            "100%|██████████| 500/500 [00:03<00:00, 136.03batch/s]\n"
          ]
        },
        {
          "output_type": "stream",
          "name": "stdout",
          "text": [
            "\n",
            "Epoch: 298\n"
          ]
        },
        {
          "output_type": "stream",
          "name": "stderr",
          "text": [
            "100%|██████████| 2000/2000 [00:19<00:00, 104.48batch/s]\n",
            "100%|██████████| 500/500 [00:03<00:00, 135.18batch/s]\n"
          ]
        },
        {
          "output_type": "stream",
          "name": "stdout",
          "text": [
            "\n",
            "Epoch: 299\n"
          ]
        },
        {
          "output_type": "stream",
          "name": "stderr",
          "text": [
            "100%|██████████| 2000/2000 [00:19<00:00, 103.22batch/s]\n",
            "100%|██████████| 500/500 [00:03<00:00, 138.82batch/s]\n"
          ]
        },
        {
          "output_type": "stream",
          "name": "stdout",
          "text": [
            "\n",
            "Epoch: 300\n",
            "training: \n"
          ]
        },
        {
          "output_type": "stream",
          "name": "stderr",
          "text": [
            "100%|██████████| 2000/2000 [00:19<00:00, 105.13batch/s]\n"
          ]
        },
        {
          "output_type": "stream",
          "name": "stdout",
          "text": [
            "validation: \n"
          ]
        },
        {
          "output_type": "stream",
          "name": "stderr",
          "text": [
            "100%|██████████| 500/500 [00:03<00:00, 136.08batch/s]"
          ]
        },
        {
          "output_type": "stream",
          "name": "stdout",
          "text": [
            "Training Loss: 0.031883 \tValidation Loss: 0.507617\n",
            "CPU times: user 1h 52min 44s, sys: 1min 48s, total: 1h 54min 33s\n",
            "Wall time: 1h 55min 10s\n"
          ]
        },
        {
          "output_type": "stream",
          "name": "stderr",
          "text": [
            "\n"
          ]
        }
      ]
    },
    {
      "cell_type": "code",
      "source": [
        "model2.load_state_dict(torch.load('model_cifar.pt'))"
      ],
      "metadata": {
        "colab": {
          "base_uri": "https://localhost:8080/"
        },
        "id": "JZE_u_R6E7El",
        "outputId": "85c31d7f-8db3-4cc8-97f3-db26e355d928"
      },
      "execution_count": null,
      "outputs": [
        {
          "output_type": "execute_result",
          "data": {
            "text/plain": [
              "<All keys matched successfully>"
            ]
          },
          "metadata": {},
          "execution_count": 15
        }
      ]
    },
    {
      "cell_type": "code",
      "source": [
        "# track test loss\n",
        "test_loss = 0.0\n",
        "class_correct = list(0. for i in range(10))\n",
        "class_total = list(0. for i in range(10))\n",
        "\n",
        "model2.eval()\n",
        "# iterate over test data\n",
        "for data, target in test_loader:\n",
        "    # move tensors to GPU if CUDA is available\n",
        "    data, target = data.to(device), target.to(device)\n",
        "    # forward pass: compute predicted outputs by passing inputs to the model\n",
        "    output = model2(data)\n",
        "    # calculate the batch loss\n",
        "    loss = criterion(output, target)\n",
        "    # update test loss \n",
        "    test_loss += loss.item()*data.size(0)\n",
        "    # convert output probabilities to predicted class\n",
        "    _, pred = torch.max(output, 1)    \n",
        "    # compare predictions to true label\n",
        "    correct_tensor = pred.eq(target.data.view_as(pred))\n",
        "    correct = np.squeeze(correct_tensor.numpy()) if not device else np.squeeze(correct_tensor.cpu().numpy())\n",
        "    # calculate test accuracy for each object class\n",
        "    for i in range(batch_size):\n",
        "        label = target.data[i]\n",
        "        class_correct[label] += correct[i].item()\n",
        "        class_total[label] += 1\n",
        "\n",
        "# average test loss\n",
        "test_loss = test_loss/len(test_loader.dataset)\n",
        "print('Test Loss: {:.6f}\\n'.format(test_loss))\n",
        "\n",
        "for i in range(10):\n",
        "    if class_total[i] > 0:\n",
        "        print('Test Accuracy of %5s: %2d%% (%2d/%2d)' % (\n",
        "            classes[i], 100 * class_correct[i] / class_total[i],\n",
        "            np.sum(class_correct[i]), np.sum(class_total[i])))\n",
        "    else:\n",
        "        print('Test Accuracy of %5s: N/A (no training examples)' % (classes[i]))\n",
        "\n",
        "print('\\nTest Accuracy (Overall): %2d%% (%2d/%2d)' % (\n",
        "    100. * np.sum(class_correct) / np.sum(class_total),\n",
        "    np.sum(class_correct), np.sum(class_total)))"
      ],
      "metadata": {
        "colab": {
          "base_uri": "https://localhost:8080/"
        },
        "id": "C4bQt4mwFD0Y",
        "outputId": "e99bd9f5-f862-4eea-b94d-d43d5d4724ef"
      },
      "execution_count": null,
      "outputs": [
        {
          "output_type": "stream",
          "name": "stdout",
          "text": [
            "Test Loss: 0.811780\n",
            "\n",
            "Test Accuracy of airplane: 81% (816/1000)\n",
            "Test Accuracy of automobile: 77% (773/1000)\n",
            "Test Accuracy of  bird: 66% (666/1000)\n",
            "Test Accuracy of   cat: 67% (676/1000)\n",
            "Test Accuracy of  deer: 66% (664/1000)\n",
            "Test Accuracy of   dog: 56% (564/1000)\n",
            "Test Accuracy of  frog: 80% (808/1000)\n",
            "Test Accuracy of horse: 77% (779/1000)\n",
            "Test Accuracy of  ship: 81% (813/1000)\n",
            "Test Accuracy of truck: 86% (865/1000)\n",
            "\n",
            "Test Accuracy (Overall): 74% (7424/10000)\n"
          ]
        }
      ]
    },
    {
      "cell_type": "markdown",
      "source": [
        "a. Build a ResNet based Convolutional Neural Network, like what we built in lectures (with skip connections), to classify the images across all 10 classes in CIFAR 10. For this problem, let’s use 10 blocks for ResNet and call it ResNet-10. Use the similar dimensions and channels as we need in lectures. Train your network for 300 epochs. Report your training time, training loss, and evaluation accuracy after 300 epochs. Analyze your results in your report and compare them against problem 1.b on training time, achieved accuracy, and model size. Make sure to submit your code by providing the GitHub URL of your course repository for this course."
      ],
      "metadata": {
        "id": "6a-N-Sr8NUhf"
      }
    },
    {
      "cell_type": "code",
      "source": [
        "device = torch.device(\"cuda\") if torch.cuda.is_available() else torch.device(\"cpu\")\n",
        "print(device)"
      ],
      "metadata": {
        "colab": {
          "base_uri": "https://localhost:8080/"
        },
        "id": "veapKr5F0UOt",
        "outputId": "948ee484-0bc5-43f2-90ac-26000de6eb6a"
      },
      "execution_count": null,
      "outputs": [
        {
          "output_type": "stream",
          "name": "stdout",
          "text": [
            "cuda\n"
          ]
        }
      ]
    },
    {
      "cell_type": "code",
      "source": [
        "class_names = ['airplane','automobile','bird','cat','deer',\n",
        "               'dog','frog','horse','ship','truck']"
      ],
      "metadata": {
        "id": "kvFjCH_Y3a_A"
      },
      "execution_count": null,
      "outputs": []
    },
    {
      "cell_type": "code",
      "source": [
        "from torchvision import datasets, transforms\n",
        "data_path = '../data-unversioned/p1ch6/'\n",
        "\n",
        "#Training Set\n",
        "cifar10_train = datasets.CIFAR10(\n",
        "    data_path, train=True, download=True,\n",
        "    transform=transforms.Compose([\n",
        "        transforms.ToTensor(),\n",
        "        transforms.Normalize((0.4915, 0.4823, 0.4468),\n",
        "                             (0.2470, 0.2435, 0.2616))\n",
        "    ]))"
      ],
      "metadata": {
        "colab": {
          "base_uri": "https://localhost:8080/",
          "height": 104,
          "referenced_widgets": [
            "3ba2b62b94114c91b06942c94cc9b174",
            "8c902c00ac2f4775a35564f829101320",
            "a71f949ea66d41febaabb781b41f0b2a",
            "f5577be5e81d4d03a9dc1d9612af2db2",
            "ec68e24e131d47a08e03946961da145b",
            "6f4a3d2e9aa345c89d8fe46941753891",
            "3da3f1c5ec5f42a3b370ef13894d889c",
            "037a62778feb46aba48f49fdb85d10cb",
            "b3dc31632aa84734b319193ce95e188a",
            "be1afce9b67d4a468acab348f15cd3c8",
            "665f3c97aea240a0b4150f6d2a6c87ea"
          ]
        },
        "id": "PyKHYbOg3ayz",
        "outputId": "8564b2a2-a4d6-41e3-b14e-46622b8b7148"
      },
      "execution_count": null,
      "outputs": [
        {
          "output_type": "stream",
          "name": "stdout",
          "text": [
            "Downloading https://www.cs.toronto.edu/~kriz/cifar-10-python.tar.gz to ../data-unversioned/p1ch6/cifar-10-python.tar.gz\n"
          ]
        },
        {
          "output_type": "display_data",
          "data": {
            "text/plain": [
              "  0%|          | 0/170498071 [00:00<?, ?it/s]"
            ],
            "application/vnd.jupyter.widget-view+json": {
              "version_major": 2,
              "version_minor": 0,
              "model_id": "3ba2b62b94114c91b06942c94cc9b174"
            }
          },
          "metadata": {}
        },
        {
          "output_type": "stream",
          "name": "stdout",
          "text": [
            "Extracting ../data-unversioned/p1ch6/cifar-10-python.tar.gz to ../data-unversioned/p1ch6/\n"
          ]
        }
      ]
    },
    {
      "cell_type": "code",
      "source": [
        "#Validation Set\n",
        "cifar10_val = datasets.CIFAR10(\n",
        "    data_path, train=False, download=True,\n",
        "    transform=transforms.Compose([\n",
        "        transforms.ToTensor(),\n",
        "        transforms.Normalize((0.4915, 0.4823, 0.4468),\n",
        "                             (0.2470, 0.2435, 0.2616))\n",
        "    ]))"
      ],
      "metadata": {
        "colab": {
          "base_uri": "https://localhost:8080/"
        },
        "id": "-ctUfl883d7o",
        "outputId": "a15f7e55-aaea-4225-9d5a-fe29bfec84b2"
      },
      "execution_count": null,
      "outputs": [
        {
          "output_type": "stream",
          "name": "stdout",
          "text": [
            "Files already downloaded and verified\n"
          ]
        }
      ]
    },
    {
      "cell_type": "code",
      "source": [
        "#Loading the Data properly to follow textbook example\n",
        "train_loader = torch.utils.data.DataLoader(cifar10_train, batch_size=64,\n",
        "                                           shuffle=False)\n",
        "valid_loader = torch.utils.data.DataLoader(cifar10_val, batch_size=64,\n",
        "                                         shuffle=False)\n",
        "all_acc_dict = collections.OrderedDict()"
      ],
      "metadata": {
        "id": "dfQSbNZFzPzB"
      },
      "execution_count": null,
      "outputs": []
    },
    {
      "cell_type": "code",
      "execution_count": null,
      "metadata": {
        "id": "aIs4lcYkGBm9"
      },
      "outputs": [],
      "source": [
        "#Creating training loop function to run example from lecture\n",
        "import datetime\n",
        "\n",
        "def training_loop(n_epochs, optimizer, model, loss_fn, train_loader):\n",
        "    for epoch in range(1, n_epochs + 1):\n",
        "        loss_train = 0.0\n",
        "        for imgs, labels in train_loader:\n",
        "            imgs = imgs.to(device=device)\n",
        "            labels = labels.to(device=device)\n",
        "            outputs = model(imgs)\n",
        "            loss = loss_fn(outputs, labels)\n",
        "\n",
        "            optimizer.zero_grad()\n",
        "            loss.backward()\n",
        "            optimizer.step()\n",
        "\n",
        "            loss_train += loss.item()\n",
        "\n",
        "        if epoch == 1 or epoch % 25 == 0:\n",
        "            print('\\nEpoch {}, \\nTraining loss {}'.format(epoch,\n",
        "                loss_train / len(train_loader)))\n",
        "            validate(model, train_loader, valid_loader)"
      ]
    },
    {
      "cell_type": "code",
      "source": [
        "#Defining Validation training model\n",
        "def validate(model, train_loader, val_loader):\n",
        "    accdict = {}\n",
        "    for name, loader in [(\"train\", train_loader), (\"val\", valid_loader)]:\n",
        "        correct = 0\n",
        "        total = 0\n",
        "\n",
        "        with torch.no_grad():\n",
        "            for imgs, labels in tqdm(loader):\n",
        "                imgs = imgs.to(device=device)\n",
        "                labels = labels.to(device=device)\n",
        "                outputs = model(imgs)\n",
        "                _, predicted = torch.max(outputs, dim=1) # <1>\n",
        "                total += labels.shape[0]\n",
        "                correct += int((predicted == labels).sum())\n",
        "\n",
        "        print(\"Accuracy {}: {:.2f}\".format(name , correct / total))\n",
        "        accdict[name] = correct / total\n",
        "    return accdict"
      ],
      "metadata": {
        "id": "u7jJwARMyqUI"
      },
      "execution_count": null,
      "outputs": []
    },
    {
      "cell_type": "code",
      "source": [
        "#Using the texbook example that is also found in the lecture slides\n",
        "#NetRes is replaced by NetResDeep to be used for the model.\n",
        "class NetRes(nn.Module):\n",
        "    def __init__(self, n_chans1=32):\n",
        "        super().__init__()\n",
        "        self.n_chans1 = n_chans1\n",
        "        self.conv1 = nn.Conv2d(3, n_chans1, kernel_size=3, padding=1)\n",
        "        self.conv2 = nn.Conv2d(n_chans1, n_chans1 // 2, kernel_size=3,\n",
        "                               padding=1)\n",
        "        self.conv3 = nn.Conv2d(n_chans1 // 2, n_chans1 // 2,\n",
        "                               kernel_size=3, padding=1)\n",
        "        self.fc1 = nn.Linear(4 * 4 * n_chans1 // 2, 32)\n",
        "        self.fc2 = nn.Linear(32, 2)\n",
        "        \n",
        "    def forward(self, x):\n",
        "        out = F.max_pool2d(torch.relu(self.conv1(x)), 2)\n",
        "        out = F.max_pool2d(torch.relu(self.conv2(out)), 2)\n",
        "        out1 = out\n",
        "        out = F.max_pool2d(torch.relu(self.conv3(out)) + out1, 2)\n",
        "        out = out.view(-1, 4 * 4 * self.n_chans1 // 2)\n",
        "        out = torch.relu(self.fc1(out))\n",
        "        out = self.fc2(out)\n",
        "        return out"
      ],
      "metadata": {
        "id": "WIQVHT9bbRvh"
      },
      "execution_count": null,
      "outputs": []
    },
    {
      "cell_type": "code",
      "source": [
        "#Using the texbook example that is also found in the lecture slides\n",
        "\n",
        "class ResBlock(nn.Module):\n",
        "    def __init__(self, n_chans):\n",
        "        super(ResBlock, self).__init__()\n",
        "        self.conv = nn.Conv2d(n_chans, n_chans, kernel_size=3,\n",
        "                              padding=1, bias=False)  # <1>\n",
        "        self.batch_norm = nn.BatchNorm2d(num_features=n_chans)\n",
        "        torch.nn.init.kaiming_normal_(self.conv.weight,\n",
        "                                      nonlinearity='relu')  # <2>\n",
        "        torch.nn.init.constant_(self.batch_norm.weight, 0.5)\n",
        "        torch.nn.init.zeros_(self.batch_norm.bias)\n",
        "\n",
        "    def forward(self, x):\n",
        "        out = self.conv(x)\n",
        "        out = self.batch_norm(out)\n",
        "        out = torch.relu(out)\n",
        "        return out + x"
      ],
      "metadata": {
        "id": "v0TjUs06bTP5"
      },
      "execution_count": null,
      "outputs": []
    },
    {
      "cell_type": "code",
      "source": [
        "#Using the texbook example that is also found in the lecture slides\n",
        "#Constructing ResNet to handle 10 blocks\n",
        "\n",
        "#Online example used as reference to constructing ResNet and ResNetBlock\n",
        "# class Net2(nn.Module):\n",
        "#     def __init__(self):\n",
        "#         super(Net2, self).__init__()\n",
        "#         # convolutional layer\n",
        "#         self.conv1 = nn.Conv2d(3, 16, 3, padding=1)\n",
        "#         self.conv2 = nn.Conv2d(16, 32, 3, padding=1)\n",
        "#         self.conv3 = nn.Conv2d(32, 64, 3, padding=1) #Adding one more layer to compare to Net1\n",
        "#         # max pooling layer\n",
        "#         self.pool = nn.MaxPool2d(2, 2)\n",
        "#         # fully connected layers\n",
        "#         self.fc1 = nn.Linear(64 * 4 * 4, 512)\n",
        "#         self.fc2 = nn.Linear(512, 64)\n",
        "#         self.fc3 = nn.Linear(64, 10)\n",
        "#         # dropout\n",
        "#         self.dropout = nn.Dropout(p=.5)\n",
        "\n",
        "#     def forward(self, x):\n",
        "#         # add sequence of convolutional and max pooling layers\n",
        "#         x = self.pool(F.relu(self.conv1(x)))\n",
        "#         x = self.pool(F.relu(self.conv2(x)))\n",
        "#         x = self.pool(F.relu(self.conv3(x))) #Adding one more layer to compare to Net1\n",
        "#         # flattening\n",
        "#         x = x.view(-1, 64 * 4 * 4)\n",
        "#         # fully connected layers\n",
        "#         x = self.dropout(F.relu(self.fc1(x)))\n",
        "#         x = self.dropout(F.relu(self.fc2(x)))\n",
        "#         x = self.fc3(x)\n",
        "#         return x\n",
        "\n",
        "class NetResDeep(nn.Module):\n",
        "    def __init__(self, n_chans1=32, n_blocks=10):\n",
        "        super().__init__()\n",
        "        self.n_chans1 = n_chans1\n",
        "        self.conv1 = nn.Conv2d(3, n_chans1, kernel_size=3, padding=1)\n",
        "        self.resblocks = nn.Sequential(\n",
        "            *(n_blocks * [ResBlock(n_chans=n_chans1)]))\n",
        "        self.fc1 = nn.Linear(8 * 8 * n_chans1, 32)\n",
        "        self.fc2 = nn.Linear(32, 10)\n",
        "        \n",
        "    def forward(self, x):\n",
        "        out = F.max_pool2d(torch.relu(self.conv1(x)), 2)\n",
        "        out = self.resblocks(out)\n",
        "        out = F.max_pool2d(out, 2)\n",
        "        out = out.view(-1, 8 * 8 * self.n_chans1)\n",
        "        out = torch.relu(self.fc1(out))\n",
        "        out = self.fc2(out)\n",
        "        return out"
      ],
      "metadata": {
        "id": "WYr9umYAMwui"
      },
      "execution_count": null,
      "outputs": []
    },
    {
      "cell_type": "code",
      "source": [
        "# create a complete CNN\n",
        "ResNet_10 = NetResDeep(n_chans1=32, n_blocks=10).to(device=device)\n",
        "optimizer = optim.SGD(ResNet_10.parameters(), lr=3e-3)\n",
        "criterion = nn.CrossEntropyLoss() # loss function"
      ],
      "metadata": {
        "id": "vzAInfMl5AgT"
      },
      "execution_count": null,
      "outputs": []
    },
    {
      "cell_type": "code",
      "source": [
        "#Doing the training loop\n",
        "%%time\n",
        "training_loop(\n",
        "    n_epochs = 300,\n",
        "    optimizer = optimizer,\n",
        "    model = ResNet_10,\n",
        "    loss_fn = criterion,\n",
        "    train_loader = train_loader,\n",
        ")\n",
        "all_acc_dict[\"res deep\"] = validate(ResNet_10, train_loader, val_loader)"
      ],
      "metadata": {
        "colab": {
          "base_uri": "https://localhost:8080/"
        },
        "id": "N8Jwo4e008S2",
        "outputId": "d95c70a4-2a57-4867-b3a2-0b8ec69b4ff9"
      },
      "execution_count": null,
      "outputs": [
        {
          "output_type": "stream",
          "name": "stdout",
          "text": [
            "\n",
            "Epoch 1, \n",
            "Training loss 1.724012666041284\n"
          ]
        },
        {
          "output_type": "stream",
          "name": "stderr",
          "text": [
            "100%|██████████| 782/782 [00:16<00:00, 46.86it/s]\n"
          ]
        },
        {
          "output_type": "stream",
          "name": "stdout",
          "text": [
            "Accuracy train: 0.37\n"
          ]
        },
        {
          "output_type": "stream",
          "name": "stderr",
          "text": [
            "100%|██████████| 500/500 [00:04<00:00, 105.28it/s]\n"
          ]
        },
        {
          "output_type": "stream",
          "name": "stdout",
          "text": [
            "Accuracy val: 0.35\n",
            "\n",
            "Epoch 25, \n",
            "Training loss 0.6246240562032861\n"
          ]
        },
        {
          "output_type": "stream",
          "name": "stderr",
          "text": [
            "100%|██████████| 782/782 [00:16<00:00, 47.21it/s]\n"
          ]
        },
        {
          "output_type": "stream",
          "name": "stdout",
          "text": [
            "Accuracy train: 0.74\n"
          ]
        },
        {
          "output_type": "stream",
          "name": "stderr",
          "text": [
            "100%|██████████| 500/500 [00:04<00:00, 106.19it/s]\n"
          ]
        },
        {
          "output_type": "stream",
          "name": "stdout",
          "text": [
            "Accuracy val: 0.67\n",
            "\n",
            "Epoch 50, \n",
            "Training loss 0.3529149392605438\n"
          ]
        },
        {
          "output_type": "stream",
          "name": "stderr",
          "text": [
            "100%|██████████| 782/782 [00:16<00:00, 47.48it/s]\n"
          ]
        },
        {
          "output_type": "stream",
          "name": "stdout",
          "text": [
            "Accuracy train: 0.79\n"
          ]
        },
        {
          "output_type": "stream",
          "name": "stderr",
          "text": [
            "100%|██████████| 500/500 [00:04<00:00, 110.99it/s]\n"
          ]
        },
        {
          "output_type": "stream",
          "name": "stdout",
          "text": [
            "Accuracy val: 0.71\n",
            "\n",
            "Epoch 75, \n",
            "Training loss 0.20988127807884113\n"
          ]
        },
        {
          "output_type": "stream",
          "name": "stderr",
          "text": [
            "100%|██████████| 782/782 [00:16<00:00, 46.42it/s]\n"
          ]
        },
        {
          "output_type": "stream",
          "name": "stdout",
          "text": [
            "Accuracy train: 0.76\n"
          ]
        },
        {
          "output_type": "stream",
          "name": "stderr",
          "text": [
            "100%|██████████| 500/500 [00:04<00:00, 104.37it/s]\n"
          ]
        },
        {
          "output_type": "stream",
          "name": "stdout",
          "text": [
            "Accuracy val: 0.68\n",
            "\n",
            "Epoch 100, \n",
            "Training loss 0.11966530029790576\n"
          ]
        },
        {
          "output_type": "stream",
          "name": "stderr",
          "text": [
            "100%|██████████| 782/782 [00:16<00:00, 46.78it/s]\n"
          ]
        },
        {
          "output_type": "stream",
          "name": "stdout",
          "text": [
            "Accuracy train: 0.85\n"
          ]
        },
        {
          "output_type": "stream",
          "name": "stderr",
          "text": [
            "100%|██████████| 500/500 [00:04<00:00, 104.28it/s]\n"
          ]
        },
        {
          "output_type": "stream",
          "name": "stdout",
          "text": [
            "Accuracy val: 0.75\n",
            "\n",
            "Epoch 125, \n",
            "Training loss 0.03144044604937277\n"
          ]
        },
        {
          "output_type": "stream",
          "name": "stderr",
          "text": [
            "100%|██████████| 782/782 [00:16<00:00, 46.57it/s]\n"
          ]
        },
        {
          "output_type": "stream",
          "name": "stdout",
          "text": [
            "Accuracy train: 0.92\n"
          ]
        },
        {
          "output_type": "stream",
          "name": "stderr",
          "text": [
            "100%|██████████| 500/500 [00:04<00:00, 101.54it/s]\n"
          ]
        },
        {
          "output_type": "stream",
          "name": "stdout",
          "text": [
            "Accuracy val: 0.78\n",
            "\n",
            "Epoch 150, \n",
            "Training loss 0.006733576940429752\n"
          ]
        },
        {
          "output_type": "stream",
          "name": "stderr",
          "text": [
            "100%|██████████| 782/782 [00:16<00:00, 46.44it/s]\n"
          ]
        },
        {
          "output_type": "stream",
          "name": "stdout",
          "text": [
            "Accuracy train: 0.97\n"
          ]
        },
        {
          "output_type": "stream",
          "name": "stderr",
          "text": [
            "100%|██████████| 500/500 [00:04<00:00, 105.67it/s]\n"
          ]
        },
        {
          "output_type": "stream",
          "name": "stdout",
          "text": [
            "Accuracy val: 0.80\n",
            "\n",
            "Epoch 175, \n",
            "Training loss 0.003185117733962548\n"
          ]
        },
        {
          "output_type": "stream",
          "name": "stderr",
          "text": [
            "100%|██████████| 782/782 [00:16<00:00, 46.42it/s]\n"
          ]
        },
        {
          "output_type": "stream",
          "name": "stdout",
          "text": [
            "Accuracy train: 0.99\n"
          ]
        },
        {
          "output_type": "stream",
          "name": "stderr",
          "text": [
            "100%|██████████| 500/500 [00:04<00:00, 105.59it/s]\n"
          ]
        },
        {
          "output_type": "stream",
          "name": "stdout",
          "text": [
            "Accuracy val: 0.81\n",
            "\n",
            "Epoch 200, \n",
            "Training loss 0.0019879390206753666\n"
          ]
        },
        {
          "output_type": "stream",
          "name": "stderr",
          "text": [
            "100%|██████████| 782/782 [00:16<00:00, 46.29it/s]\n"
          ]
        },
        {
          "output_type": "stream",
          "name": "stdout",
          "text": [
            "Accuracy train: 0.99\n"
          ]
        },
        {
          "output_type": "stream",
          "name": "stderr",
          "text": [
            "100%|██████████| 500/500 [00:04<00:00, 106.02it/s]\n"
          ]
        },
        {
          "output_type": "stream",
          "name": "stdout",
          "text": [
            "Accuracy val: 0.81\n",
            "\n",
            "Epoch 225, \n",
            "Training loss 0.0013963989418661258\n"
          ]
        },
        {
          "output_type": "stream",
          "name": "stderr",
          "text": [
            "100%|██████████| 782/782 [00:16<00:00, 46.48it/s]\n"
          ]
        },
        {
          "output_type": "stream",
          "name": "stdout",
          "text": [
            "Accuracy train: 1.00\n"
          ]
        },
        {
          "output_type": "stream",
          "name": "stderr",
          "text": [
            "100%|██████████| 500/500 [00:04<00:00, 104.37it/s]\n"
          ]
        },
        {
          "output_type": "stream",
          "name": "stdout",
          "text": [
            "Accuracy val: 0.81\n",
            "\n",
            "Epoch 250, \n",
            "Training loss 0.001056930509281194\n"
          ]
        },
        {
          "output_type": "stream",
          "name": "stderr",
          "text": [
            "100%|██████████| 782/782 [00:16<00:00, 46.70it/s]\n"
          ]
        },
        {
          "output_type": "stream",
          "name": "stdout",
          "text": [
            "Accuracy train: 1.00\n"
          ]
        },
        {
          "output_type": "stream",
          "name": "stderr",
          "text": [
            "100%|██████████| 500/500 [00:04<00:00, 104.78it/s]\n"
          ]
        },
        {
          "output_type": "stream",
          "name": "stdout",
          "text": [
            "Accuracy val: 0.81\n",
            "\n",
            "Epoch 275, \n",
            "Training loss 0.0008357281154842632\n"
          ]
        },
        {
          "output_type": "stream",
          "name": "stderr",
          "text": [
            "100%|██████████| 782/782 [00:16<00:00, 46.93it/s]\n"
          ]
        },
        {
          "output_type": "stream",
          "name": "stdout",
          "text": [
            "Accuracy train: 1.00\n"
          ]
        },
        {
          "output_type": "stream",
          "name": "stderr",
          "text": [
            "100%|██████████| 500/500 [00:04<00:00, 103.51it/s]\n"
          ]
        },
        {
          "output_type": "stream",
          "name": "stdout",
          "text": [
            "Accuracy val: 0.81\n",
            "\n",
            "Epoch 300, \n",
            "Training loss 0.0006786924215954254\n"
          ]
        },
        {
          "output_type": "stream",
          "name": "stderr",
          "text": [
            "100%|██████████| 782/782 [00:16<00:00, 46.20it/s]\n"
          ]
        },
        {
          "output_type": "stream",
          "name": "stdout",
          "text": [
            "Accuracy train: 1.00\n"
          ]
        },
        {
          "output_type": "stream",
          "name": "stderr",
          "text": [
            "100%|██████████| 500/500 [00:04<00:00, 104.73it/s]\n"
          ]
        },
        {
          "output_type": "stream",
          "name": "stdout",
          "text": [
            "Accuracy val: 0.81\n"
          ]
        },
        {
          "output_type": "stream",
          "name": "stderr",
          "text": [
            "100%|██████████| 782/782 [00:16<00:00, 46.28it/s]\n"
          ]
        },
        {
          "output_type": "stream",
          "name": "stdout",
          "text": [
            "Accuracy train: 1.00\n"
          ]
        },
        {
          "output_type": "stream",
          "name": "stderr",
          "text": [
            "100%|██████████| 500/500 [00:04<00:00, 104.78it/s]"
          ]
        },
        {
          "output_type": "stream",
          "name": "stdout",
          "text": [
            "Accuracy val: 0.81\n",
            "CPU times: user 1h 41min 31s, sys: 1min 6s, total: 1h 42min 38s\n",
            "Wall time: 1h 42min 27s\n"
          ]
        },
        {
          "output_type": "stream",
          "name": "stderr",
          "text": [
            "\n"
          ]
        }
      ]
    },
    {
      "cell_type": "markdown",
      "source": [
        "b. Develop three additional trainings and evaluations for your ResNet-10 to assess the impacts of regularization to your ResNet-10.\n",
        "\n",
        "Weight Decay with lambda of 0.001\n",
        "Dropout with p=0.3\n",
        "Batch Normalization\n",
        "Report and compare your training time, training loss, and evaluation accuracy after 300 epochs across these three different trainings."
      ],
      "metadata": {
        "id": "u0nEQ9EaONRH"
      }
    },
    {
      "cell_type": "code",
      "source": [
        "#Using weight penalization with a lambda of 0.001\n",
        "\n",
        "def training_loop_l2reg(n_epochs, optimizer, model, loss_fn,\n",
        "                        train_loader):\n",
        "    for epoch in range(1, n_epochs + 1):\n",
        "        loss_train = 0.0\n",
        "        for imgs, labels in train_loader:\n",
        "            imgs = imgs.to(device=device)\n",
        "            labels = labels.to(device=device)\n",
        "            outputs = model(imgs)\n",
        "            loss = loss_fn(outputs, labels)\n",
        "\n",
        "            l2_lambda = 0.001\n",
        "            l2_norm = sum(p.pow(2.0).sum()\n",
        "                          for p in model.parameters())  # <1>\n",
        "            loss = loss + l2_lambda * l2_norm\n",
        "\n",
        "            optimizer.zero_grad()\n",
        "            loss.backward()\n",
        "            optimizer.step()\n",
        "            \n",
        "            loss_train += loss.item()\n",
        "\n",
        "        if epoch == 1 or epoch % 30 == 0:\n",
        "            print('\\nEpoch {}, \\nTraining loss {}'.format(epoch,\n",
        "                loss_train / len(train_loader)))\n",
        "            validate(model, train_loader, valid_loader)\n"
      ],
      "metadata": {
        "id": "cHGSPq8xO-_6"
      },
      "execution_count": null,
      "outputs": []
    },
    {
      "cell_type": "code",
      "source": [
        "#Complete CNN with weight decay\n",
        "ResNet_10 = NetResDeep(n_chans1=32, n_blocks=10).to(device=device)\n",
        "#ResNet_10 = Net1().to(device=device)\n",
        "optimizer = optim.SGD(ResNet_10.parameters(), lr=3e-3)\n",
        "criterion = nn.CrossEntropyLoss() # loss function"
      ],
      "metadata": {
        "id": "bnzcsD-y5Ts7"
      },
      "execution_count": null,
      "outputs": []
    },
    {
      "cell_type": "code",
      "source": [
        "%%time\n",
        "#Doing the training loop with weight decay\n",
        "training_loop_l2reg(\n",
        "    n_epochs = 300, #Needs to be 300\n",
        "    optimizer = optimizer,\n",
        "    model = ResNet_10,\n",
        "    loss_fn = criterion,\n",
        "    train_loader = train_loader,\n",
        ")\n",
        "all_acc_dict[\"weight_decay\"] = validate(ResNet_10, train_loader, val_loader)"
      ],
      "metadata": {
        "colab": {
          "base_uri": "https://localhost:8080/"
        },
        "id": "ItelvoQzSHw_",
        "outputId": "603917b6-e75b-4c92-d624-2340aa8ad20e"
      },
      "execution_count": null,
      "outputs": [
        {
          "output_type": "stream",
          "name": "stdout",
          "text": [
            "\n",
            "Epoch 1, \n",
            "Training loss 1.8066200196285687\n"
          ]
        },
        {
          "output_type": "stream",
          "name": "stderr",
          "text": [
            "100%|██████████| 782/782 [00:16<00:00, 46.55it/s]\n"
          ]
        },
        {
          "output_type": "stream",
          "name": "stdout",
          "text": [
            "Accuracy train: 0.40\n"
          ]
        },
        {
          "output_type": "stream",
          "name": "stderr",
          "text": [
            "100%|██████████| 500/500 [00:04<00:00, 106.41it/s]\n"
          ]
        },
        {
          "output_type": "stream",
          "name": "stdout",
          "text": [
            "Accuracy val: 0.38\n",
            "\n",
            "Epoch 30, \n",
            "Training loss 0.673437816864999\n"
          ]
        },
        {
          "output_type": "stream",
          "name": "stderr",
          "text": [
            "100%|██████████| 782/782 [00:16<00:00, 46.47it/s]\n"
          ]
        },
        {
          "output_type": "stream",
          "name": "stdout",
          "text": [
            "Accuracy train: 0.75\n"
          ]
        },
        {
          "output_type": "stream",
          "name": "stderr",
          "text": [
            "100%|██████████| 500/500 [00:04<00:00, 105.31it/s]\n"
          ]
        },
        {
          "output_type": "stream",
          "name": "stdout",
          "text": [
            "Accuracy val: 0.69\n",
            "\n",
            "Epoch 60, \n",
            "Training loss 0.42736958531315067\n"
          ]
        },
        {
          "output_type": "stream",
          "name": "stderr",
          "text": [
            "100%|██████████| 782/782 [00:16<00:00, 46.63it/s]\n"
          ]
        },
        {
          "output_type": "stream",
          "name": "stdout",
          "text": [
            "Accuracy train: 0.85\n"
          ]
        },
        {
          "output_type": "stream",
          "name": "stderr",
          "text": [
            "100%|██████████| 500/500 [00:04<00:00, 105.87it/s]\n"
          ]
        },
        {
          "output_type": "stream",
          "name": "stdout",
          "text": [
            "Accuracy val: 0.76\n",
            "\n",
            "Epoch 90, \n",
            "Training loss 0.33332744240760803\n"
          ]
        },
        {
          "output_type": "stream",
          "name": "stderr",
          "text": [
            "100%|██████████| 782/782 [00:16<00:00, 46.40it/s]\n"
          ]
        },
        {
          "output_type": "stream",
          "name": "stdout",
          "text": [
            "Accuracy train: 0.86\n"
          ]
        },
        {
          "output_type": "stream",
          "name": "stderr",
          "text": [
            "100%|██████████| 500/500 [00:04<00:00, 106.25it/s]\n"
          ]
        },
        {
          "output_type": "stream",
          "name": "stdout",
          "text": [
            "Accuracy val: 0.78\n",
            "\n",
            "Epoch 120, \n",
            "Training loss 0.22207940916728486\n"
          ]
        },
        {
          "output_type": "stream",
          "name": "stderr",
          "text": [
            "100%|██████████| 782/782 [00:16<00:00, 46.39it/s]\n"
          ]
        },
        {
          "output_type": "stream",
          "name": "stdout",
          "text": [
            "Accuracy train: 0.93\n"
          ]
        },
        {
          "output_type": "stream",
          "name": "stderr",
          "text": [
            "100%|██████████| 500/500 [00:04<00:00, 104.79it/s]\n"
          ]
        },
        {
          "output_type": "stream",
          "name": "stdout",
          "text": [
            "Accuracy val: 0.81\n",
            "\n",
            "Epoch 150, \n",
            "Training loss 0.16398944856260744\n"
          ]
        },
        {
          "output_type": "stream",
          "name": "stderr",
          "text": [
            "100%|██████████| 782/782 [00:16<00:00, 46.18it/s]\n"
          ]
        },
        {
          "output_type": "stream",
          "name": "stdout",
          "text": [
            "Accuracy train: 0.96\n"
          ]
        },
        {
          "output_type": "stream",
          "name": "stderr",
          "text": [
            "100%|██████████| 500/500 [00:04<00:00, 104.73it/s]\n"
          ]
        },
        {
          "output_type": "stream",
          "name": "stdout",
          "text": [
            "Accuracy val: 0.83\n",
            "\n",
            "Epoch 180, \n",
            "Training loss 0.14247453767244164\n"
          ]
        },
        {
          "output_type": "stream",
          "name": "stderr",
          "text": [
            "100%|██████████| 782/782 [00:16<00:00, 46.47it/s]\n"
          ]
        },
        {
          "output_type": "stream",
          "name": "stdout",
          "text": [
            "Accuracy train: 0.97\n"
          ]
        },
        {
          "output_type": "stream",
          "name": "stderr",
          "text": [
            "100%|██████████| 500/500 [00:04<00:00, 105.29it/s]\n"
          ]
        },
        {
          "output_type": "stream",
          "name": "stdout",
          "text": [
            "Accuracy val: 0.84\n",
            "\n",
            "Epoch 210, \n",
            "Training loss 0.1274686536806471\n"
          ]
        },
        {
          "output_type": "stream",
          "name": "stderr",
          "text": [
            "100%|██████████| 782/782 [00:16<00:00, 46.25it/s]\n"
          ]
        },
        {
          "output_type": "stream",
          "name": "stdout",
          "text": [
            "Accuracy train: 0.97\n"
          ]
        },
        {
          "output_type": "stream",
          "name": "stderr",
          "text": [
            "100%|██████████| 500/500 [00:04<00:00, 107.69it/s]\n"
          ]
        },
        {
          "output_type": "stream",
          "name": "stdout",
          "text": [
            "Accuracy val: 0.84\n",
            "\n",
            "Epoch 240, \n",
            "Training loss 0.11684426614809829\n"
          ]
        },
        {
          "output_type": "stream",
          "name": "stderr",
          "text": [
            "100%|██████████| 782/782 [00:16<00:00, 46.60it/s]\n"
          ]
        },
        {
          "output_type": "stream",
          "name": "stdout",
          "text": [
            "Accuracy train: 0.97\n"
          ]
        },
        {
          "output_type": "stream",
          "name": "stderr",
          "text": [
            "100%|██████████| 500/500 [00:04<00:00, 105.71it/s]\n"
          ]
        },
        {
          "output_type": "stream",
          "name": "stdout",
          "text": [
            "Accuracy val: 0.84\n",
            "\n",
            "Epoch 270, \n",
            "Training loss 0.3252911158954091\n"
          ]
        },
        {
          "output_type": "stream",
          "name": "stderr",
          "text": [
            "100%|██████████| 782/782 [00:16<00:00, 47.37it/s]\n"
          ]
        },
        {
          "output_type": "stream",
          "name": "stdout",
          "text": [
            "Accuracy train: 0.88\n"
          ]
        },
        {
          "output_type": "stream",
          "name": "stderr",
          "text": [
            "100%|██████████| 500/500 [00:04<00:00, 107.23it/s]\n"
          ]
        },
        {
          "output_type": "stream",
          "name": "stdout",
          "text": [
            "Accuracy val: 0.78\n",
            "\n",
            "Epoch 300, \n",
            "Training loss 0.16153566118167795\n"
          ]
        },
        {
          "output_type": "stream",
          "name": "stderr",
          "text": [
            "100%|██████████| 782/782 [00:16<00:00, 46.47it/s]\n"
          ]
        },
        {
          "output_type": "stream",
          "name": "stdout",
          "text": [
            "Accuracy train: 0.96\n"
          ]
        },
        {
          "output_type": "stream",
          "name": "stderr",
          "text": [
            "100%|██████████| 500/500 [00:04<00:00, 101.91it/s]\n"
          ]
        },
        {
          "output_type": "stream",
          "name": "stdout",
          "text": [
            "Accuracy val: 0.84\n"
          ]
        },
        {
          "output_type": "stream",
          "name": "stderr",
          "text": [
            "100%|██████████| 782/782 [00:17<00:00, 45.71it/s]\n"
          ]
        },
        {
          "output_type": "stream",
          "name": "stdout",
          "text": [
            "Accuracy train: 0.96\n"
          ]
        },
        {
          "output_type": "stream",
          "name": "stderr",
          "text": [
            "100%|██████████| 500/500 [00:04<00:00, 106.12it/s]"
          ]
        },
        {
          "output_type": "stream",
          "name": "stdout",
          "text": [
            "Accuracy val: 0.84\n",
            "CPU times: user 1h 46min 43s, sys: 45.5 s, total: 1h 47min 29s\n",
            "Wall time: 1h 47min 18s\n"
          ]
        },
        {
          "output_type": "stream",
          "name": "stderr",
          "text": [
            "\n"
          ]
        }
      ]
    },
    {
      "cell_type": "code",
      "source": [
        "#Creating class for dropout regularization with dropout rate at p = 0.3\n",
        "class NetResDeepDropout(nn.Module):\n",
        "    def __init__(self, n_chans1=32, n_blocks=10):\n",
        "        super().__init__()\n",
        "        self.n_chans1 = n_chans1\n",
        "        self.conv1 = nn.Conv2d(3, n_chans1, kernel_size=3, padding=1)\n",
        "        self.resblocks = nn.Sequential(\n",
        "            *(n_blocks * [ResBlock(n_chans=n_chans1)]))\n",
        "        self.fc1 = nn.Linear(8 * 8 * n_chans1, 32)\n",
        "        self.fc2 = nn.Linear(32, 10)\n",
        "        self.dropout2d = nn.Dropout2d(p=0.3)\n",
        "        self.dropout = nn.Dropout(p=0.3)\n",
        "        \n",
        "    def forward(self, x):\n",
        "        out = F.max_pool2d(torch.relu(self.conv1(x)), 2)\n",
        "        out = self.dropout2d(out)\n",
        "        out = self.resblocks(out)\n",
        "        out = F.max_pool2d(out, 2)\n",
        "        out = self.dropout2d(out)\n",
        "        out = out.view(-1, 8 * 8 * self.n_chans1)\n",
        "        out = torch.relu(self.fc1(out))\n",
        "        out = self.dropout(out)\n",
        "        out = self.fc2(out)\n",
        "        return out"
      ],
      "metadata": {
        "id": "mrwuubnTSskm"
      },
      "execution_count": null,
      "outputs": []
    },
    {
      "cell_type": "code",
      "source": [
        "#Complete CNN with dropout\n",
        "ResNet_10 = NetResDeepDropout(n_chans1=32, n_blocks=10).to(device=device)\n",
        "optimizer = optim.SGD(ResNet_10.parameters(), lr=9e-3)\n",
        "criterion = nn.CrossEntropyLoss() # loss function"
      ],
      "metadata": {
        "id": "xfoyHMge5iCY"
      },
      "execution_count": null,
      "outputs": []
    },
    {
      "cell_type": "code",
      "source": [
        "%%time\n",
        "#Doing training loop for dropout\n",
        "training_loop(\n",
        "    n_epochs = 300, #Needs to be 300\n",
        "    optimizer = optimizer,\n",
        "    model = ResNet_10,\n",
        "    loss_fn = criterion,\n",
        "    train_loader = train_loader,\n",
        ")\n",
        "all_acc_dict[\"dropout\"] = validate(ResNet_10, train_loader, val_loader)"
      ],
      "metadata": {
        "colab": {
          "base_uri": "https://localhost:8080/"
        },
        "id": "dsrDwVIhS_4U",
        "outputId": "c3226da1-2724-4f81-e886-a83ea9ca3e32"
      },
      "execution_count": null,
      "outputs": [
        {
          "output_type": "stream",
          "name": "stdout",
          "text": [
            "\n",
            "Epoch 1, \n",
            "Training loss 2.1256615146041833\n"
          ]
        },
        {
          "output_type": "stream",
          "name": "stderr",
          "text": [
            "100%|██████████| 782/782 [00:17<00:00, 45.91it/s]\n"
          ]
        },
        {
          "output_type": "stream",
          "name": "stdout",
          "text": [
            "Accuracy train: 0.22\n"
          ]
        },
        {
          "output_type": "stream",
          "name": "stderr",
          "text": [
            "100%|██████████| 500/500 [00:04<00:00, 102.72it/s]\n"
          ]
        },
        {
          "output_type": "stream",
          "name": "stdout",
          "text": [
            "Accuracy val: 0.22\n",
            "\n",
            "Epoch 25, \n",
            "Training loss 1.311626610472379\n"
          ]
        },
        {
          "output_type": "stream",
          "name": "stderr",
          "text": [
            "100%|██████████| 782/782 [00:17<00:00, 45.72it/s]\n"
          ]
        },
        {
          "output_type": "stream",
          "name": "stdout",
          "text": [
            "Accuracy train: 0.52\n"
          ]
        },
        {
          "output_type": "stream",
          "name": "stderr",
          "text": [
            "100%|██████████| 500/500 [00:04<00:00, 103.38it/s]\n"
          ]
        },
        {
          "output_type": "stream",
          "name": "stdout",
          "text": [
            "Accuracy val: 0.48\n",
            "\n",
            "Epoch 50, \n",
            "Training loss 1.1741055611454312\n"
          ]
        },
        {
          "output_type": "stream",
          "name": "stderr",
          "text": [
            "100%|██████████| 782/782 [00:17<00:00, 45.68it/s]\n"
          ]
        },
        {
          "output_type": "stream",
          "name": "stdout",
          "text": [
            "Accuracy train: 0.58\n"
          ]
        },
        {
          "output_type": "stream",
          "name": "stderr",
          "text": [
            "100%|██████████| 500/500 [00:04<00:00, 103.14it/s]\n"
          ]
        },
        {
          "output_type": "stream",
          "name": "stdout",
          "text": [
            "Accuracy val: 0.52\n",
            "\n",
            "Epoch 75, \n",
            "Training loss 1.102782829109665\n"
          ]
        },
        {
          "output_type": "stream",
          "name": "stderr",
          "text": [
            "100%|██████████| 782/782 [00:17<00:00, 45.78it/s]\n"
          ]
        },
        {
          "output_type": "stream",
          "name": "stdout",
          "text": [
            "Accuracy train: 0.60\n"
          ]
        },
        {
          "output_type": "stream",
          "name": "stderr",
          "text": [
            "100%|██████████| 500/500 [00:04<00:00, 102.55it/s]\n"
          ]
        },
        {
          "output_type": "stream",
          "name": "stdout",
          "text": [
            "Accuracy val: 0.54\n",
            "\n",
            "Epoch 100, \n",
            "Training loss 1.0522269989218553\n"
          ]
        },
        {
          "output_type": "stream",
          "name": "stderr",
          "text": [
            "100%|██████████| 782/782 [00:17<00:00, 45.59it/s]\n"
          ]
        },
        {
          "output_type": "stream",
          "name": "stdout",
          "text": [
            "Accuracy train: 0.62\n"
          ]
        },
        {
          "output_type": "stream",
          "name": "stderr",
          "text": [
            "100%|██████████| 500/500 [00:04<00:00, 102.08it/s]\n"
          ]
        },
        {
          "output_type": "stream",
          "name": "stdout",
          "text": [
            "Accuracy val: 0.56\n",
            "\n",
            "Epoch 125, \n",
            "Training loss 1.020976752500095\n"
          ]
        },
        {
          "output_type": "stream",
          "name": "stderr",
          "text": [
            "100%|██████████| 782/782 [00:16<00:00, 46.13it/s]\n"
          ]
        },
        {
          "output_type": "stream",
          "name": "stdout",
          "text": [
            "Accuracy train: 0.63\n"
          ]
        },
        {
          "output_type": "stream",
          "name": "stderr",
          "text": [
            "100%|██████████| 500/500 [00:04<00:00, 103.05it/s]\n"
          ]
        },
        {
          "output_type": "stream",
          "name": "stdout",
          "text": [
            "Accuracy val: 0.56\n",
            "\n",
            "Epoch 150, \n",
            "Training loss 0.9864565141670539\n"
          ]
        },
        {
          "output_type": "stream",
          "name": "stderr",
          "text": [
            "100%|██████████| 782/782 [00:17<00:00, 45.88it/s]\n"
          ]
        },
        {
          "output_type": "stream",
          "name": "stdout",
          "text": [
            "Accuracy train: 0.65\n"
          ]
        },
        {
          "output_type": "stream",
          "name": "stderr",
          "text": [
            "100%|██████████| 500/500 [00:04<00:00, 102.73it/s]\n"
          ]
        },
        {
          "output_type": "stream",
          "name": "stdout",
          "text": [
            "Accuracy val: 0.58\n",
            "\n",
            "Epoch 175, \n",
            "Training loss 0.9615773670661175\n"
          ]
        },
        {
          "output_type": "stream",
          "name": "stderr",
          "text": [
            "100%|██████████| 782/782 [00:17<00:00, 45.47it/s]\n"
          ]
        },
        {
          "output_type": "stream",
          "name": "stdout",
          "text": [
            "Accuracy train: 0.66\n"
          ]
        },
        {
          "output_type": "stream",
          "name": "stderr",
          "text": [
            "100%|██████████| 500/500 [00:04<00:00, 103.07it/s]\n"
          ]
        },
        {
          "output_type": "stream",
          "name": "stdout",
          "text": [
            "Accuracy val: 0.57\n",
            "\n",
            "Epoch 200, \n",
            "Training loss 0.946815892025028\n"
          ]
        },
        {
          "output_type": "stream",
          "name": "stderr",
          "text": [
            "100%|██████████| 782/782 [00:17<00:00, 45.89it/s]\n"
          ]
        },
        {
          "output_type": "stream",
          "name": "stdout",
          "text": [
            "Accuracy train: 0.65\n"
          ]
        },
        {
          "output_type": "stream",
          "name": "stderr",
          "text": [
            "100%|██████████| 500/500 [00:04<00:00, 104.23it/s]\n"
          ]
        },
        {
          "output_type": "stream",
          "name": "stdout",
          "text": [
            "Accuracy val: 0.58\n",
            "\n",
            "Epoch 225, \n",
            "Training loss 0.9388851759683751\n"
          ]
        },
        {
          "output_type": "stream",
          "name": "stderr",
          "text": [
            "100%|██████████| 782/782 [00:17<00:00, 45.75it/s]\n"
          ]
        },
        {
          "output_type": "stream",
          "name": "stdout",
          "text": [
            "Accuracy train: 0.67\n"
          ]
        },
        {
          "output_type": "stream",
          "name": "stderr",
          "text": [
            "100%|██████████| 500/500 [00:04<00:00, 100.43it/s]\n"
          ]
        },
        {
          "output_type": "stream",
          "name": "stdout",
          "text": [
            "Accuracy val: 0.58\n",
            "\n",
            "Epoch 250, \n",
            "Training loss 0.9268599619798343\n"
          ]
        },
        {
          "output_type": "stream",
          "name": "stderr",
          "text": [
            "100%|██████████| 782/782 [00:17<00:00, 45.27it/s]\n"
          ]
        },
        {
          "output_type": "stream",
          "name": "stdout",
          "text": [
            "Accuracy train: 0.66\n"
          ]
        },
        {
          "output_type": "stream",
          "name": "stderr",
          "text": [
            "100%|██████████| 500/500 [00:04<00:00, 103.30it/s]\n"
          ]
        },
        {
          "output_type": "stream",
          "name": "stdout",
          "text": [
            "Accuracy val: 0.58\n",
            "\n",
            "Epoch 275, \n",
            "Training loss 0.9139708269130239\n"
          ]
        },
        {
          "output_type": "stream",
          "name": "stderr",
          "text": [
            "100%|██████████| 782/782 [00:17<00:00, 45.81it/s]\n"
          ]
        },
        {
          "output_type": "stream",
          "name": "stdout",
          "text": [
            "Accuracy train: 0.67\n"
          ]
        },
        {
          "output_type": "stream",
          "name": "stderr",
          "text": [
            "100%|██████████| 500/500 [00:04<00:00, 102.86it/s]\n"
          ]
        },
        {
          "output_type": "stream",
          "name": "stdout",
          "text": [
            "Accuracy val: 0.59\n",
            "\n",
            "Epoch 300, \n",
            "Training loss 0.9043191597056206\n"
          ]
        },
        {
          "output_type": "stream",
          "name": "stderr",
          "text": [
            "100%|██████████| 782/782 [00:17<00:00, 45.95it/s]\n"
          ]
        },
        {
          "output_type": "stream",
          "name": "stdout",
          "text": [
            "Accuracy train: 0.67\n"
          ]
        },
        {
          "output_type": "stream",
          "name": "stderr",
          "text": [
            "100%|██████████| 500/500 [00:04<00:00, 103.07it/s]\n"
          ]
        },
        {
          "output_type": "stream",
          "name": "stdout",
          "text": [
            "Accuracy val: 0.58\n"
          ]
        },
        {
          "output_type": "stream",
          "name": "stderr",
          "text": [
            "100%|██████████| 782/782 [00:17<00:00, 45.98it/s]\n"
          ]
        },
        {
          "output_type": "stream",
          "name": "stdout",
          "text": [
            "Accuracy train: 0.67\n"
          ]
        },
        {
          "output_type": "stream",
          "name": "stderr",
          "text": [
            "100%|██████████| 500/500 [00:04<00:00, 102.63it/s]"
          ]
        },
        {
          "output_type": "stream",
          "name": "stdout",
          "text": [
            "Accuracy val: 0.60\n",
            "CPU times: user 1h 43min 27s, sys: 45.5 s, total: 1h 44min 12s\n",
            "Wall time: 1h 44min 1s\n"
          ]
        },
        {
          "output_type": "stream",
          "name": "stderr",
          "text": [
            "\n"
          ]
        }
      ]
    },
    {
      "cell_type": "code",
      "source": [
        "#Creating class to introduce batch normalization as a regularization implementation for CNN model\n",
        "\n",
        "class NetResDeepBatchNorm(nn.Module):\n",
        "    def __init__(self, n_chans1=32, n_blocks=10):\n",
        "        super().__init__()\n",
        "        self.n_chans1 = n_chans1\n",
        "        self.conv1 = nn.Conv2d(3, n_chans1, kernel_size=3, padding=1)\n",
        "        self.conv1_norm = nn.BatchNorm2d(n_chans1)\n",
        "        self.resblocks = nn.Sequential(\n",
        "            *(n_blocks * [ResBlock(n_chans=n_chans1)]))\n",
        "        self.fc1 = nn.Linear(8 * 8 * n_chans1, 32)\n",
        "        self.fc1_norm = nn.BatchNorm1d(32)\n",
        "        self.fc2 = nn.Linear(32, 10)\n",
        "        \n",
        "    def forward(self, x):\n",
        "        out = F.max_pool2d(torch.relu(self.conv1_norm(self.conv1(x))), 2)\n",
        "        out = self.resblocks(out)\n",
        "        out = F.max_pool2d(out, 2)\n",
        "        out = out.view(-1, 8 * 8 * self.n_chans1)\n",
        "        out = torch.relu(self.fc1_norm(self.fc1(out)))\n",
        "        out = self.fc2(out)\n",
        "        return out"
      ],
      "metadata": {
        "id": "PhsWBNZmTJLq"
      },
      "execution_count": null,
      "outputs": []
    },
    {
      "cell_type": "code",
      "source": [
        "#Complete CNN with batch normalization\n",
        "ResNet_10 = NetResDeepBatchNorm(n_chans1=32, n_blocks=10).to(device=device)\n",
        "optimizer = optim.SGD(ResNet_10.parameters(), lr=3e-3)\n",
        "criterion = nn.CrossEntropyLoss() # loss function"
      ],
      "metadata": {
        "id": "jqv-kofi5ndE"
      },
      "execution_count": null,
      "outputs": []
    },
    {
      "cell_type": "code",
      "source": [
        "%%time\n",
        "#Doing training loop for batch normalization\n",
        "training_loop(\n",
        "    n_epochs = 300, #Needs to be 300\n",
        "    optimizer = optimizer,\n",
        "    model = ResNet_10,\n",
        "    loss_fn = criterion,\n",
        "    train_loader = train_loader,\n",
        ")\n",
        "all_acc_dict[\"batch_norm\"] = validate(ResNet_10, train_loader, valid_loader)"
      ],
      "metadata": {
        "colab": {
          "base_uri": "https://localhost:8080/"
        },
        "id": "puhGt5oWTmcu",
        "outputId": "5c2d26dd-f49e-49cf-8530-478b7030d8e5"
      },
      "execution_count": null,
      "outputs": [
        {
          "output_type": "stream",
          "name": "stdout",
          "text": [
            "\n",
            "Epoch 1, \n",
            "Training loss 1.5738188752432918\n"
          ]
        },
        {
          "output_type": "stream",
          "name": "stderr",
          "text": [
            "100%|██████████| 782/782 [00:10<00:00, 75.05it/s]\n"
          ]
        },
        {
          "output_type": "stream",
          "name": "stdout",
          "text": [
            "Accuracy train: 0.52\n"
          ]
        },
        {
          "output_type": "stream",
          "name": "stderr",
          "text": [
            "100%|██████████| 157/157 [00:02<00:00, 76.33it/s]\n"
          ]
        },
        {
          "output_type": "stream",
          "name": "stdout",
          "text": [
            "Accuracy val: 0.51\n",
            "\n",
            "Epoch 25, \n",
            "Training loss 0.5713161762489383\n"
          ]
        },
        {
          "output_type": "stream",
          "name": "stderr",
          "text": [
            "100%|██████████| 782/782 [00:10<00:00, 75.25it/s]\n"
          ]
        },
        {
          "output_type": "stream",
          "name": "stdout",
          "text": [
            "Accuracy train: 0.81\n"
          ]
        },
        {
          "output_type": "stream",
          "name": "stderr",
          "text": [
            "100%|██████████| 157/157 [00:02<00:00, 74.65it/s]\n"
          ]
        },
        {
          "output_type": "stream",
          "name": "stdout",
          "text": [
            "Accuracy val: 0.66\n",
            "\n",
            "Epoch 50, \n",
            "Training loss 0.30243784321657835\n"
          ]
        },
        {
          "output_type": "stream",
          "name": "stderr",
          "text": [
            "100%|██████████| 782/782 [00:10<00:00, 74.78it/s]\n"
          ]
        },
        {
          "output_type": "stream",
          "name": "stdout",
          "text": [
            "Accuracy train: 0.89\n"
          ]
        },
        {
          "output_type": "stream",
          "name": "stderr",
          "text": [
            "100%|██████████| 157/157 [00:02<00:00, 74.83it/s]\n"
          ]
        },
        {
          "output_type": "stream",
          "name": "stdout",
          "text": [
            "Accuracy val: 0.64\n",
            "\n",
            "Epoch 75, \n",
            "Training loss 0.14636629568341444\n"
          ]
        },
        {
          "output_type": "stream",
          "name": "stderr",
          "text": [
            "100%|██████████| 782/782 [00:10<00:00, 76.33it/s]\n"
          ]
        },
        {
          "output_type": "stream",
          "name": "stdout",
          "text": [
            "Accuracy train: 0.93\n"
          ]
        },
        {
          "output_type": "stream",
          "name": "stderr",
          "text": [
            "100%|██████████| 157/157 [00:02<00:00, 76.58it/s]\n"
          ]
        },
        {
          "output_type": "stream",
          "name": "stdout",
          "text": [
            "Accuracy val: 0.63\n",
            "\n",
            "Epoch 100, \n",
            "Training loss 0.06813753984601753\n"
          ]
        },
        {
          "output_type": "stream",
          "name": "stderr",
          "text": [
            "100%|██████████| 782/782 [00:10<00:00, 75.76it/s]\n"
          ]
        },
        {
          "output_type": "stream",
          "name": "stdout",
          "text": [
            "Accuracy train: 0.96\n"
          ]
        },
        {
          "output_type": "stream",
          "name": "stderr",
          "text": [
            "100%|██████████| 157/157 [00:02<00:00, 75.76it/s]\n"
          ]
        },
        {
          "output_type": "stream",
          "name": "stdout",
          "text": [
            "Accuracy val: 0.63\n",
            "\n",
            "Epoch 125, \n",
            "Training loss 0.036476085544861564\n"
          ]
        },
        {
          "output_type": "stream",
          "name": "stderr",
          "text": [
            "100%|██████████| 782/782 [00:10<00:00, 75.29it/s]\n"
          ]
        },
        {
          "output_type": "stream",
          "name": "stdout",
          "text": [
            "Accuracy train: 0.98\n"
          ]
        },
        {
          "output_type": "stream",
          "name": "stderr",
          "text": [
            "100%|██████████| 157/157 [00:02<00:00, 76.03it/s]\n"
          ]
        },
        {
          "output_type": "stream",
          "name": "stdout",
          "text": [
            "Accuracy val: 0.63\n",
            "\n",
            "Epoch 150, \n",
            "Training loss 0.022978073470127744\n"
          ]
        },
        {
          "output_type": "stream",
          "name": "stderr",
          "text": [
            "100%|██████████| 782/782 [00:10<00:00, 75.67it/s]\n"
          ]
        },
        {
          "output_type": "stream",
          "name": "stdout",
          "text": [
            "Accuracy train: 0.99\n"
          ]
        },
        {
          "output_type": "stream",
          "name": "stderr",
          "text": [
            "100%|██████████| 157/157 [00:02<00:00, 76.68it/s]\n"
          ]
        },
        {
          "output_type": "stream",
          "name": "stdout",
          "text": [
            "Accuracy val: 0.63\n",
            "\n",
            "Epoch 175, \n",
            "Training loss 0.016184477589290848\n"
          ]
        },
        {
          "output_type": "stream",
          "name": "stderr",
          "text": [
            "100%|██████████| 782/782 [00:10<00:00, 76.64it/s]\n"
          ]
        },
        {
          "output_type": "stream",
          "name": "stdout",
          "text": [
            "Accuracy train: 0.99\n"
          ]
        },
        {
          "output_type": "stream",
          "name": "stderr",
          "text": [
            "100%|██████████| 157/157 [00:01<00:00, 78.97it/s]\n"
          ]
        },
        {
          "output_type": "stream",
          "name": "stdout",
          "text": [
            "Accuracy val: 0.63\n",
            "\n",
            "Epoch 200, \n",
            "Training loss 0.012242549447976338\n"
          ]
        },
        {
          "output_type": "stream",
          "name": "stderr",
          "text": [
            "100%|██████████| 782/782 [00:10<00:00, 75.62it/s]\n"
          ]
        },
        {
          "output_type": "stream",
          "name": "stdout",
          "text": [
            "Accuracy train: 1.00\n"
          ]
        },
        {
          "output_type": "stream",
          "name": "stderr",
          "text": [
            "100%|██████████| 157/157 [00:02<00:00, 74.21it/s]\n"
          ]
        },
        {
          "output_type": "stream",
          "name": "stdout",
          "text": [
            "Accuracy val: 0.63\n",
            "\n",
            "Epoch 225, \n",
            "Training loss 0.009726994260347656\n"
          ]
        },
        {
          "output_type": "stream",
          "name": "stderr",
          "text": [
            "100%|██████████| 782/782 [00:10<00:00, 76.32it/s]\n"
          ]
        },
        {
          "output_type": "stream",
          "name": "stdout",
          "text": [
            "Accuracy train: 1.00\n"
          ]
        },
        {
          "output_type": "stream",
          "name": "stderr",
          "text": [
            "100%|██████████| 157/157 [00:02<00:00, 74.61it/s]\n"
          ]
        },
        {
          "output_type": "stream",
          "name": "stdout",
          "text": [
            "Accuracy val: 0.63\n",
            "\n",
            "Epoch 250, \n",
            "Training loss 0.007999330804602283\n"
          ]
        },
        {
          "output_type": "stream",
          "name": "stderr",
          "text": [
            "100%|██████████| 782/782 [00:10<00:00, 77.79it/s]\n"
          ]
        },
        {
          "output_type": "stream",
          "name": "stdout",
          "text": [
            "Accuracy train: 1.00\n"
          ]
        },
        {
          "output_type": "stream",
          "name": "stderr",
          "text": [
            "100%|██████████| 157/157 [00:02<00:00, 72.89it/s]\n"
          ]
        },
        {
          "output_type": "stream",
          "name": "stdout",
          "text": [
            "Accuracy val: 0.63\n",
            "\n",
            "Epoch 275, \n",
            "Training loss 0.006755129414815408\n"
          ]
        },
        {
          "output_type": "stream",
          "name": "stderr",
          "text": [
            "100%|██████████| 782/782 [00:10<00:00, 77.31it/s]\n"
          ]
        },
        {
          "output_type": "stream",
          "name": "stdout",
          "text": [
            "Accuracy train: 1.00\n"
          ]
        },
        {
          "output_type": "stream",
          "name": "stderr",
          "text": [
            "100%|██████████| 157/157 [00:02<00:00, 74.51it/s]\n"
          ]
        },
        {
          "output_type": "stream",
          "name": "stdout",
          "text": [
            "Accuracy val: 0.63\n",
            "\n",
            "Epoch 300, \n",
            "Training loss 0.005818193769016925\n"
          ]
        },
        {
          "output_type": "stream",
          "name": "stderr",
          "text": [
            "100%|██████████| 782/782 [00:10<00:00, 75.59it/s]\n"
          ]
        },
        {
          "output_type": "stream",
          "name": "stdout",
          "text": [
            "Accuracy train: 1.00\n"
          ]
        },
        {
          "output_type": "stream",
          "name": "stderr",
          "text": [
            "100%|██████████| 157/157 [00:02<00:00, 76.13it/s]\n"
          ]
        },
        {
          "output_type": "stream",
          "name": "stdout",
          "text": [
            "Accuracy val: 0.63\n"
          ]
        },
        {
          "output_type": "stream",
          "name": "stderr",
          "text": [
            "100%|██████████| 782/782 [00:10<00:00, 76.45it/s]\n"
          ]
        },
        {
          "output_type": "stream",
          "name": "stdout",
          "text": [
            "Accuracy train: 1.00\n"
          ]
        },
        {
          "output_type": "stream",
          "name": "stderr",
          "text": [
            "100%|██████████| 157/157 [00:01<00:00, 79.87it/s]"
          ]
        },
        {
          "output_type": "stream",
          "name": "stdout",
          "text": [
            "Accuracy val: 0.63\n",
            "CPU times: user 1h 9min 31s, sys: 22.1 s, total: 1h 9min 54s\n",
            "Wall time: 1h 9min 49s\n"
          ]
        },
        {
          "output_type": "stream",
          "name": "stderr",
          "text": [
            "\n"
          ]
        }
      ]
    }
  ]
}